{
  "nbformat": 4,
  "nbformat_minor": 0,
  "metadata": {
    "colab": {
      "provenance": [],
      "collapsed_sections": [
        "zgDiP1ouk5q7",
        "KpxYSYz5iv2J",
        "OuDP4PCx3Azj",
        "0Obqmo0U3n_F",
        "D2JUjsvV4c_Q",
        "snMmaeT14i-Y",
        "pFUlRLDc5XWR",
        "BTDEvJLb6dNZ",
        "byn-Uq3MNXNA",
        "aM8953i57F7b",
        "8LR-t6JNNM7i",
        "_seVfc9BRzJS",
        "mPYPooQivFMv",
        "Cc94_6ZE0t-L",
        "X8BUfeAYEeaS",
        "80TOuYVTQmnq",
        "IuqvEXxlKdll",
        "qFVvmEd3K9Lk",
        "R2VSRmIYYRdl",
        "xiVS5QRkwtTE",
        "fr2tYme06FAC",
        "YnNL-aY4_3p8",
        "HvzjDfL7jIPh",
        "mr62LtRUaEgq",
        "qJNWk511MR-8",
        "0okLR98JMdiI",
        "Xl3_j0NDMhol",
        "CC5YjrMtDctt",
        "vAtg0cPi_kW4",
        "V5-EeK0wj-fs",
        "0pOq7V4ykDRL",
        "tYIlB3HJkGic"
      ]
    },
    "kernelspec": {
      "name": "python3",
      "display_name": "Python 3"
    },
    "language_info": {
      "name": "python"
    }
  },
  "cells": [
    {
      "cell_type": "markdown",
      "source": [
        "# **Handwritten character image classification of handwritten Byzantine characters from the 10th, 11th and 12th century.**\n",
        "\n",
        "Task: build an image classifier to learn to detect a character given its image.\n"
      ],
      "metadata": {
        "id": "G5AbH_g-jgaB"
      }
    },
    {
      "cell_type": "markdown",
      "source": [
        "# Preprocessing"
      ],
      "metadata": {
        "id": "zgDiP1ouk5q7"
      }
    },
    {
      "cell_type": "code",
      "source": [
        "#unzip the file containing the data\n",
        "!unzip resources.zip"
      ],
      "metadata": {
        "id": "f7DLW2a6n9rz"
      },
      "execution_count": null,
      "outputs": []
    },
    {
      "cell_type": "code",
      "source": [
        "# access the dataframe\n",
        "import pandas as pd\n",
        "data = pd.read_excel(\"./resources/10-12CE.data.xlsx\")\n",
        "data[\"filename\"] = data[\"file name\"].apply(lambda x: f\"./resources/LT22imageclassificationtask/{x}\")\n",
        "data = data[[\"filename\", \"character\", \"century\"]]\n",
        "data.sample()"
      ],
      "metadata": {
        "colab": {
          "base_uri": "https://localhost:8080/"
        },
        "id": "zceKy5b6k_yJ",
        "outputId": "a5b05094-7fb5-472c-b03d-01d4a05cd27b"
      },
      "execution_count": null,
      "outputs": [
        {
          "output_type": "execute_result",
          "data": {
            "text/plain": [
              "                                              filename character  century\n",
              "117  ./resources/LT22imageclassificationtask/1.14.1...         δ       11"
            ],
            "text/html": [
              "\n",
              "  <div id=\"df-8b0b5ef8-75a8-42d1-80cf-167f715d172b\">\n",
              "    <div class=\"colab-df-container\">\n",
              "      <div>\n",
              "<style scoped>\n",
              "    .dataframe tbody tr th:only-of-type {\n",
              "        vertical-align: middle;\n",
              "    }\n",
              "\n",
              "    .dataframe tbody tr th {\n",
              "        vertical-align: top;\n",
              "    }\n",
              "\n",
              "    .dataframe thead th {\n",
              "        text-align: right;\n",
              "    }\n",
              "</style>\n",
              "<table border=\"1\" class=\"dataframe\">\n",
              "  <thead>\n",
              "    <tr style=\"text-align: right;\">\n",
              "      <th></th>\n",
              "      <th>filename</th>\n",
              "      <th>character</th>\n",
              "      <th>century</th>\n",
              "    </tr>\n",
              "  </thead>\n",
              "  <tbody>\n",
              "    <tr>\n",
              "      <th>117</th>\n",
              "      <td>./resources/LT22imageclassificationtask/1.14.1...</td>\n",
              "      <td>δ</td>\n",
              "      <td>11</td>\n",
              "    </tr>\n",
              "  </tbody>\n",
              "</table>\n",
              "</div>\n",
              "      <button class=\"colab-df-convert\" onclick=\"convertToInteractive('df-8b0b5ef8-75a8-42d1-80cf-167f715d172b')\"\n",
              "              title=\"Convert this dataframe to an interactive table.\"\n",
              "              style=\"display:none;\">\n",
              "        \n",
              "  <svg xmlns=\"http://www.w3.org/2000/svg\" height=\"24px\"viewBox=\"0 0 24 24\"\n",
              "       width=\"24px\">\n",
              "    <path d=\"M0 0h24v24H0V0z\" fill=\"none\"/>\n",
              "    <path d=\"M18.56 5.44l.94 2.06.94-2.06 2.06-.94-2.06-.94-.94-2.06-.94 2.06-2.06.94zm-11 1L8.5 8.5l.94-2.06 2.06-.94-2.06-.94L8.5 2.5l-.94 2.06-2.06.94zm10 10l.94 2.06.94-2.06 2.06-.94-2.06-.94-.94-2.06-.94 2.06-2.06.94z\"/><path d=\"M17.41 7.96l-1.37-1.37c-.4-.4-.92-.59-1.43-.59-.52 0-1.04.2-1.43.59L10.3 9.45l-7.72 7.72c-.78.78-.78 2.05 0 2.83L4 21.41c.39.39.9.59 1.41.59.51 0 1.02-.2 1.41-.59l7.78-7.78 2.81-2.81c.8-.78.8-2.07 0-2.86zM5.41 20L4 18.59l7.72-7.72 1.47 1.35L5.41 20z\"/>\n",
              "  </svg>\n",
              "      </button>\n",
              "      \n",
              "  <style>\n",
              "    .colab-df-container {\n",
              "      display:flex;\n",
              "      flex-wrap:wrap;\n",
              "      gap: 12px;\n",
              "    }\n",
              "\n",
              "    .colab-df-convert {\n",
              "      background-color: #E8F0FE;\n",
              "      border: none;\n",
              "      border-radius: 50%;\n",
              "      cursor: pointer;\n",
              "      display: none;\n",
              "      fill: #1967D2;\n",
              "      height: 32px;\n",
              "      padding: 0 0 0 0;\n",
              "      width: 32px;\n",
              "    }\n",
              "\n",
              "    .colab-df-convert:hover {\n",
              "      background-color: #E2EBFA;\n",
              "      box-shadow: 0px 1px 2px rgba(60, 64, 67, 0.3), 0px 1px 3px 1px rgba(60, 64, 67, 0.15);\n",
              "      fill: #174EA6;\n",
              "    }\n",
              "\n",
              "    [theme=dark] .colab-df-convert {\n",
              "      background-color: #3B4455;\n",
              "      fill: #D2E3FC;\n",
              "    }\n",
              "\n",
              "    [theme=dark] .colab-df-convert:hover {\n",
              "      background-color: #434B5C;\n",
              "      box-shadow: 0px 1px 3px 1px rgba(0, 0, 0, 0.15);\n",
              "      filter: drop-shadow(0px 1px 2px rgba(0, 0, 0, 0.3));\n",
              "      fill: #FFFFFF;\n",
              "    }\n",
              "  </style>\n",
              "\n",
              "      <script>\n",
              "        const buttonEl =\n",
              "          document.querySelector('#df-8b0b5ef8-75a8-42d1-80cf-167f715d172b button.colab-df-convert');\n",
              "        buttonEl.style.display =\n",
              "          google.colab.kernel.accessAllowed ? 'block' : 'none';\n",
              "\n",
              "        async function convertToInteractive(key) {\n",
              "          const element = document.querySelector('#df-8b0b5ef8-75a8-42d1-80cf-167f715d172b');\n",
              "          const dataTable =\n",
              "            await google.colab.kernel.invokeFunction('convertToInteractive',\n",
              "                                                     [key], {});\n",
              "          if (!dataTable) return;\n",
              "\n",
              "          const docLinkHtml = 'Like what you see? Visit the ' +\n",
              "            '<a target=\"_blank\" href=https://colab.research.google.com/notebooks/data_table.ipynb>data table notebook</a>'\n",
              "            + ' to learn more about interactive tables.';\n",
              "          element.innerHTML = '';\n",
              "          dataTable['output_type'] = 'display_data';\n",
              "          await google.colab.output.renderOutput(dataTable, element);\n",
              "          const docLink = document.createElement('div');\n",
              "          docLink.innerHTML = docLinkHtml;\n",
              "          element.appendChild(docLink);\n",
              "        }\n",
              "      </script>\n",
              "    </div>\n",
              "  </div>\n",
              "  "
            ]
          },
          "metadata": {},
          "execution_count": 5
        }
      ]
    },
    {
      "cell_type": "code",
      "source": [
        "# view an image\n",
        "!pip install IPython\n",
        "from IPython.display import Image\n",
        "Image('./resources/LT22imageclassificationtask/82.36.42.png')"
      ],
      "metadata": {
        "colab": {
          "base_uri": "https://localhost:8080/"
        },
        "id": "6rgxjnJYmG5k",
        "outputId": "1c08f37e-aba1-4a38-b823-eb87a34fd9ef"
      },
      "execution_count": null,
      "outputs": [
        {
          "output_type": "stream",
          "name": "stdout",
          "text": [
            "Looking in indexes: https://pypi.org/simple, https://us-python.pkg.dev/colab-wheels/public/simple/\n",
            "Requirement already satisfied: IPython in /usr/local/lib/python3.7/dist-packages (5.5.0)\n",
            "Requirement already satisfied: decorator in /usr/local/lib/python3.7/dist-packages (from IPython) (4.4.2)\n",
            "Requirement already satisfied: pygments in /usr/local/lib/python3.7/dist-packages (from IPython) (2.6.1)\n",
            "Requirement already satisfied: pickleshare in /usr/local/lib/python3.7/dist-packages (from IPython) (0.7.5)\n",
            "Requirement already satisfied: prompt-toolkit<2.0.0,>=1.0.4 in /usr/local/lib/python3.7/dist-packages (from IPython) (1.0.18)\n",
            "Requirement already satisfied: simplegeneric>0.8 in /usr/local/lib/python3.7/dist-packages (from IPython) (0.8.1)\n",
            "Requirement already satisfied: pexpect in /usr/local/lib/python3.7/dist-packages (from IPython) (4.8.0)\n",
            "Requirement already satisfied: traitlets>=4.2 in /usr/local/lib/python3.7/dist-packages (from IPython) (5.1.1)\n",
            "Requirement already satisfied: setuptools>=18.5 in /usr/local/lib/python3.7/dist-packages (from IPython) (57.4.0)\n",
            "Requirement already satisfied: six>=1.9.0 in /usr/local/lib/python3.7/dist-packages (from prompt-toolkit<2.0.0,>=1.0.4->IPython) (1.15.0)\n",
            "Requirement already satisfied: wcwidth in /usr/local/lib/python3.7/dist-packages (from prompt-toolkit<2.0.0,>=1.0.4->IPython) (0.2.5)\n",
            "Requirement already satisfied: ptyprocess>=0.5 in /usr/local/lib/python3.7/dist-packages (from pexpect->IPython) (0.7.0)\n"
          ]
        },
        {
          "output_type": "execute_result",
          "data": {
            "text/plain": [
              "<IPython.core.display.Image object>"
            ],
            "image/png": "[encoded data removed]"
          },
          "metadata": {},
          "execution_count": 6
        }
      ]
    },
    {
      "cell_type": "code",
      "source": [
        "# Saving the numerical form of the images, using https://pypi.org/project/opencv-python/ \n",
        "# WARNING: the following two libraries must be installed in local notebooks.\n",
        "import cv2\n",
        "from google.colab.patches import cv2_imshow \n",
        "images = data.filename.apply(cv2.imread)\n",
        "data[\"image\"] = images\n",
        "cv2_imshow(data.sample().image.iloc[0])"
      ],
      "metadata": {
        "id": "7NnBQlPKmKn0",
        "colab": {
          "base_uri": "https://localhost:8080/"
        },
        "outputId": "7a50d514-dcfb-4d63-f01b-5ca213365535"
      },
      "execution_count": null,
      "outputs": [
        {
          "output_type": "display_data",
          "data": {
            "text/plain": [
              "<PIL.Image.Image image mode=RGB size=40x49 at 0x7F185DE5AED0>"
            ],
            "image/png": "[encoded data removed]"
          },
          "metadata": {}
        }
      ]
    },
    {
      "cell_type": "code",
      "source": [
        "# Also saving the width/height of the images.\n",
        "data[\"w\"] = [i.shape[0] for i in images]\n",
        "data[\"h\"] = [i.shape[1] for i in images]"
      ],
      "metadata": {
        "id": "rimb0pM0mPuw"
      },
      "execution_count": null,
      "outputs": []
    },
    {
      "cell_type": "code",
      "source": [
        "# Resizing so that all images have the same shape.\n",
        "resize = lambda img, w=20, h=20: cv2.resize(img, (w,h), interpolation = cv2.INTER_AREA)\n",
        "data[\"image_resized\"] = data.image.apply(resize)\n",
        "cv2_imshow(data.sample().image_resized.iloc[0])"
      ],
      "metadata": {
        "id": "-b9ix0i7mS1D",
        "colab": {
          "base_uri": "https://localhost:8080/"
        },
        "outputId": "7d59d3a7-b364-4811-e496-25a482c352ab"
      },
      "execution_count": null,
      "outputs": [
        {
          "output_type": "display_data",
          "data": {
            "text/plain": [
              "<PIL.Image.Image image mode=RGB size=20x20 at 0x7F185F777E90>"
            ],
            "image/png": "[encoded data removed]"
          },
          "metadata": {}
        }
      ]
    },
    {
      "cell_type": "code",
      "source": [
        "# Flattening the images from tables to vectors of dimension w*h*3.\n",
        "data[\"image_ready\"] = data.image_resized.apply(lambda x, dim=20*20*3: x.reshape(dim))"
      ],
      "metadata": {
        "id": "zAJ1p7eemVh-"
      },
      "execution_count": null,
      "outputs": []
    },
    {
      "cell_type": "markdown",
      "source": [
        "# Chapter A\n",
        "Meaningful data exploration and visualisation"
      ],
      "metadata": {
        "id": "KpxYSYz5iv2J"
      }
    },
    {
      "cell_type": "markdown",
      "source": [
        "### How many images does our dataset contain?"
      ],
      "metadata": {
        "id": "OuDP4PCx3Azj"
      }
    },
    {
      "cell_type": "code",
      "source": [
        "#initialize list that contains all filenames\n",
        "list_of_filenames = data[\"filename\"].tolist()\n",
        "\n",
        "#measure number of filenames\n",
        "print(\"The number of images in the dataset is\", len(list_of_filenames))"
      ],
      "metadata": {
        "id": "daIYuBAg3JxR",
        "colab": {
          "base_uri": "https://localhost:8080/"
        },
        "outputId": "35b769ec-3fd5-432b-9650-6b7b604ff479"
      },
      "execution_count": null,
      "outputs": [
        {
          "output_type": "stream",
          "name": "stdout",
          "text": [
            "The number of images in the dataset is 1228\n"
          ]
        }
      ]
    },
    {
      "cell_type": "markdown",
      "source": [
        "### How many of these images contain letters?\n",
        "\n"
      ],
      "metadata": {
        "id": "0Obqmo0U3n_F"
      }
    },
    {
      "cell_type": "code",
      "source": [
        "letters = ['α', 'β', 'γ', 'δ', 'ε', 'ζ', 'η', 'θ', 'ι', 'κ', 'λ', 'μ', 'ν', 'ξ', 'ο', 'π', 'ρ', 'σ', 'τ', 'υ', 'φ', 'χ', 'ψ', 'ω', 'Υ', 'Ν']\n",
        "\n",
        "list_chars = data['character'].tolist()\n",
        "\n",
        "images_letters = []\n",
        "\n",
        "for l in letters:\n",
        "  for c in list_chars:\n",
        "    if l == c:\n",
        "      images_letters.append(c)\n",
        "\n",
        "print(len(images_letters), \"images contain a character that is a letter\")"
      ],
      "metadata": {
        "colab": {
          "base_uri": "https://localhost:8080/"
        },
        "id": "NxwBiLGPI-cR",
        "outputId": "2adf490a-d059-42da-c78e-e9286e2edc11"
      },
      "execution_count": null,
      "outputs": [
        {
          "output_type": "stream",
          "name": "stdout",
          "text": [
            "1068 images contain a character that is a letter\n"
          ]
        }
      ]
    },
    {
      "cell_type": "markdown",
      "source": [
        "### How many of these images contain punctuation symbols?"
      ],
      "metadata": {
        "id": "D2JUjsvV4c_Q"
      }
    },
    {
      "cell_type": "code",
      "source": [
        "punct = ['.', ',', ';']\n",
        "\n",
        "images_punct = []\n",
        "\n",
        "for p in punct:\n",
        "  for c in list_chars:\n",
        "    if p == c:\n",
        "      images_punct.append(c)\n",
        "\n",
        "print(len(images_punct), \"images contain a character that is a punctuation symbol\")"
      ],
      "metadata": {
        "colab": {
          "base_uri": "https://localhost:8080/"
        },
        "id": "pzmlqm1vKJPC",
        "outputId": "0992b3d2-5130-474d-8e64-2d4364826c34"
      },
      "execution_count": null,
      "outputs": [
        {
          "output_type": "stream",
          "name": "stdout",
          "text": [
            "14 images contain a character that is a punctuation symbol\n"
          ]
        }
      ]
    },
    {
      "cell_type": "markdown",
      "source": [
        "### How many of these images show blankspace (aka character: NaN)?"
      ],
      "metadata": {
        "id": "snMmaeT14i-Y"
      }
    },
    {
      "cell_type": "code",
      "source": [
        "nan = data[\"character\"].isnull().sum()\n",
        "\n",
        "print(nan, \"images contain empty spaces\")"
      ],
      "metadata": {
        "colab": {
          "base_uri": "https://localhost:8080/"
        },
        "id": "YuzM2oqFLcNV",
        "outputId": "76d8f033-c94a-4616-b9a0-f857896c76f9"
      },
      "execution_count": null,
      "outputs": [
        {
          "output_type": "stream",
          "name": "stdout",
          "text": [
            "146 images contain empty spaces\n"
          ]
        }
      ]
    },
    {
      "cell_type": "markdown",
      "source": [
        "###  How many images show the same vowel(α, ε, η, ι, ο, ω, υ)?"
      ],
      "metadata": {
        "id": "pFUlRLDc5XWR"
      }
    },
    {
      "cell_type": "code",
      "source": [
        "a = data.filename[data['character']== 'α'].tolist()\n",
        "print(len(a), \" images contain α\")"
      ],
      "metadata": {
        "colab": {
          "base_uri": "https://localhost:8080/"
        },
        "id": "xhGXZrAOHGqU",
        "outputId": "0c6be721-568f-4051-e420-32d48946c5e7"
      },
      "execution_count": null,
      "outputs": [
        {
          "output_type": "stream",
          "name": "stdout",
          "text": [
            "112  images contain α\n"
          ]
        }
      ]
    },
    {
      "cell_type": "code",
      "source": [
        "e = data.filename[data['character']== 'ε'].tolist()\n",
        "print(len(e), \" images contain ε\")"
      ],
      "metadata": {
        "colab": {
          "base_uri": "https://localhost:8080/"
        },
        "id": "rZ0u8ovDltsE",
        "outputId": "628eebcb-be36-4cf9-925b-63bb9953ef04"
      },
      "execution_count": null,
      "outputs": [
        {
          "output_type": "stream",
          "name": "stdout",
          "text": [
            "99  images contain ε\n"
          ]
        }
      ]
    },
    {
      "cell_type": "code",
      "source": [
        "h = data.filename[data['character']== 'η'].tolist()\n",
        "print(len(h), \" images contain η\")"
      ],
      "metadata": {
        "colab": {
          "base_uri": "https://localhost:8080/"
        },
        "id": "B7suIGG9luH0",
        "outputId": "3e2f7f1c-d8e2-4808-eef9-ee8833b935d3"
      },
      "execution_count": null,
      "outputs": [
        {
          "output_type": "stream",
          "name": "stdout",
          "text": [
            "30  images contain η\n"
          ]
        }
      ]
    },
    {
      "cell_type": "code",
      "source": [
        "i = data.filename[data['character']== 'ι'].tolist()\n",
        "print(len(i), \" images contain ι\")"
      ],
      "metadata": {
        "colab": {
          "base_uri": "https://localhost:8080/"
        },
        "id": "HkiHgF6NlurK",
        "outputId": "917dadc4-e3be-4833-baac-289bd5d6162c"
      },
      "execution_count": null,
      "outputs": [
        {
          "output_type": "stream",
          "name": "stdout",
          "text": [
            "94  images contain ι\n"
          ]
        }
      ]
    },
    {
      "cell_type": "code",
      "source": [
        "o = data.filename[data['character']== 'ο'].tolist()\n",
        "print(len(o), \" images contain ο\")"
      ],
      "metadata": {
        "colab": {
          "base_uri": "https://localhost:8080/"
        },
        "id": "AbQa4Txnlu76",
        "outputId": "9e83cabd-baa1-453b-dec2-0ee0fad803a2"
      },
      "execution_count": null,
      "outputs": [
        {
          "output_type": "stream",
          "name": "stdout",
          "text": [
            "117  images contain ο\n"
          ]
        }
      ]
    },
    {
      "cell_type": "code",
      "source": [
        "w = data.filename[data['character']== 'ω'].tolist()\n",
        "print(len(w), \" images contain ω\")"
      ],
      "metadata": {
        "colab": {
          "base_uri": "https://localhost:8080/"
        },
        "id": "G4p3tGI6lvJH",
        "outputId": "c6063dd4-a54d-4490-92ce-924e23a2dada"
      },
      "execution_count": null,
      "outputs": [
        {
          "output_type": "stream",
          "name": "stdout",
          "text": [
            "31  images contain ω\n"
          ]
        }
      ]
    },
    {
      "cell_type": "code",
      "source": [
        "u = data.filename[data['character']== 'υ'].tolist()\n",
        "print(len(u), \" images contain υ\")"
      ],
      "metadata": {
        "colab": {
          "base_uri": "https://localhost:8080/"
        },
        "id": "CPJ5MKwolvVR",
        "outputId": "f44cddcf-8b89-4420-ebd3-1cfedba4c4b2"
      },
      "execution_count": null,
      "outputs": [
        {
          "output_type": "stream",
          "name": "stdout",
          "text": [
            "55  images contain υ\n"
          ]
        }
      ]
    },
    {
      "cell_type": "markdown",
      "source": [
        "### Which images show the same consonant(β, γ, δ, ζ, θ, κ, λ, μ, ν, ξ, π, ρ, σ, τ, φ, χ, ψ);"
      ],
      "metadata": {
        "id": "BTDEvJLb6dNZ"
      }
    },
    {
      "cell_type": "code",
      "source": [
        "b = data.filename[data['character']== 'β'].tolist()\n",
        "print(len(b), \"images contain β\")"
      ],
      "metadata": {
        "colab": {
          "base_uri": "https://localhost:8080/"
        },
        "id": "E0jCb_j6zbDK",
        "outputId": "4b27bc88-dd83-48da-ef95-8872bb4bb36d"
      },
      "execution_count": null,
      "outputs": [
        {
          "output_type": "stream",
          "name": "stdout",
          "text": [
            "7 images contain β\n"
          ]
        }
      ]
    },
    {
      "cell_type": "code",
      "source": [
        "c = data.filename[data['character']== 'γ'].tolist()\n",
        "print(len(c), \"images contain γ\")"
      ],
      "metadata": {
        "colab": {
          "base_uri": "https://localhost:8080/"
        },
        "id": "y9PIKIHOzpc4",
        "outputId": "92e77cd4-3c76-4b71-ceaa-4638024fe3dc"
      },
      "execution_count": null,
      "outputs": [
        {
          "output_type": "stream",
          "name": "stdout",
          "text": [
            "14 images contain γ\n"
          ]
        }
      ]
    },
    {
      "cell_type": "code",
      "source": [
        "d = data.filename[data['character']== 'δ'].tolist()\n",
        "print(len(d), \"images contain δ\")"
      ],
      "metadata": {
        "colab": {
          "base_uri": "https://localhost:8080/"
        },
        "id": "EhWupeZfzrcz",
        "outputId": "66f092d0-fb29-4b7d-b5ec-187f0ab43b9f"
      },
      "execution_count": null,
      "outputs": [
        {
          "output_type": "stream",
          "name": "stdout",
          "text": [
            "24 images contain δ\n"
          ]
        }
      ]
    },
    {
      "cell_type": "code",
      "source": [
        "z = data.filename[data['character']== 'ζ'].tolist()\n",
        "print(len(z), \"images contain ζ\")"
      ],
      "metadata": {
        "colab": {
          "base_uri": "https://localhost:8080/"
        },
        "id": "ILSb8GTWz6tP",
        "outputId": "ed340749-268a-4614-f211-a29dff9c178b"
      },
      "execution_count": null,
      "outputs": [
        {
          "output_type": "stream",
          "name": "stdout",
          "text": [
            "3 images contain ζ\n"
          ]
        }
      ]
    },
    {
      "cell_type": "code",
      "source": [
        "th = data.filename[data['character']== 'θ'].tolist()\n",
        "print(len(th), \"images contain θ\")"
      ],
      "metadata": {
        "colab": {
          "base_uri": "https://localhost:8080/"
        },
        "id": "R4nM9Viuz9rx",
        "outputId": "03a7abb5-b7e2-40d8-8c58-5820f2ccbbbd"
      },
      "execution_count": null,
      "outputs": [
        {
          "output_type": "stream",
          "name": "stdout",
          "text": [
            "21 images contain θ\n"
          ]
        }
      ]
    },
    {
      "cell_type": "code",
      "source": [
        "k =  data.filename[data['character']== 'κ'].tolist()\n",
        "print(len(k), \"images contain κ\")"
      ],
      "metadata": {
        "colab": {
          "base_uri": "https://localhost:8080/"
        },
        "id": "-BE0Imxy0C3q",
        "outputId": "eba4cdbb-10a9-4d2c-e511-216a3de06093"
      },
      "execution_count": null,
      "outputs": [
        {
          "output_type": "stream",
          "name": "stdout",
          "text": [
            "44 images contain κ\n"
          ]
        }
      ]
    },
    {
      "cell_type": "code",
      "source": [
        "l = data.filename[data['character']== 'λ'].tolist()\n",
        "print(len(l), \"images contain λ\")"
      ],
      "metadata": {
        "colab": {
          "base_uri": "https://localhost:8080/"
        },
        "id": "NXCcVbsG0GWc",
        "outputId": "8875e0d3-8240-476d-ed2a-1d08287df894"
      },
      "execution_count": null,
      "outputs": [
        {
          "output_type": "stream",
          "name": "stdout",
          "text": [
            "15 images contain λ\n"
          ]
        }
      ]
    },
    {
      "cell_type": "code",
      "source": [
        "m = data.filename[data['character']== 'μ'].tolist()\n",
        "print(len(m), \"images contain μ\")"
      ],
      "metadata": {
        "colab": {
          "base_uri": "https://localhost:8080/"
        },
        "id": "Mm8UyxZh0Jvz",
        "outputId": "45e103a3-9141-492c-e452-65203de83938"
      },
      "execution_count": null,
      "outputs": [
        {
          "output_type": "stream",
          "name": "stdout",
          "text": [
            "33 images contain μ\n"
          ]
        }
      ]
    },
    {
      "cell_type": "code",
      "source": [
        "n = data.filename[data['character']== 'ν'].tolist()\n",
        "print(len(n), \"images contain ν\")"
      ],
      "metadata": {
        "colab": {
          "base_uri": "https://localhost:8080/"
        },
        "id": "mp-VIpcQ0OHM",
        "outputId": "3ecf29c0-e5a4-48e4-bd2b-6123afa6045b"
      },
      "execution_count": null,
      "outputs": [
        {
          "output_type": "stream",
          "name": "stdout",
          "text": [
            "82 images contain ν\n"
          ]
        }
      ]
    },
    {
      "cell_type": "code",
      "source": [
        "x = data.filename[data['character']== 'ξ'].tolist()\n",
        "print(len(x), \"images contain ξ\")"
      ],
      "metadata": {
        "colab": {
          "base_uri": "https://localhost:8080/"
        },
        "id": "1h3fdOt40RUU",
        "outputId": "0bddde1d-c89e-4129-afe5-2c78c827dae3"
      },
      "execution_count": null,
      "outputs": [
        {
          "output_type": "stream",
          "name": "stdout",
          "text": [
            "3 images contain ξ\n"
          ]
        }
      ]
    },
    {
      "cell_type": "code",
      "source": [
        "p = data.filename[data['character']== 'π'].tolist()\n",
        "print(len(p), \"images contain π\")"
      ],
      "metadata": {
        "colab": {
          "base_uri": "https://localhost:8080/"
        },
        "id": "426aWn--0UC6",
        "outputId": "a930041c-57d1-40eb-cc1e-9ea5a7f410e0"
      },
      "execution_count": null,
      "outputs": [
        {
          "output_type": "stream",
          "name": "stdout",
          "text": [
            "43 images contain π\n"
          ]
        }
      ]
    },
    {
      "cell_type": "code",
      "source": [
        "r = data.filename[data['character']== 'ρ'].tolist()\n",
        "print(len(r), \"images contain ρ\")"
      ],
      "metadata": {
        "colab": {
          "base_uri": "https://localhost:8080/"
        },
        "id": "PdyqaFMR0Wyt",
        "outputId": "c4ed2aa0-b9da-4cc2-bdb8-7993ab1b30da"
      },
      "execution_count": null,
      "outputs": [
        {
          "output_type": "stream",
          "name": "stdout",
          "text": [
            "38 images contain ρ\n"
          ]
        }
      ]
    },
    {
      "cell_type": "code",
      "source": [
        "s = data.filename[data['character']== 'σ'].tolist()\n",
        "print(len(s), \"images contain σ\")"
      ],
      "metadata": {
        "colab": {
          "base_uri": "https://localhost:8080/"
        },
        "id": "syZPHyEu0Y85",
        "outputId": "c99a13bd-2767-4094-f217-b427eaa679ef"
      },
      "execution_count": null,
      "outputs": [
        {
          "output_type": "stream",
          "name": "stdout",
          "text": [
            "84 images contain σ\n"
          ]
        }
      ]
    },
    {
      "cell_type": "code",
      "source": [
        "t = data.filename[data['character']== 'τ'].tolist()\n",
        "print(len(t), \"images contain τ\")"
      ],
      "metadata": {
        "colab": {
          "base_uri": "https://localhost:8080/"
        },
        "id": "ihojojMV0eBm",
        "outputId": "d4ba3b89-4b88-4daf-fd2b-bc1c845a26f4"
      },
      "execution_count": null,
      "outputs": [
        {
          "output_type": "stream",
          "name": "stdout",
          "text": [
            "94 images contain τ\n"
          ]
        }
      ]
    },
    {
      "cell_type": "code",
      "source": [
        "f = data.filename[data['character']== 'φ'].tolist()\n",
        "print(len(f), \"images contain φ\")"
      ],
      "metadata": {
        "colab": {
          "base_uri": "https://localhost:8080/"
        },
        "id": "r4kOH1M-0iNH",
        "outputId": "ec064974-37fa-4823-9713-28d2b4c703ff"
      },
      "execution_count": null,
      "outputs": [
        {
          "output_type": "stream",
          "name": "stdout",
          "text": [
            "7 images contain φ\n"
          ]
        }
      ]
    },
    {
      "cell_type": "code",
      "source": [
        "ch = data.filename[data['character']== 'χ'].tolist()\n",
        "print(len(ch), \"images contain χ\")"
      ],
      "metadata": {
        "colab": {
          "base_uri": "https://localhost:8080/"
        },
        "id": "jtlMv-W-0lfp",
        "outputId": "fdc55759-baa5-44c7-99e3-ca07233a808f"
      },
      "execution_count": null,
      "outputs": [
        {
          "output_type": "stream",
          "name": "stdout",
          "text": [
            "9 images contain χ\n"
          ]
        }
      ]
    },
    {
      "cell_type": "code",
      "source": [
        "y = data.filename[data['character']== 'ψ'].tolist()\n",
        "print(len(y), \"images contain ψ\")"
      ],
      "metadata": {
        "colab": {
          "base_uri": "https://localhost:8080/"
        },
        "id": "6H94jjXu0pSw",
        "outputId": "4a515c4b-6546-42c7-a3b2-ea0da70dd623"
      },
      "execution_count": null,
      "outputs": [
        {
          "output_type": "stream",
          "name": "stdout",
          "text": [
            "2 images contain ψ\n"
          ]
        }
      ]
    },
    {
      "cell_type": "markdown",
      "source": [
        "### Images per century"
      ],
      "metadata": {
        "id": "byn-Uq3MNXNA"
      }
    },
    {
      "cell_type": "markdown",
      "source": [
        "* images from 10 BC"
      ],
      "metadata": {
        "id": "j2rfiGmKNb98"
      }
    },
    {
      "cell_type": "code",
      "source": [
        "tenth_century = data.image_ready[data['century'] == 10].tolist()\n",
        "len(tenth_century)"
      ],
      "metadata": {
        "colab": {
          "base_uri": "https://localhost:8080/"
        },
        "id": "cglLy0M9NhPo",
        "outputId": "2f80da4d-f3b0-41a3-a966-2ee5f1c6479e"
      },
      "execution_count": null,
      "outputs": [
        {
          "output_type": "execute_result",
          "data": {
            "text/plain": [
              "382"
            ]
          },
          "metadata": {},
          "execution_count": 39
        }
      ]
    },
    {
      "cell_type": "markdown",
      "source": [
        "* images from 11 BC"
      ],
      "metadata": {
        "id": "BsAchnJ9OZX9"
      }
    },
    {
      "cell_type": "code",
      "source": [
        "eleventh_century = data.image_ready[data['century'] == 11].tolist()\n",
        "len(eleventh_century)"
      ],
      "metadata": {
        "colab": {
          "base_uri": "https://localhost:8080/"
        },
        "id": "5EGQBvuHOgHK",
        "outputId": "3f750193-e71e-4df9-e4c4-2bde942d9f1c"
      },
      "execution_count": null,
      "outputs": [
        {
          "output_type": "execute_result",
          "data": {
            "text/plain": [
              "390"
            ]
          },
          "metadata": {},
          "execution_count": 40
        }
      ]
    },
    {
      "cell_type": "markdown",
      "source": [
        "* images from 12 BC"
      ],
      "metadata": {
        "id": "umxB-dU4Odjt"
      }
    },
    {
      "cell_type": "code",
      "source": [
        "twelfth_century = data.image_ready[data['century'] == 12].tolist()\n",
        "len(twelfth_century)"
      ],
      "metadata": {
        "colab": {
          "base_uri": "https://localhost:8080/"
        },
        "id": "PM-j4Q9IOnv7",
        "outputId": "82a18a6a-aa10-4738-b70a-3c82a2a5d560"
      },
      "execution_count": null,
      "outputs": [
        {
          "output_type": "execute_result",
          "data": {
            "text/plain": [
              "456"
            ]
          },
          "metadata": {},
          "execution_count": 41
        }
      ]
    },
    {
      "cell_type": "markdown",
      "source": [
        "### Which are the most 10 frequent characters in the images?"
      ],
      "metadata": {
        "id": "aM8953i57F7b"
      }
    },
    {
      "cell_type": "code",
      "source": [
        "from numpy import nan\n",
        "import matplotlib.pyplot as plt\n",
        "from collections import Counter\n",
        "\n",
        "#get all characters of the dataframe in a list\n",
        "char_in_images = data[\"character\"].tolist()\n",
        "\n",
        "#count the frequency of each character using Counter\n",
        "freq_d = Counter(char_in_images)\n",
        "\n",
        "freq_d.most_common(10)"
      ],
      "metadata": {
        "colab": {
          "base_uri": "https://localhost:8080/"
        },
        "id": "-YcOyomq_fl3",
        "outputId": "31ae60a8-a45c-494b-d324-b74d7b601877"
      },
      "execution_count": null,
      "outputs": [
        {
          "output_type": "execute_result",
          "data": {
            "text/plain": [
              "[(nan, 146),\n",
              " ('ο', 117),\n",
              " ('α', 112),\n",
              " ('ε', 99),\n",
              " ('τ', 94),\n",
              " ('ι', 94),\n",
              " ('σ', 84),\n",
              " ('ν', 82),\n",
              " ('υ', 55),\n",
              " ('κ', 44)]"
            ]
          },
          "metadata": {},
          "execution_count": 42
        }
      ]
    },
    {
      "cell_type": "markdown",
      "source": [
        "### Visualizations"
      ],
      "metadata": {
        "id": "8LR-t6JNNM7i"
      }
    },
    {
      "cell_type": "markdown",
      "source": [
        "* Plot the frequency of vowels in the dataset"
      ],
      "metadata": {
        "id": "nZsXzdRWqljc"
      }
    },
    {
      "cell_type": "code",
      "source": [
        "vowels = ['α', 'ε', 'η', 'ι', 'ο', 'ω', 'υ']\n",
        "freq_v = [ 112, 99, 30, 94, 117, 31, 55]\n",
        "\n",
        "plt.bar(vowels, freq_v, color='g')\n",
        "plt.xlabel('vowels in images')\n",
        "plt.ylabel('frequency')\n",
        "plt.title('vowels - frequency')\n",
        "plt.show()"
      ],
      "metadata": {
        "colab": {
          "base_uri": "https://localhost:8080/"
        },
        "id": "YZ6bMbEAs5mD",
        "outputId": "09b4c2dc-a249-49f7-fb76-182b7f339dd5"
      },
      "execution_count": null,
      "outputs": [
        {
          "output_type": "display_data",
          "data": {
            "text/plain": [
              "<Figure size 432x288 with 1 Axes>"
            ],
            "image/png": "[encoded data removed]"
          },
          "metadata": {
            "needs_background": "light"
          }
        }
      ]
    },
    {
      "cell_type": "markdown",
      "source": [
        "* Plot the frequency of consonants in the dataset"
      ],
      "metadata": {
        "id": "8_kk1yUzx6Jd"
      }
    },
    {
      "cell_type": "code",
      "source": [
        "consonants = ['β', 'γ', 'δ', 'ζ', 'θ', 'κ', 'λ', 'μ', 'ν', 'ξ', 'π', 'ρ', 'σ', 'τ', 'φ', 'χ', 'ψ']\n",
        "freq_c = [7, 14, 24, 3, 21, 44, 15, 33, 82, 3, 43, 38, 84, 94, 7, 9, 2]\n",
        "\n",
        "plt.bar(consonants, freq_c, color='b')\n",
        "plt.xlabel('consonants in images')\n",
        "plt.ylabel('frequency')\n",
        "plt.title('consonants - frequency')\n",
        "plt.show()"
      ],
      "metadata": {
        "colab": {
          "base_uri": "https://localhost:8080/"
        },
        "id": "jA5oXsN8yH-j",
        "outputId": "5c4bb86c-06e1-4752-eb45-355fefc09038"
      },
      "execution_count": null,
      "outputs": [
        {
          "output_type": "display_data",
          "data": {
            "text/plain": [
              "<Figure size 432x288 with 1 Axes>"
            ],
            "image/png": "[encoded data removed]"
          },
          "metadata": {
            "needs_background": "light"
          }
        }
      ]
    },
    {
      "cell_type": "markdown",
      "source": [
        "* Plot the frequency of the centuries in the data."
      ],
      "metadata": {
        "id": "ihLm4xYM677e"
      }
    },
    {
      "cell_type": "code",
      "source": [
        "#get values from 'century' column to list\n",
        "list_of_centuries = data['century'].tolist()\n",
        "\n",
        "#get list containing lists of the frequency each value has in the 'century' column\n",
        "freq_list = pd.Series(list_of_centuries).value_counts().reset_index().values.tolist()\n",
        "\n",
        "centuries = [] #will contain all centuries, used as X in the plot\n",
        "frequencies = [] #will contain all frequency values, used as Y in the plot\n",
        "\n",
        "#In every list contained in the freq_list, the 1st value is the century and the 2nd value is the frequency each century has in the dataframe.\n",
        "for lists in freq_list:\n",
        "  centuries.append(lists[0])\n",
        "  frequencies.append(lists[1])\n",
        "\n",
        "#create the plot    \n",
        "plt.bar(centuries, frequencies, edgecolor='black')\n",
        "plt.xlabel('centuries texts were written')\n",
        "plt.ylabel('frequency')\n",
        "plt.title('centuries - frequency')\n",
        "plt.show()"
      ],
      "metadata": {
        "colab": {
          "base_uri": "https://localhost:8080/"
        },
        "id": "MizX3ALRF0Ah",
        "outputId": "d62c0c47-6121-4fb1-fc62-aed48c2df445"
      },
      "execution_count": null,
      "outputs": [
        {
          "output_type": "display_data",
          "data": {
            "text/plain": [
              "<Figure size 432x288 with 1 Axes>"
            ],
            "image/png": "[encoded data removed]"
          },
          "metadata": {
            "needs_background": "light"
          }
        }
      ]
    },
    {
      "cell_type": "markdown",
      "source": [
        "# Chapter B\n",
        "Fair comparison of three or more sklearn classifiers, using appropriate evaluation metrics. Use cross-validation with random and century-based folds. Century-based means training on the 10th and 11th, then assessing on the 12th; training on the 11th and 12th, then assess on the 10th; training on the 10th and 12th, then assessing on the 11th. Two simple baselines should also be designed, implemented and evaluated."
      ],
      "metadata": {
        "id": "pHJDAvv-i67B"
      }
    },
    {
      "cell_type": "markdown",
      "source": [
        "## Baseline models for random folds"
      ],
      "metadata": {
        "id": "_seVfc9BRzJS"
      }
    },
    {
      "cell_type": "markdown",
      "source": [
        "### **Dummy Classifier**"
      ],
      "metadata": {
        "id": "mPYPooQivFMv"
      }
    },
    {
      "cell_type": "code",
      "source": [
        "X = tenth_century + eleventh_century + twelfth_century\n",
        "y = data.character[data.century == 10].tolist() + data.character[data.century == 11].tolist() + data.character[data.century == 12].tolist()"
      ],
      "metadata": {
        "id": "L0ZOisvobNds"
      },
      "execution_count": null,
      "outputs": []
    },
    {
      "cell_type": "code",
      "source": [
        "from sklearn.model_selection import train_test_split\n",
        "X_train, X_test, y_train, y_test = train_test_split(X, y, test_size=0.3, random_state= 12)"
      ],
      "metadata": {
        "id": "cHSVuUVnSZYH"
      },
      "execution_count": null,
      "outputs": []
    },
    {
      "cell_type": "code",
      "source": [
        "from sklearn.dummy import DummyClassifier\n",
        "dcl = DummyClassifier(strategy= \"most_frequent\") #“most_frequent”: the predict method always returns the most frequent class label in the observed y argument passed to fit."
      ],
      "metadata": {
        "id": "cPd6vX7jvFfA"
      },
      "execution_count": null,
      "outputs": []
    },
    {
      "cell_type": "code",
      "source": [
        "dcl.fit(X_train, y_train)\n",
        "dcl.score(X_test, y_test)"
      ],
      "metadata": {
        "colab": {
          "base_uri": "https://localhost:8080/"
        },
        "id": "zHpB43hmLDZq",
        "outputId": "6015aac9-1993-45e9-dd4f-e399cb324f1d"
      },
      "execution_count": null,
      "outputs": [
        {
          "output_type": "execute_result",
          "data": {
            "text/plain": [
              "0.11382113821138211"
            ]
          },
          "metadata": {},
          "execution_count": 50
        }
      ]
    },
    {
      "cell_type": "markdown",
      "source": [
        "## Random folds\n",
        "\n",
        "\n"
      ],
      "metadata": {
        "id": "1aSDz_SHYNDt"
      }
    },
    {
      "cell_type": "markdown",
      "source": [
        "\n",
        "\n",
        "###  **Decision Tree Classifier**\n",
        "\n",
        "\n"
      ],
      "metadata": {
        "id": "Cc94_6ZE0t-L"
      }
    },
    {
      "cell_type": "markdown",
      "source": [
        "* Train & Test split (Holdout Validation)"
      ],
      "metadata": {
        "id": "5eJ32_cflMH8"
      }
    },
    {
      "cell_type": "code",
      "source": [
        "from sklearn.tree import DecisionTreeClassifier\n",
        "\n",
        "X_train, X_test, y_train, y_test = train_test_split(X, y, test_size=0.3, random_state= 12)\n",
        "model = DecisionTreeClassifier()\n",
        "train_data = model.fit(X_train, y_train)"
      ],
      "metadata": {
        "id": "YhaUCwA9PH4f"
      },
      "execution_count": null,
      "outputs": []
    },
    {
      "cell_type": "code",
      "source": [
        "test_data = model.score(X_test, y_test)\n",
        "test_data"
      ],
      "metadata": {
        "colab": {
          "base_uri": "https://localhost:8080/"
        },
        "id": "PTVmb06VqBfm",
        "outputId": "7acd37ae-167d-46b1-c56f-e673250f174f"
      },
      "execution_count": null,
      "outputs": [
        {
          "output_type": "execute_result",
          "data": {
            "text/plain": [
              "0.3712737127371274"
            ]
          },
          "metadata": {},
          "execution_count": 54
        }
      ]
    },
    {
      "cell_type": "markdown",
      "source": [
        "\n",
        "\n",
        "\n",
        "* Stratified K-Fold Cross Validation (appropriate for imbalanced datasets, it doesn't make random sampling)\n",
        "\n",
        "\n"
      ],
      "metadata": {
        "id": "5N9vFuxGovF4"
      }
    },
    {
      "cell_type": "code",
      "source": [
        "from sklearn.model_selection import StratifiedKFold\n",
        "from sklearn.model_selection import cross_val_score\n",
        "skf = StratifiedKFold(n_splits=5, shuffle=True)\n",
        "model = DecisionTreeClassifier()\n",
        "cv_results = cross_val_score(model, X_test, y_test, cv=skf)"
      ],
      "metadata": {
        "id": "Eyuj7pU2pR--",
        "colab": {
          "base_uri": "https://localhost:8080/"
        },
        "outputId": "6b287fcd-ca05-4ecc-f1f5-30a4f7f81162"
      },
      "execution_count": null,
      "outputs": [
        {
          "output_type": "stream",
          "name": "stderr",
          "text": [
            "/usr/local/lib/python3.7/dist-packages/sklearn/model_selection/_split.py:680: UserWarning: The least populated class in y has only 1 members, which is less than n_splits=5.\n",
            "  UserWarning,\n"
          ]
        }
      ]
    },
    {
      "cell_type": "code",
      "source": [
        "import numpy as np\n",
        "print(np.mean(cv_results))"
      ],
      "metadata": {
        "colab": {
          "base_uri": "https://localhost:8080/"
        },
        "id": "FdEoicCa17dl",
        "outputId": "798cbd8c-d2c2-4b39-9056-27fb3a0b8b37"
      },
      "execution_count": null,
      "outputs": [
        {
          "output_type": "stream",
          "name": "stdout",
          "text": [
            "0.3135357557657209\n"
          ]
        }
      ]
    },
    {
      "cell_type": "markdown",
      "source": [
        "### **KNN (K-Nearest Neighbour)** "
      ],
      "metadata": {
        "id": "X8BUfeAYEeaS"
      }
    },
    {
      "cell_type": "code",
      "source": [
        "from sklearn.neighbors import KNeighborsClassifier\n",
        "knn = KNeighborsClassifier(n_neighbors=3)\n",
        "knn.fit(X_train, y_train)"
      ],
      "metadata": {
        "colab": {
          "base_uri": "https://localhost:8080/"
        },
        "id": "g-ALLu3OJsNa",
        "outputId": "fd7d4f21-81a5-4a48-92a2-f3c9e3eaabb0"
      },
      "execution_count": null,
      "outputs": [
        {
          "output_type": "execute_result",
          "data": {
            "text/plain": [
              "KNeighborsClassifier(n_neighbors=3)"
            ]
          },
          "metadata": {},
          "execution_count": 62
        }
      ]
    },
    {
      "cell_type": "code",
      "source": [
        "knn.score(X_test, y_test)"
      ],
      "metadata": {
        "colab": {
          "base_uri": "https://localhost:8080/"
        },
        "id": "PRqqUb33KTCR",
        "outputId": "d97f858a-c27a-4e23-af2c-4033ef1332d5"
      },
      "execution_count": null,
      "outputs": [
        {
          "output_type": "execute_result",
          "data": {
            "text/plain": [
              "0.5203252032520326"
            ]
          },
          "metadata": {},
          "execution_count": 63
        }
      ]
    },
    {
      "cell_type": "markdown",
      "source": [
        "* cross validation score"
      ],
      "metadata": {
        "id": "oEU4CvUzlJFa"
      }
    },
    {
      "cell_type": "code",
      "source": [
        "cv_results = cross_val_score(knn, X_test, y_test, cv=skf)\n",
        "print(np.mean(cv_results))"
      ],
      "metadata": {
        "colab": {
          "base_uri": "https://localhost:8080/"
        },
        "id": "lNu71jGQk87d",
        "outputId": "a47cb9fd-7581-4c02-987b-e5aee64ae9fe"
      },
      "execution_count": null,
      "outputs": [
        {
          "output_type": "stream",
          "name": "stderr",
          "text": [
            "/usr/local/lib/python3.7/dist-packages/sklearn/model_selection/_split.py:680: UserWarning: The least populated class in y has only 1 members, which is less than n_splits=5.\n",
            "  UserWarning,\n"
          ]
        },
        {
          "output_type": "stream",
          "name": "stdout",
          "text": [
            "0.5521022067363531\n"
          ]
        }
      ]
    },
    {
      "cell_type": "markdown",
      "source": [
        "### **Random Forest Classifier** (best results)"
      ],
      "metadata": {
        "id": "80TOuYVTQmnq"
      }
    },
    {
      "cell_type": "code",
      "source": [
        "from sklearn.ensemble import RandomForestClassifier\n",
        "from sklearn.datasets import make_classification\n",
        "\n",
        "rfc = RandomForestClassifier(n_estimators=350, max_features=\"log2\")\n",
        "rfc.fit(X_train,y_train)"
      ],
      "metadata": {
        "colab": {
          "base_uri": "https://localhost:8080/"
        },
        "id": "GHgjyaArRBEV",
        "outputId": "c927d038-a16d-4e49-847d-011f9232dcc0"
      },
      "execution_count": null,
      "outputs": [
        {
          "output_type": "execute_result",
          "data": {
            "text/plain": [
              "RandomForestClassifier(max_features='log2', n_estimators=350)"
            ]
          },
          "metadata": {},
          "execution_count": 208
        }
      ]
    },
    {
      "cell_type": "code",
      "source": [
        "rfc.score(X_test, y_test)"
      ],
      "metadata": {
        "colab": {
          "base_uri": "https://localhost:8080/"
        },
        "id": "Pj1wtvTvqbjt",
        "outputId": "bd37c3f7-7c53-418c-b426-2f80dacc5d0d"
      },
      "execution_count": null,
      "outputs": [
        {
          "output_type": "execute_result",
          "data": {
            "text/plain": [
              "0.5826558265582655"
            ]
          },
          "metadata": {},
          "execution_count": 209
        }
      ]
    },
    {
      "cell_type": "markdown",
      "source": [
        "* cross validation score"
      ],
      "metadata": {
        "id": "6sNNnGS3mN-i"
      }
    },
    {
      "cell_type": "code",
      "source": [
        "skf = StratifiedKFold(n_splits= 10, shuffle=True)\n",
        "cv_results = cross_val_score(rfc, X_test, y_test, cv=skf)\n",
        "print(np.mean(cv_results))"
      ],
      "metadata": {
        "colab": {
          "base_uri": "https://localhost:8080/"
        },
        "id": "AwuMnDT_mBlp",
        "outputId": "a5f6af33-99ea-4e6a-aa87-6ae16e72e2cb"
      },
      "execution_count": null,
      "outputs": [
        {
          "output_type": "stream",
          "name": "stderr",
          "text": [
            "/usr/local/lib/python3.7/dist-packages/sklearn/model_selection/_split.py:680: UserWarning: The least populated class in y has only 1 members, which is less than n_splits=10.\n",
            "  UserWarning,\n"
          ]
        },
        {
          "output_type": "stream",
          "name": "stdout",
          "text": [
            "0.572444355591097\n"
          ]
        }
      ]
    },
    {
      "cell_type": "markdown",
      "source": [
        "## Baseline models for century-based folds"
      ],
      "metadata": {
        "id": "IuqvEXxlKdll"
      }
    },
    {
      "cell_type": "markdown",
      "source": [
        "### **Dummy Classifier**"
      ],
      "metadata": {
        "id": "qFVvmEd3K9Lk"
      }
    },
    {
      "cell_type": "markdown",
      "source": [
        "* testing the 12th century"
      ],
      "metadata": {
        "id": "N2hku1P9MK3X"
      }
    },
    {
      "cell_type": "code",
      "source": [
        "X_train = data.image_ready[data.century!= 12].to_list()\n",
        "y_train = data.character[data.century!= 12].to_list()\n",
        "X_test = data.image_ready[data.century== 12].to_list()\n",
        "y_test = data.character[data.century== 12].to_list()"
      ],
      "metadata": {
        "id": "DsuhRRKMK8II"
      },
      "execution_count": null,
      "outputs": []
    },
    {
      "cell_type": "code",
      "source": [
        "dcl = DummyClassifier(strategy= \"most_frequent\")\n",
        "dcl.fit(X, y)\n",
        "dcl.score(X_test, y_test)"
      ],
      "metadata": {
        "colab": {
          "base_uri": "https://localhost:8080/"
        },
        "id": "jz14JcvwKsin",
        "outputId": "fc3e6817-68d6-4091-c742-d7d596910fcc"
      },
      "execution_count": null,
      "outputs": [
        {
          "output_type": "execute_result",
          "data": {
            "text/plain": [
              "0.12719298245614036"
            ]
          },
          "metadata": {},
          "execution_count": 67
        }
      ]
    },
    {
      "cell_type": "markdown",
      "source": [
        "* testing the 11th century"
      ],
      "metadata": {
        "id": "CPgkIZsWMPgc"
      }
    },
    {
      "cell_type": "code",
      "source": [
        "X_train = data.image_ready[data.century!= 11].to_list()\n",
        "y_train = data.character[data.century!= 11].to_list()\n",
        "X_test = data.image_ready[data.century== 11].to_list()\n",
        "y_test = data.character[data.century== 11].to_list()"
      ],
      "metadata": {
        "id": "VuvqESScMbPP"
      },
      "execution_count": null,
      "outputs": []
    },
    {
      "cell_type": "code",
      "source": [
        "dcl = DummyClassifier(strategy= \"most_frequent\")\n",
        "dcl.fit(X, y)\n",
        "dcl.score(X_test, y_test)"
      ],
      "metadata": {
        "colab": {
          "base_uri": "https://localhost:8080/"
        },
        "outputId": "fdac112f-7caf-413c-e46f-da7bcb33e4dd",
        "id": "VrXeCq_fMjef"
      },
      "execution_count": null,
      "outputs": [
        {
          "output_type": "execute_result",
          "data": {
            "text/plain": [
              "0.10256410256410256"
            ]
          },
          "metadata": {},
          "execution_count": 69
        }
      ]
    },
    {
      "cell_type": "markdown",
      "source": [
        "* testing the 10th century"
      ],
      "metadata": {
        "id": "L1XKoRRZMPw7"
      }
    },
    {
      "cell_type": "code",
      "source": [
        "X_train = data.image_ready[data.century!= 10].to_list()\n",
        "y_train = data.character[data.century!= 10].to_list()\n",
        "X_test = data.image_ready[data.century== 10].to_list()\n",
        "y_test = data.character[data.century== 10].to_list()"
      ],
      "metadata": {
        "id": "NjX6oOooModQ"
      },
      "execution_count": null,
      "outputs": []
    },
    {
      "cell_type": "code",
      "source": [
        "dcl = DummyClassifier(strategy= \"most_frequent\")\n",
        "dcl.fit(X, y)\n",
        "dcl.score(X_test, y_test)"
      ],
      "metadata": {
        "colab": {
          "base_uri": "https://localhost:8080/"
        },
        "outputId": "25189aa2-c37a-4442-871a-150e40d70942",
        "id": "DmqkQWlwMnDM"
      },
      "execution_count": null,
      "outputs": [
        {
          "output_type": "execute_result",
          "data": {
            "text/plain": [
              "0.1256544502617801"
            ]
          },
          "metadata": {},
          "execution_count": 71
        }
      ]
    },
    {
      "cell_type": "markdown",
      "source": [
        "## Century-based folds"
      ],
      "metadata": {
        "id": "R2VSRmIYYRdl"
      }
    },
    {
      "cell_type": "markdown",
      "source": [
        "### **Decision Tree Classisfier**"
      ],
      "metadata": {
        "id": "xiVS5QRkwtTE"
      }
    },
    {
      "cell_type": "markdown",
      "source": [
        "* Training with data from 10th & 11th century, testing with 12th century"
      ],
      "metadata": {
        "id": "40Y2B0374OJ3"
      }
    },
    {
      "cell_type": "code",
      "source": [
        "X_train = data.image_ready[data.century!= 12].to_list()\n",
        "y_train = data.character[data.century!= 12].to_list()\n",
        "X_test = data.image_ready[data.century== 12].to_list()\n",
        "y_test = data.character[data.century== 12].to_list()"
      ],
      "metadata": {
        "id": "KQDuIpd-xd1J"
      },
      "execution_count": null,
      "outputs": []
    },
    {
      "cell_type": "code",
      "source": [
        "model = DecisionTreeClassifier()\n",
        "train_data = model.fit(X_train, y_train)\n",
        "test_data = model.score(X_test, y_test)\n",
        "test_data"
      ],
      "metadata": {
        "id": "eIhh-y5dwjB1",
        "colab": {
          "base_uri": "https://localhost:8080/"
        },
        "outputId": "0056a91a-7d53-44f0-99dd-c62ca4e8f623"
      },
      "execution_count": null,
      "outputs": [
        {
          "output_type": "execute_result",
          "data": {
            "text/plain": [
              "0.125"
            ]
          },
          "metadata": {},
          "execution_count": 126
        }
      ]
    },
    {
      "cell_type": "code",
      "source": [
        "#cross-validation\n",
        "skf = StratifiedKFold(n_splits=5, shuffle=True)\n",
        "cv_results = cross_val_score(model, X_test, y_test, cv=skf)\n",
        "print(np.mean(cv_results))"
      ],
      "metadata": {
        "colab": {
          "base_uri": "https://localhost:8080/"
        },
        "id": "mT7FDvqq8M5N",
        "outputId": "23816c59-7f70-4d87-ea2d-acead46b3178"
      },
      "execution_count": null,
      "outputs": [
        {
          "output_type": "stream",
          "name": "stderr",
          "text": [
            "/usr/local/lib/python3.7/dist-packages/sklearn/model_selection/_split.py:680: UserWarning: The least populated class in y has only 1 members, which is less than n_splits=5.\n",
            "  UserWarning,\n"
          ]
        },
        {
          "output_type": "stream",
          "name": "stdout",
          "text": [
            "0.3200066368010619\n"
          ]
        }
      ]
    },
    {
      "cell_type": "markdown",
      "source": [
        "* Training with data from 10th & 12th century, testing with 11th century\n",
        "\n"
      ],
      "metadata": {
        "id": "b3dYl6wg4dml"
      }
    },
    {
      "cell_type": "code",
      "source": [
        "X_train = data.image_ready[data.century!= 11].to_list()\n",
        "y_train = data.character[data.century!= 11].to_list()\n",
        "X_test = data.image_ready[data.century== 11].to_list()\n",
        "y_test = data.character[data.century== 11].to_list()"
      ],
      "metadata": {
        "id": "mvDdliZ_5Btx"
      },
      "execution_count": null,
      "outputs": []
    },
    {
      "cell_type": "code",
      "source": [
        "model = DecisionTreeClassifier()\n",
        "train_data = model.fit(X_train, y_train)\n",
        "test_data = model.score(X_test, y_test)\n",
        "test_data"
      ],
      "metadata": {
        "id": "cWdWPTe45JKJ",
        "colab": {
          "base_uri": "https://localhost:8080/"
        },
        "outputId": "3c2b9943-a077-4849-dc82-4a048c40561d"
      },
      "execution_count": null,
      "outputs": [
        {
          "output_type": "execute_result",
          "data": {
            "text/plain": [
              "0.2794871794871795"
            ]
          },
          "metadata": {},
          "execution_count": 130
        }
      ]
    },
    {
      "cell_type": "code",
      "source": [
        "#cross-validation\n",
        "skf = StratifiedKFold(n_splits=5, shuffle=True)\n",
        "cv_results = cross_val_score(model, X_test, y_test, cv=skf)\n",
        "print(np.mean(cv_results))"
      ],
      "metadata": {
        "colab": {
          "base_uri": "https://localhost:8080/"
        },
        "outputId": "25055d6e-251a-4065-d1f9-aee613e6af11",
        "id": "uTT5_04E83Yw"
      },
      "execution_count": null,
      "outputs": [
        {
          "output_type": "stream",
          "name": "stderr",
          "text": [
            "/usr/local/lib/python3.7/dist-packages/sklearn/model_selection/_split.py:680: UserWarning: The least populated class in y has only 1 members, which is less than n_splits=5.\n",
            "  UserWarning,\n"
          ]
        },
        {
          "output_type": "stream",
          "name": "stdout",
          "text": [
            "0.3444201095072176\n"
          ]
        }
      ]
    },
    {
      "cell_type": "markdown",
      "source": [
        "* Training with data from 11th & 12th century, testing with 10th century\n",
        "\n"
      ],
      "metadata": {
        "id": "mj1EpVOX5gZP"
      }
    },
    {
      "cell_type": "code",
      "source": [
        "X_train = data.image_ready[data.century!= 10].to_list()\n",
        "y_train = data.character[data.century!= 10].to_list()\n",
        "X_test = data.image_ready[data.century== 10].to_list()\n",
        "y_test = data.character[data.century== 10].to_list()"
      ],
      "metadata": {
        "id": "7m5uBP335tNC"
      },
      "execution_count": null,
      "outputs": []
    },
    {
      "cell_type": "code",
      "source": [
        "model = DecisionTreeClassifier()\n",
        "train_data = model.fit(X_train, y_train)\n",
        "test_data = model.score(X_test, y_test)\n",
        "test_data"
      ],
      "metadata": {
        "id": "fiT2A8jM50qT",
        "colab": {
          "base_uri": "https://localhost:8080/"
        },
        "outputId": "0437a5d1-c688-4e0c-9bb4-468c845313e4"
      },
      "execution_count": null,
      "outputs": [
        {
          "output_type": "execute_result",
          "data": {
            "text/plain": [
              "0.2923076923076923"
            ]
          },
          "metadata": {},
          "execution_count": 132
        }
      ]
    },
    {
      "cell_type": "code",
      "source": [
        "#cross-validation\n",
        "skf = StratifiedKFold(n_splits=5, shuffle=True)\n",
        "cv_results = cross_val_score(model, X_test, y_test, cv=skf)\n",
        "print(np.mean(cv_results))"
      ],
      "metadata": {
        "colab": {
          "base_uri": "https://localhost:8080/"
        },
        "outputId": "527b5bc4-8c75-4a96-8ef8-eaab3f2f3530",
        "id": "vqWjcxCk9EDq"
      },
      "execution_count": null,
      "outputs": [
        {
          "output_type": "stream",
          "name": "stderr",
          "text": [
            "/usr/local/lib/python3.7/dist-packages/sklearn/model_selection/_split.py:680: UserWarning: The least populated class in y has only 1 members, which is less than n_splits=5.\n",
            "  UserWarning,\n"
          ]
        },
        {
          "output_type": "stream",
          "name": "stdout",
          "text": [
            "0.3372059067529451\n"
          ]
        }
      ]
    },
    {
      "cell_type": "markdown",
      "source": [
        "### **KNN Classifier**"
      ],
      "metadata": {
        "id": "fr2tYme06FAC"
      }
    },
    {
      "cell_type": "markdown",
      "source": [
        "* Training with data from 10th & 11th century, testing with 12th century"
      ],
      "metadata": {
        "id": "xFjR2HRy8UkF"
      }
    },
    {
      "cell_type": "code",
      "source": [
        "X_train = data.image_ready[data.century!= 12].to_list()\n",
        "y_train = data.character[data.century!= 12].to_list()\n",
        "X_test = data.image_ready[data.century== 12].to_list()\n",
        "y_test = data.character[data.century== 12].to_list()"
      ],
      "metadata": {
        "id": "ZgetVwOI7z1W"
      },
      "execution_count": null,
      "outputs": []
    },
    {
      "cell_type": "code",
      "source": [
        "from sklearn.neighbors import KNeighborsClassifier\n",
        "knn = KNeighborsClassifier(n_neighbors=3)\n",
        "knn.fit(X_train, y_train)\n",
        "knn.score(X_test, y_test)"
      ],
      "metadata": {
        "colab": {
          "base_uri": "https://localhost:8080/"
        },
        "id": "zmaS0MzE6WRu",
        "outputId": "33dc9c65-5217-4727-84ca-1eb27e4fd683"
      },
      "execution_count": null,
      "outputs": [
        {
          "output_type": "execute_result",
          "data": {
            "text/plain": [
              "0.26973684210526316"
            ]
          },
          "metadata": {},
          "execution_count": 135
        }
      ]
    },
    {
      "cell_type": "code",
      "source": [
        "#cross-validation\n",
        "skf = StratifiedKFold(n_splits = 10, shuffle=True)\n",
        "cv_results = cross_val_score(knn, X_test, y_test, cv=skf)\n",
        "print(np.mean(cv_results))"
      ],
      "metadata": {
        "colab": {
          "base_uri": "https://localhost:8080/"
        },
        "outputId": "33f407ed-ea3e-4c00-e068-97fe7983be1f",
        "id": "IajPge3Z9hBp"
      },
      "execution_count": null,
      "outputs": [
        {
          "output_type": "stream",
          "name": "stderr",
          "text": [
            "/usr/local/lib/python3.7/dist-packages/sklearn/model_selection/_split.py:680: UserWarning: The least populated class in y has only 1 members, which is less than n_splits=10.\n",
            "  UserWarning,\n"
          ]
        },
        {
          "output_type": "stream",
          "name": "stdout",
          "text": [
            "0.5707450353192056\n"
          ]
        }
      ]
    },
    {
      "cell_type": "markdown",
      "source": [
        "* Training with data from 10th & 12th century, testing with 11th century"
      ],
      "metadata": {
        "id": "T-cVx2Ds8VqZ"
      }
    },
    {
      "cell_type": "code",
      "source": [
        "X_train = data.image_ready[data.century!= 11].to_list()\n",
        "y_train = data.character[data.century!= 11].to_list()\n",
        "X_test = data.image_ready[data.century== 11].to_list()\n",
        "y_test = data.character[data.century== 11].to_list()"
      ],
      "metadata": {
        "id": "U1U5ptQ473uY"
      },
      "execution_count": null,
      "outputs": []
    },
    {
      "cell_type": "code",
      "source": [
        "knn = KNeighborsClassifier(n_neighbors=3)\n",
        "knn.fit(X_train, y_train)\n",
        "knn.score(X_test, y_test)"
      ],
      "metadata": {
        "colab": {
          "base_uri": "https://localhost:8080/"
        },
        "outputId": "722ab5bb-88ba-4c20-9317-0c2fa7c77a13",
        "id": "4-UVht6i8By6"
      },
      "execution_count": null,
      "outputs": [
        {
          "output_type": "execute_result",
          "data": {
            "text/plain": [
              "0.5"
            ]
          },
          "metadata": {},
          "execution_count": 143
        }
      ]
    },
    {
      "cell_type": "code",
      "source": [
        "#cross-validation\n",
        "skf = StratifiedKFold(n_splits=10, shuffle=True)\n",
        "cv_results = cross_val_score(knn, X_test, y_test, cv=skf)\n",
        "print(np.mean(cv_results))"
      ],
      "metadata": {
        "colab": {
          "base_uri": "https://localhost:8080/"
        },
        "outputId": "8cfb08dd-2655-40e6-8e25-83b33b5aa755",
        "id": "Ge_JawXt-eGU"
      },
      "execution_count": null,
      "outputs": [
        {
          "output_type": "stream",
          "name": "stderr",
          "text": [
            "/usr/local/lib/python3.7/dist-packages/sklearn/model_selection/_split.py:680: UserWarning: The least populated class in y has only 1 members, which is less than n_splits=10.\n",
            "  UserWarning,\n"
          ]
        },
        {
          "output_type": "stream",
          "name": "stdout",
          "text": [
            "0.5749033719845396\n"
          ]
        }
      ]
    },
    {
      "cell_type": "markdown",
      "source": [
        "* Training with data from 11th & 12th century, testing with 10th century"
      ],
      "metadata": {
        "id": "u3RRvagZ8W1S"
      }
    },
    {
      "cell_type": "code",
      "source": [
        "X_train = data.image_ready[data.century!= 10].to_list()\n",
        "y_train = data.character[data.century!= 10].to_list()\n",
        "X_test = data.image_ready[data.century== 10].to_list()\n",
        "y_test = data.character[data.century== 10].to_list()"
      ],
      "metadata": {
        "id": "GOcBZsC_764P"
      },
      "execution_count": null,
      "outputs": []
    },
    {
      "cell_type": "code",
      "source": [
        "knn = KNeighborsClassifier(n_neighbors=3)\n",
        "knn.fit(X_train, y_train)\n",
        "knn.score(X_test, y_test)"
      ],
      "metadata": {
        "colab": {
          "base_uri": "https://localhost:8080/"
        },
        "outputId": "91a140fe-af35-4f15-843e-64b472886ca7",
        "id": "LWZ504eZ8HD0"
      },
      "execution_count": null,
      "outputs": [
        {
          "output_type": "execute_result",
          "data": {
            "text/plain": [
              "0.306282722513089"
            ]
          },
          "metadata": {},
          "execution_count": 119
        }
      ]
    },
    {
      "cell_type": "code",
      "source": [
        "#cross-validation\n",
        "skf = StratifiedKFold(n_splits=10, shuffle=True)\n",
        "cv_results = cross_val_score(knn, X_test, y_test, cv=skf)\n",
        "print(np.mean(cv_results))"
      ],
      "metadata": {
        "colab": {
          "base_uri": "https://localhost:8080/"
        },
        "outputId": "f2135c20-8abe-4d21-c723-6ca81efc570e",
        "id": "ZusDTfhQ-lrO"
      },
      "execution_count": null,
      "outputs": [
        {
          "output_type": "stream",
          "name": "stderr",
          "text": [
            "/usr/local/lib/python3.7/dist-packages/sklearn/model_selection/_split.py:680: UserWarning: The least populated class in y has only 1 members, which is less than n_splits=10.\n",
            "  UserWarning,\n"
          ]
        },
        {
          "output_type": "stream",
          "name": "stdout",
          "text": [
            "0.5668066106890577\n"
          ]
        }
      ]
    },
    {
      "cell_type": "markdown",
      "source": [
        "### **Random Forest Classifier** (best results - testing 11th century)"
      ],
      "metadata": {
        "id": "YnNL-aY4_3p8"
      }
    },
    {
      "cell_type": "markdown",
      "source": [
        "* Training with data from 10th & 11th century, testing with 12th century"
      ],
      "metadata": {
        "id": "fPR6csXoAzkr"
      }
    },
    {
      "cell_type": "code",
      "source": [
        "X_train = data.image_ready[data.century!= 12].to_list()\n",
        "y_train = data.character[data.century!= 12].to_list()\n",
        "X_test = data.image_ready[data.century== 12].to_list()\n",
        "y_test = data.character[data.century== 12].to_list()"
      ],
      "metadata": {
        "id": "YKA6RHy9BAUX"
      },
      "execution_count": null,
      "outputs": []
    },
    {
      "cell_type": "code",
      "source": [
        "rfc = RandomForestClassifier(n_estimators=300)\n",
        "rfc.fit(X_train,y_train)\n",
        "rfc.score(X_test, y_test)"
      ],
      "metadata": {
        "colab": {
          "base_uri": "https://localhost:8080/"
        },
        "id": "kCn5TTRrA53G",
        "outputId": "8c8396f6-c58d-44d7-8abf-f38fc545ec6a"
      },
      "execution_count": null,
      "outputs": [
        {
          "output_type": "execute_result",
          "data": {
            "text/plain": [
              "0.19736842105263158"
            ]
          },
          "metadata": {},
          "execution_count": 216
        }
      ]
    },
    {
      "cell_type": "code",
      "source": [
        "#cross-validation\n",
        "skf = StratifiedKFold(n_splits = 10, shuffle=True)\n",
        "cv_results = cross_val_score(rfc, X_test, y_test, cv=skf)\n",
        "print(np.mean(cv_results))"
      ],
      "metadata": {
        "colab": {
          "base_uri": "https://localhost:8080/"
        },
        "outputId": "29f72979-89a5-4dc9-f734-80bd4c3f6213",
        "id": "BeivFZPKG17L"
      },
      "execution_count": null,
      "outputs": [
        {
          "output_type": "stream",
          "name": "stderr",
          "text": [
            "/usr/local/lib/python3.7/dist-packages/sklearn/model_selection/_split.py:680: UserWarning: The least populated class in y has only 1 members, which is less than n_splits=10.\n",
            "  UserWarning,\n"
          ]
        },
        {
          "output_type": "stream",
          "name": "stdout",
          "text": [
            "0.5806810609089699\n"
          ]
        }
      ]
    },
    {
      "cell_type": "markdown",
      "source": [
        "* Training with data from 10th & 12th century, testing with 11th century"
      ],
      "metadata": {
        "id": "hwc--7oNBkXo"
      }
    },
    {
      "cell_type": "code",
      "source": [
        "X_train = data.image_ready[data.century!= 11].to_list()\n",
        "y_train = data.character[data.century!= 11].to_list()\n",
        "X_test = data.image_ready[data.century== 11].to_list()\n",
        "y_test = data.character[data.century== 11].to_list()"
      ],
      "metadata": {
        "id": "pc9qVO2QBuPS"
      },
      "execution_count": null,
      "outputs": []
    },
    {
      "cell_type": "code",
      "source": [
        "rfc = RandomForestClassifier(n_estimators=300)\n",
        "rfc.fit(X_train,y_train)\n",
        "rfc.score(X_test, y_test)"
      ],
      "metadata": {
        "colab": {
          "base_uri": "https://localhost:8080/"
        },
        "outputId": "064a8c8b-149c-4157-c863-aee5e2045643",
        "id": "M9xrzs6_Usnd"
      },
      "execution_count": null,
      "outputs": [
        {
          "output_type": "execute_result",
          "data": {
            "text/plain": [
              "0.5025641025641026"
            ]
          },
          "metadata": {},
          "execution_count": 219
        }
      ]
    },
    {
      "cell_type": "code",
      "source": [
        "#cross-validation\n",
        "skf = StratifiedKFold(n_splits = 10, shuffle=True)\n",
        "cv_results = cross_val_score(rfc, X_test, y_test, cv=skf)\n",
        "print(np.mean(cv_results))"
      ],
      "metadata": {
        "colab": {
          "base_uri": "https://localhost:8080/"
        },
        "outputId": "bc5761c4-0274-4824-87a4-1624c610b5f2",
        "id": "DP6TgCWjUv7p"
      },
      "execution_count": null,
      "outputs": [
        {
          "output_type": "stream",
          "name": "stderr",
          "text": [
            "/usr/local/lib/python3.7/dist-packages/sklearn/model_selection/_split.py:680: UserWarning: The least populated class in y has only 1 members, which is less than n_splits=10.\n",
            "  UserWarning,\n"
          ]
        },
        {
          "output_type": "stream",
          "name": "stdout",
          "text": [
            "0.5895841663334667\n"
          ]
        }
      ]
    },
    {
      "cell_type": "markdown",
      "source": [
        "* Training with data from 11th & 12th century, testing with 10th century"
      ],
      "metadata": {
        "id": "H31YZChtCASp"
      }
    },
    {
      "cell_type": "code",
      "source": [
        "X_train = data.image_ready[data.century!= 10].to_list()\n",
        "y_train = data.character[data.century!= 10].to_list()\n",
        "X_test = data.image_ready[data.century== 10].to_list()\n",
        "y_test = data.character[data.century== 10].to_list()"
      ],
      "metadata": {
        "id": "hbiBGqjFCGV7"
      },
      "execution_count": null,
      "outputs": []
    },
    {
      "cell_type": "code",
      "source": [
        "rfc = RandomForestClassifier(n_estimators=300)\n",
        "rfc.fit(X_train,y_train)\n",
        "rfc.score(X_test, y_test)"
      ],
      "metadata": {
        "colab": {
          "base_uri": "https://localhost:8080/"
        },
        "outputId": "8c1571d4-cb23-4b6e-ae3a-69eec458adb2",
        "id": "E8xaN2G8VNq_"
      },
      "execution_count": null,
      "outputs": [
        {
          "output_type": "execute_result",
          "data": {
            "text/plain": [
              "0.38481675392670156"
            ]
          },
          "metadata": {},
          "execution_count": 222
        }
      ]
    },
    {
      "cell_type": "code",
      "source": [
        "#cross-validation\n",
        "skf = StratifiedKFold(n_splits = 10, shuffle=True)\n",
        "cv_results = cross_val_score(rfc, X_test, y_test, cv=skf)\n",
        "print(np.mean(cv_results))"
      ],
      "metadata": {
        "colab": {
          "base_uri": "https://localhost:8080/"
        },
        "outputId": "18aa2e32-b2f6-495e-aff7-84294fc6b643",
        "id": "1GLe49tbVKcg"
      },
      "execution_count": null,
      "outputs": [
        {
          "output_type": "stream",
          "name": "stderr",
          "text": [
            "/usr/local/lib/python3.7/dist-packages/sklearn/model_selection/_split.py:680: UserWarning: The least populated class in y has only 1 members, which is less than n_splits=10.\n",
            "  UserWarning,\n"
          ]
        },
        {
          "output_type": "stream",
          "name": "stdout",
          "text": [
            "0.5814474210315874\n"
          ]
        }
      ]
    },
    {
      "cell_type": "markdown",
      "source": [
        "# Chapter C\n",
        "Error analysis"
      ],
      "metadata": {
        "id": "HvzjDfL7jIPh"
      }
    },
    {
      "cell_type": "markdown",
      "source": [
        "I am doing the error analysis by printing the classification report and cretaing a new dataframe with 2 columns, the \"y_test\" column which has the original data of the dataframe and a column with the model predictions. This way we can see what kind of mistakes occured during the machine lerning process."
      ],
      "metadata": {
        "id": "snXXbhtFmM5a"
      }
    },
    {
      "cell_type": "markdown",
      "source": [
        "## Random folds"
      ],
      "metadata": {
        "id": "mr62LtRUaEgq"
      }
    },
    {
      "cell_type": "code",
      "source": [
        "X = tenth_century + eleventh_century + twelfth_century\n",
        "y = data.character[data.century == 10].tolist() + data.character[data.century == 11].tolist() + data.character[data.century == 12].tolist()\n",
        "X_train, X_test, y_train, y_test = train_test_split(X, y, test_size=0.3, random_state= 12)"
      ],
      "metadata": {
        "id": "pbAazh5AZkRR"
      },
      "execution_count": null,
      "outputs": []
    },
    {
      "cell_type": "markdown",
      "source": [
        "### Decision Tree Classifier"
      ],
      "metadata": {
        "id": "qJNWk511MR-8"
      }
    },
    {
      "cell_type": "markdown",
      "source": [
        "Let's take a look at what this model predicted and whether it is correct."
      ],
      "metadata": {
        "id": "6ROibgsIeMvJ"
      }
    },
    {
      "cell_type": "code",
      "source": [
        "model.fit(X_train,y_train)\n",
        "predicted = model.predict(X_test)"
      ],
      "metadata": {
        "id": "Mt1DH792PHnY"
      },
      "execution_count": null,
      "outputs": []
    },
    {
      "cell_type": "code",
      "source": [
        "from sklearn.metrics import classification_report\n",
        "print(classification_report(y_test, model.predict(X_test)))"
      ],
      "metadata": {
        "colab": {
          "base_uri": "https://localhost:8080/"
        },
        "id": "dOqzSfCH6Dyi",
        "outputId": "ead5ca50-f66e-42f8-b1c6-2918c1403879"
      },
      "execution_count": null,
      "outputs": [
        {
          "output_type": "stream",
          "name": "stdout",
          "text": [
            "              precision    recall  f1-score   support\n",
            "\n",
            "           ,       0.00      0.00      0.00         1\n",
            "           .       0.50      0.20      0.29         5\n",
            "           ;       0.00      0.00      0.00         1\n",
            "         nan       0.81      0.83      0.82        42\n",
            "           Ν       0.00      0.00      0.00         0\n",
            "           Υ       0.00      0.00      0.00         1\n",
            "           α       0.49      0.42      0.45        43\n",
            "           β       0.00      0.00      0.00         2\n",
            "           γ       0.00      0.00      0.00         4\n",
            "           δ       0.00      0.00      0.00         8\n",
            "           ε       0.15      0.19      0.17        27\n",
            "           ζ       0.00      0.00      0.00         1\n",
            "           η       0.12      0.29      0.17         7\n",
            "           θ       1.00      0.17      0.29         6\n",
            "           ι       0.61      0.57      0.59        30\n",
            "           κ       0.19      0.23      0.21        13\n",
            "           λ       0.00      0.00      0.00         3\n",
            "           μ       0.09      0.09      0.09        11\n",
            "           ν       0.41      0.38      0.39        24\n",
            "           ξ       0.00      0.00      0.00         0\n",
            "           ο       0.37      0.34      0.35        32\n",
            "           π       0.27      0.27      0.27        11\n",
            "           ρ       0.33      0.31      0.32        13\n",
            "           σ       0.08      0.08      0.08        24\n",
            "           τ       0.44      0.46      0.45        26\n",
            "           υ       0.41      0.33      0.37        21\n",
            "           φ       0.50      0.50      0.50         2\n",
            "           χ       0.00      0.00      0.00         3\n",
            "           ψ       0.00      0.00      0.00         1\n",
            "           ω       0.09      0.14      0.11         7\n",
            "\n",
            "    accuracy                           0.36       369\n",
            "   macro avg       0.23      0.19      0.20       369\n",
            "weighted avg       0.39      0.36      0.37       369\n",
            "\n"
          ]
        },
        {
          "output_type": "stream",
          "name": "stderr",
          "text": [
            "/usr/local/lib/python3.7/dist-packages/sklearn/metrics/_classification.py:1318: UndefinedMetricWarning: Precision and F-score are ill-defined and being set to 0.0 in labels with no predicted samples. Use `zero_division` parameter to control this behavior.\n",
            "  _warn_prf(average, modifier, msg_start, len(result))\n",
            "/usr/local/lib/python3.7/dist-packages/sklearn/metrics/_classification.py:1318: UndefinedMetricWarning: Recall and F-score are ill-defined and being set to 0.0 in labels with no true samples. Use `zero_division` parameter to control this behavior.\n",
            "  _warn_prf(average, modifier, msg_start, len(result))\n",
            "/usr/local/lib/python3.7/dist-packages/sklearn/metrics/_classification.py:1318: UndefinedMetricWarning: Precision and F-score are ill-defined and being set to 0.0 in labels with no predicted samples. Use `zero_division` parameter to control this behavior.\n",
            "  _warn_prf(average, modifier, msg_start, len(result))\n",
            "/usr/local/lib/python3.7/dist-packages/sklearn/metrics/_classification.py:1318: UndefinedMetricWarning: Recall and F-score are ill-defined and being set to 0.0 in labels with no true samples. Use `zero_division` parameter to control this behavior.\n",
            "  _warn_prf(average, modifier, msg_start, len(result))\n",
            "/usr/local/lib/python3.7/dist-packages/sklearn/metrics/_classification.py:1318: UndefinedMetricWarning: Precision and F-score are ill-defined and being set to 0.0 in labels with no predicted samples. Use `zero_division` parameter to control this behavior.\n",
            "  _warn_prf(average, modifier, msg_start, len(result))\n",
            "/usr/local/lib/python3.7/dist-packages/sklearn/metrics/_classification.py:1318: UndefinedMetricWarning: Recall and F-score are ill-defined and being set to 0.0 in labels with no true samples. Use `zero_division` parameter to control this behavior.\n",
            "  _warn_prf(average, modifier, msg_start, len(result))\n"
          ]
        }
      ]
    },
    {
      "cell_type": "code",
      "source": [
        "dtc = pd.DataFrame(y_test, columns=['y_test'])\n",
        "dtc['DTC_prediction']=predicted\n",
        "dtc"
      ],
      "metadata": {
        "colab": {
          "base_uri": "https://localhost:8080/",
          "height": 656
        },
        "id": "T1XdsMMWQoDe",
        "outputId": "ac02ac9e-bcba-4b31-dafe-4965cf3293f9"
      },
      "execution_count": null,
      "outputs": [
        {
          "output_type": "execute_result",
          "data": {
            "text/plain": [
              "    y_test DTC_prediction\n",
              "0        ι              ω\n",
              "1        ω              ε\n",
              "2      NaN            nan\n",
              "3        ζ              σ\n",
              "4      NaN            nan\n",
              "..     ...            ...\n",
              "364      ο              σ\n",
              "365    NaN            nan\n",
              "366      ε              α\n",
              "367      ε              ε\n",
              "368      .            nan\n",
              "\n",
              "[369 rows x 2 columns]"
            ],
            "text/html": [
              "\n",
              "  <div id=\"df-69893c3b-02c1-4e8b-be90-a964980d464c\">\n",
              "    <div class=\"colab-df-container\">\n",
              "      <div>\n",
              "<style scoped>\n",
              "    .dataframe tbody tr th:only-of-type {\n",
              "        vertical-align: middle;\n",
              "    }\n",
              "\n",
              "    .dataframe tbody tr th {\n",
              "        vertical-align: top;\n",
              "    }\n",
              "\n",
              "    .dataframe thead th {\n",
              "        text-align: right;\n",
              "    }\n",
              "</style>\n",
              "<table border=\"1\" class=\"dataframe\">\n",
              "  <thead>\n",
              "    <tr style=\"text-align: right;\">\n",
              "      <th></th>\n",
              "      <th>y_test</th>\n",
              "      <th>DTC_prediction</th>\n",
              "    </tr>\n",
              "  </thead>\n",
              "  <tbody>\n",
              "    <tr>\n",
              "      <th>0</th>\n",
              "      <td>ι</td>\n",
              "      <td>ω</td>\n",
              "    </tr>\n",
              "    <tr>\n",
              "      <th>1</th>\n",
              "      <td>ω</td>\n",
              "      <td>ε</td>\n",
              "    </tr>\n",
              "    <tr>\n",
              "      <th>2</th>\n",
              "      <td>NaN</td>\n",
              "      <td>nan</td>\n",
              "    </tr>\n",
              "    <tr>\n",
              "      <th>3</th>\n",
              "      <td>ζ</td>\n",
              "      <td>σ</td>\n",
              "    </tr>\n",
              "    <tr>\n",
              "      <th>4</th>\n",
              "      <td>NaN</td>\n",
              "      <td>nan</td>\n",
              "    </tr>\n",
              "    <tr>\n",
              "      <th>...</th>\n",
              "      <td>...</td>\n",
              "      <td>...</td>\n",
              "    </tr>\n",
              "    <tr>\n",
              "      <th>364</th>\n",
              "      <td>ο</td>\n",
              "      <td>σ</td>\n",
              "    </tr>\n",
              "    <tr>\n",
              "      <th>365</th>\n",
              "      <td>NaN</td>\n",
              "      <td>nan</td>\n",
              "    </tr>\n",
              "    <tr>\n",
              "      <th>366</th>\n",
              "      <td>ε</td>\n",
              "      <td>α</td>\n",
              "    </tr>\n",
              "    <tr>\n",
              "      <th>367</th>\n",
              "      <td>ε</td>\n",
              "      <td>ε</td>\n",
              "    </tr>\n",
              "    <tr>\n",
              "      <th>368</th>\n",
              "      <td>.</td>\n",
              "      <td>nan</td>\n",
              "    </tr>\n",
              "  </tbody>\n",
              "</table>\n",
              "<p>369 rows × 2 columns</p>\n",
              "</div>\n",
              "      <button class=\"colab-df-convert\" onclick=\"convertToInteractive('df-69893c3b-02c1-4e8b-be90-a964980d464c')\"\n",
              "              title=\"Convert this dataframe to an interactive table.\"\n",
              "              style=\"display:none;\">\n",
              "        \n",
              "  <svg xmlns=\"http://www.w3.org/2000/svg\" height=\"24px\"viewBox=\"0 0 24 24\"\n",
              "       width=\"24px\">\n",
              "    <path d=\"M0 0h24v24H0V0z\" fill=\"none\"/>\n",
              "    <path d=\"M18.56 5.44l.94 2.06.94-2.06 2.06-.94-2.06-.94-.94-2.06-.94 2.06-2.06.94zm-11 1L8.5 8.5l.94-2.06 2.06-.94-2.06-.94L8.5 2.5l-.94 2.06-2.06.94zm10 10l.94 2.06.94-2.06 2.06-.94-2.06-.94-.94-2.06-.94 2.06-2.06.94z\"/><path d=\"M17.41 7.96l-1.37-1.37c-.4-.4-.92-.59-1.43-.59-.52 0-1.04.2-1.43.59L10.3 9.45l-7.72 7.72c-.78.78-.78 2.05 0 2.83L4 21.41c.39.39.9.59 1.41.59.51 0 1.02-.2 1.41-.59l7.78-7.78 2.81-2.81c.8-.78.8-2.07 0-2.86zM5.41 20L4 18.59l7.72-7.72 1.47 1.35L5.41 20z\"/>\n",
              "  </svg>\n",
              "      </button>\n",
              "      \n",
              "  <style>\n",
              "    .colab-df-container {\n",
              "      display:flex;\n",
              "      flex-wrap:wrap;\n",
              "      gap: 12px;\n",
              "    }\n",
              "\n",
              "    .colab-df-convert {\n",
              "      background-color: #E8F0FE;\n",
              "      border: none;\n",
              "      border-radius: 50%;\n",
              "      cursor: pointer;\n",
              "      display: none;\n",
              "      fill: #1967D2;\n",
              "      height: 32px;\n",
              "      padding: 0 0 0 0;\n",
              "      width: 32px;\n",
              "    }\n",
              "\n",
              "    .colab-df-convert:hover {\n",
              "      background-color: #E2EBFA;\n",
              "      box-shadow: 0px 1px 2px rgba(60, 64, 67, 0.3), 0px 1px 3px 1px rgba(60, 64, 67, 0.15);\n",
              "      fill: #174EA6;\n",
              "    }\n",
              "\n",
              "    [theme=dark] .colab-df-convert {\n",
              "      background-color: #3B4455;\n",
              "      fill: #D2E3FC;\n",
              "    }\n",
              "\n",
              "    [theme=dark] .colab-df-convert:hover {\n",
              "      background-color: #434B5C;\n",
              "      box-shadow: 0px 1px 3px 1px rgba(0, 0, 0, 0.15);\n",
              "      filter: drop-shadow(0px 1px 2px rgba(0, 0, 0, 0.3));\n",
              "      fill: #FFFFFF;\n",
              "    }\n",
              "  </style>\n",
              "\n",
              "      <script>\n",
              "        const buttonEl =\n",
              "          document.querySelector('#df-69893c3b-02c1-4e8b-be90-a964980d464c button.colab-df-convert');\n",
              "        buttonEl.style.display =\n",
              "          google.colab.kernel.accessAllowed ? 'block' : 'none';\n",
              "\n",
              "        async function convertToInteractive(key) {\n",
              "          const element = document.querySelector('#df-69893c3b-02c1-4e8b-be90-a964980d464c');\n",
              "          const dataTable =\n",
              "            await google.colab.kernel.invokeFunction('convertToInteractive',\n",
              "                                                     [key], {});\n",
              "          if (!dataTable) return;\n",
              "\n",
              "          const docLinkHtml = 'Like what you see? Visit the ' +\n",
              "            '<a target=\"_blank\" href=https://colab.research.google.com/notebooks/data_table.ipynb>data table notebook</a>'\n",
              "            + ' to learn more about interactive tables.';\n",
              "          element.innerHTML = '';\n",
              "          dataTable['output_type'] = 'display_data';\n",
              "          await google.colab.output.renderOutput(dataTable, element);\n",
              "          const docLink = document.createElement('div');\n",
              "          docLink.innerHTML = docLinkHtml;\n",
              "          element.appendChild(docLink);\n",
              "        }\n",
              "      </script>\n",
              "    </div>\n",
              "  </div>\n",
              "  "
            ]
          },
          "metadata": {},
          "execution_count": 59
        }
      ]
    },
    {
      "cell_type": "markdown",
      "source": [
        "### KNN Classifier"
      ],
      "metadata": {
        "id": "0okLR98JMdiI"
      }
    },
    {
      "cell_type": "code",
      "source": [
        "print(classification_report(y_test, knn.predict(X_test)))"
      ],
      "metadata": {
        "colab": {
          "base_uri": "https://localhost:8080/"
        },
        "id": "k4GRvxqunYXX",
        "outputId": "04f39788-4354-40a8-9001-b1fdc0bbe622"
      },
      "execution_count": null,
      "outputs": [
        {
          "output_type": "stream",
          "name": "stdout",
          "text": [
            "              precision    recall  f1-score   support\n",
            "\n",
            "           ,       0.00      0.00      0.00         1\n",
            "           .       0.00      0.00      0.00         5\n",
            "           ;       0.00      0.00      0.00         1\n",
            "         nan       0.54      0.95      0.69        42\n",
            "           Ν       0.00      0.00      0.00         0\n",
            "           Υ       0.33      1.00      0.50         1\n",
            "           α       0.54      0.65      0.59        43\n",
            "           β       0.00      0.00      0.00         2\n",
            "           γ       0.50      0.75      0.60         4\n",
            "           δ       1.00      0.38      0.55         8\n",
            "           ε       0.50      0.33      0.40        27\n",
            "           ζ       0.00      0.00      0.00         1\n",
            "           η       0.75      0.43      0.55         7\n",
            "           θ       0.50      0.17      0.25         6\n",
            "           ι       0.42      0.60      0.49        30\n",
            "           κ       0.80      0.62      0.70        13\n",
            "           λ       0.33      0.33      0.33         3\n",
            "           μ       0.33      0.27      0.30        11\n",
            "           ν       0.63      0.50      0.56        24\n",
            "           ο       0.51      0.75      0.61        32\n",
            "           π       0.67      0.18      0.29        11\n",
            "           ρ       1.00      0.23      0.38        13\n",
            "           σ       0.77      0.42      0.54        24\n",
            "           τ       0.81      0.65      0.72        26\n",
            "           υ       1.00      0.14      0.25        21\n",
            "           φ       1.00      0.50      0.67         2\n",
            "           χ       0.00      0.00      0.00         3\n",
            "           ψ       0.00      0.00      0.00         1\n",
            "           ω       0.50      0.29      0.36         7\n",
            "\n",
            "    accuracy                           0.52       369\n",
            "   macro avg       0.46      0.35      0.36       369\n",
            "weighted avg       0.61      0.52      0.51       369\n",
            "\n"
          ]
        },
        {
          "output_type": "stream",
          "name": "stderr",
          "text": [
            "/usr/local/lib/python3.7/dist-packages/sklearn/metrics/_classification.py:1318: UndefinedMetricWarning: Precision and F-score are ill-defined and being set to 0.0 in labels with no predicted samples. Use `zero_division` parameter to control this behavior.\n",
            "  _warn_prf(average, modifier, msg_start, len(result))\n",
            "/usr/local/lib/python3.7/dist-packages/sklearn/metrics/_classification.py:1318: UndefinedMetricWarning: Recall and F-score are ill-defined and being set to 0.0 in labels with no true samples. Use `zero_division` parameter to control this behavior.\n",
            "  _warn_prf(average, modifier, msg_start, len(result))\n",
            "/usr/local/lib/python3.7/dist-packages/sklearn/metrics/_classification.py:1318: UndefinedMetricWarning: Precision and F-score are ill-defined and being set to 0.0 in labels with no predicted samples. Use `zero_division` parameter to control this behavior.\n",
            "  _warn_prf(average, modifier, msg_start, len(result))\n",
            "/usr/local/lib/python3.7/dist-packages/sklearn/metrics/_classification.py:1318: UndefinedMetricWarning: Recall and F-score are ill-defined and being set to 0.0 in labels with no true samples. Use `zero_division` parameter to control this behavior.\n",
            "  _warn_prf(average, modifier, msg_start, len(result))\n",
            "/usr/local/lib/python3.7/dist-packages/sklearn/metrics/_classification.py:1318: UndefinedMetricWarning: Precision and F-score are ill-defined and being set to 0.0 in labels with no predicted samples. Use `zero_division` parameter to control this behavior.\n",
            "  _warn_prf(average, modifier, msg_start, len(result))\n",
            "/usr/local/lib/python3.7/dist-packages/sklearn/metrics/_classification.py:1318: UndefinedMetricWarning: Recall and F-score are ill-defined and being set to 0.0 in labels with no true samples. Use `zero_division` parameter to control this behavior.\n",
            "  _warn_prf(average, modifier, msg_start, len(result))\n"
          ]
        }
      ]
    },
    {
      "cell_type": "code",
      "source": [
        "knn.fit(X_train, y_train)\n",
        "predicted_knn = knn.predict(X_test)\n",
        "kcl = pd.DataFrame(y_test, columns=['y_test'])\n",
        "kcl['KNN_prediction']=predicted_knn\n",
        "kcl"
      ],
      "metadata": {
        "colab": {
          "base_uri": "https://localhost:8080/",
          "height": 424
        },
        "id": "ZOAJy8Tfm5JK",
        "outputId": "36bfcea0-5f80-4209-b6fe-4b9f294088ea"
      },
      "execution_count": null,
      "outputs": [
        {
          "output_type": "execute_result",
          "data": {
            "text/plain": [
              "    y_test KNN_prediction\n",
              "0        ι              Υ\n",
              "1        ω              ε\n",
              "2      NaN            nan\n",
              "3        ζ            nan\n",
              "4      NaN            nan\n",
              "..     ...            ...\n",
              "364      ο              ο\n",
              "365    NaN            nan\n",
              "366      ε            nan\n",
              "367      ε              ε\n",
              "368      .            nan\n",
              "\n",
              "[369 rows x 2 columns]"
            ],
            "text/html": [
              "\n",
              "  <div id=\"df-70bf19ff-a06e-4d39-8abf-e5afa4e7fab5\">\n",
              "    <div class=\"colab-df-container\">\n",
              "      <div>\n",
              "<style scoped>\n",
              "    .dataframe tbody tr th:only-of-type {\n",
              "        vertical-align: middle;\n",
              "    }\n",
              "\n",
              "    .dataframe tbody tr th {\n",
              "        vertical-align: top;\n",
              "    }\n",
              "\n",
              "    .dataframe thead th {\n",
              "        text-align: right;\n",
              "    }\n",
              "</style>\n",
              "<table border=\"1\" class=\"dataframe\">\n",
              "  <thead>\n",
              "    <tr style=\"text-align: right;\">\n",
              "      <th></th>\n",
              "      <th>y_test</th>\n",
              "      <th>KNN_prediction</th>\n",
              "    </tr>\n",
              "  </thead>\n",
              "  <tbody>\n",
              "    <tr>\n",
              "      <th>0</th>\n",
              "      <td>ι</td>\n",
              "      <td>Υ</td>\n",
              "    </tr>\n",
              "    <tr>\n",
              "      <th>1</th>\n",
              "      <td>ω</td>\n",
              "      <td>ε</td>\n",
              "    </tr>\n",
              "    <tr>\n",
              "      <th>2</th>\n",
              "      <td>NaN</td>\n",
              "      <td>nan</td>\n",
              "    </tr>\n",
              "    <tr>\n",
              "      <th>3</th>\n",
              "      <td>ζ</td>\n",
              "      <td>nan</td>\n",
              "    </tr>\n",
              "    <tr>\n",
              "      <th>4</th>\n",
              "      <td>NaN</td>\n",
              "      <td>nan</td>\n",
              "    </tr>\n",
              "    <tr>\n",
              "      <th>...</th>\n",
              "      <td>...</td>\n",
              "      <td>...</td>\n",
              "    </tr>\n",
              "    <tr>\n",
              "      <th>364</th>\n",
              "      <td>ο</td>\n",
              "      <td>ο</td>\n",
              "    </tr>\n",
              "    <tr>\n",
              "      <th>365</th>\n",
              "      <td>NaN</td>\n",
              "      <td>nan</td>\n",
              "    </tr>\n",
              "    <tr>\n",
              "      <th>366</th>\n",
              "      <td>ε</td>\n",
              "      <td>nan</td>\n",
              "    </tr>\n",
              "    <tr>\n",
              "      <th>367</th>\n",
              "      <td>ε</td>\n",
              "      <td>ε</td>\n",
              "    </tr>\n",
              "    <tr>\n",
              "      <th>368</th>\n",
              "      <td>.</td>\n",
              "      <td>nan</td>\n",
              "    </tr>\n",
              "  </tbody>\n",
              "</table>\n",
              "<p>369 rows × 2 columns</p>\n",
              "</div>\n",
              "      <button class=\"colab-df-convert\" onclick=\"convertToInteractive('df-70bf19ff-a06e-4d39-8abf-e5afa4e7fab5')\"\n",
              "              title=\"Convert this dataframe to an interactive table.\"\n",
              "              style=\"display:none;\">\n",
              "        \n",
              "  <svg xmlns=\"http://www.w3.org/2000/svg\" height=\"24px\"viewBox=\"0 0 24 24\"\n",
              "       width=\"24px\">\n",
              "    <path d=\"M0 0h24v24H0V0z\" fill=\"none\"/>\n",
              "    <path d=\"M18.56 5.44l.94 2.06.94-2.06 2.06-.94-2.06-.94-.94-2.06-.94 2.06-2.06.94zm-11 1L8.5 8.5l.94-2.06 2.06-.94-2.06-.94L8.5 2.5l-.94 2.06-2.06.94zm10 10l.94 2.06.94-2.06 2.06-.94-2.06-.94-.94-2.06-.94 2.06-2.06.94z\"/><path d=\"M17.41 7.96l-1.37-1.37c-.4-.4-.92-.59-1.43-.59-.52 0-1.04.2-1.43.59L10.3 9.45l-7.72 7.72c-.78.78-.78 2.05 0 2.83L4 21.41c.39.39.9.59 1.41.59.51 0 1.02-.2 1.41-.59l7.78-7.78 2.81-2.81c.8-.78.8-2.07 0-2.86zM5.41 20L4 18.59l7.72-7.72 1.47 1.35L5.41 20z\"/>\n",
              "  </svg>\n",
              "      </button>\n",
              "      \n",
              "  <style>\n",
              "    .colab-df-container {\n",
              "      display:flex;\n",
              "      flex-wrap:wrap;\n",
              "      gap: 12px;\n",
              "    }\n",
              "\n",
              "    .colab-df-convert {\n",
              "      background-color: #E8F0FE;\n",
              "      border: none;\n",
              "      border-radius: 50%;\n",
              "      cursor: pointer;\n",
              "      display: none;\n",
              "      fill: #1967D2;\n",
              "      height: 32px;\n",
              "      padding: 0 0 0 0;\n",
              "      width: 32px;\n",
              "    }\n",
              "\n",
              "    .colab-df-convert:hover {\n",
              "      background-color: #E2EBFA;\n",
              "      box-shadow: 0px 1px 2px rgba(60, 64, 67, 0.3), 0px 1px 3px 1px rgba(60, 64, 67, 0.15);\n",
              "      fill: #174EA6;\n",
              "    }\n",
              "\n",
              "    [theme=dark] .colab-df-convert {\n",
              "      background-color: #3B4455;\n",
              "      fill: #D2E3FC;\n",
              "    }\n",
              "\n",
              "    [theme=dark] .colab-df-convert:hover {\n",
              "      background-color: #434B5C;\n",
              "      box-shadow: 0px 1px 3px 1px rgba(0, 0, 0, 0.15);\n",
              "      filter: drop-shadow(0px 1px 2px rgba(0, 0, 0, 0.3));\n",
              "      fill: #FFFFFF;\n",
              "    }\n",
              "  </style>\n",
              "\n",
              "      <script>\n",
              "        const buttonEl =\n",
              "          document.querySelector('#df-70bf19ff-a06e-4d39-8abf-e5afa4e7fab5 button.colab-df-convert');\n",
              "        buttonEl.style.display =\n",
              "          google.colab.kernel.accessAllowed ? 'block' : 'none';\n",
              "\n",
              "        async function convertToInteractive(key) {\n",
              "          const element = document.querySelector('#df-70bf19ff-a06e-4d39-8abf-e5afa4e7fab5');\n",
              "          const dataTable =\n",
              "            await google.colab.kernel.invokeFunction('convertToInteractive',\n",
              "                                                     [key], {});\n",
              "          if (!dataTable) return;\n",
              "\n",
              "          const docLinkHtml = 'Like what you see? Visit the ' +\n",
              "            '<a target=\"_blank\" href=https://colab.research.google.com/notebooks/data_table.ipynb>data table notebook</a>'\n",
              "            + ' to learn more about interactive tables.';\n",
              "          element.innerHTML = '';\n",
              "          dataTable['output_type'] = 'display_data';\n",
              "          await google.colab.output.renderOutput(dataTable, element);\n",
              "          const docLink = document.createElement('div');\n",
              "          docLink.innerHTML = docLinkHtml;\n",
              "          element.appendChild(docLink);\n",
              "        }\n",
              "      </script>\n",
              "    </div>\n",
              "  </div>\n",
              "  "
            ]
          },
          "metadata": {},
          "execution_count": 231
        }
      ]
    },
    {
      "cell_type": "markdown",
      "source": [
        "### Random Forest Classifier"
      ],
      "metadata": {
        "id": "Xl3_j0NDMhol"
      }
    },
    {
      "cell_type": "code",
      "source": [
        "print(classification_report(y_test, rfc.predict(X_test)))"
      ],
      "metadata": {
        "colab": {
          "base_uri": "https://localhost:8080/"
        },
        "id": "HS5J-NjSRTGO",
        "outputId": "c2923a19-fb6b-4acf-ae66-2141b8ba9419"
      },
      "execution_count": null,
      "outputs": [
        {
          "output_type": "stream",
          "name": "stdout",
          "text": [
            "              precision    recall  f1-score   support\n",
            "\n",
            "           ,       0.00      0.00      0.00         1\n",
            "           .       0.00      0.00      0.00         5\n",
            "           ;       0.00      0.00      0.00         1\n",
            "         nan       0.72      1.00      0.84        42\n",
            "           Υ       0.00      0.00      0.00         1\n",
            "           α       0.53      0.74      0.62        43\n",
            "           β       0.00      0.00      0.00         2\n",
            "           γ       1.00      0.50      0.67         4\n",
            "           δ       0.50      0.12      0.20         8\n",
            "           ε       0.45      0.56      0.50        27\n",
            "           ζ       0.00      0.00      0.00         1\n",
            "           η       0.75      0.43      0.55         7\n",
            "           θ       1.00      0.17      0.29         6\n",
            "           ι       0.60      0.83      0.69        30\n",
            "           κ       0.75      0.23      0.35        13\n",
            "           λ       1.00      0.33      0.50         3\n",
            "           μ       0.75      0.27      0.40        11\n",
            "           ν       0.60      0.75      0.67        24\n",
            "           ο       0.40      0.84      0.55        32\n",
            "           π       1.00      0.09      0.17        11\n",
            "           ρ       0.67      0.15      0.25        13\n",
            "           σ       0.18      0.08      0.11        24\n",
            "           τ       0.50      0.65      0.57        26\n",
            "           υ       0.67      0.29      0.40        21\n",
            "           φ       0.00      0.00      0.00         2\n",
            "           χ       0.00      0.00      0.00         3\n",
            "           ψ       0.00      0.00      0.00         1\n",
            "           ω       1.00      0.43      0.60         7\n",
            "\n",
            "    accuracy                           0.55       369\n",
            "   macro avg       0.47      0.30      0.32       369\n",
            "weighted avg       0.57      0.55      0.50       369\n",
            "\n"
          ]
        },
        {
          "output_type": "stream",
          "name": "stderr",
          "text": [
            "/usr/local/lib/python3.7/dist-packages/sklearn/metrics/_classification.py:1318: UndefinedMetricWarning: Precision and F-score are ill-defined and being set to 0.0 in labels with no predicted samples. Use `zero_division` parameter to control this behavior.\n",
            "  _warn_prf(average, modifier, msg_start, len(result))\n",
            "/usr/local/lib/python3.7/dist-packages/sklearn/metrics/_classification.py:1318: UndefinedMetricWarning: Precision and F-score are ill-defined and being set to 0.0 in labels with no predicted samples. Use `zero_division` parameter to control this behavior.\n",
            "  _warn_prf(average, modifier, msg_start, len(result))\n",
            "/usr/local/lib/python3.7/dist-packages/sklearn/metrics/_classification.py:1318: UndefinedMetricWarning: Precision and F-score are ill-defined and being set to 0.0 in labels with no predicted samples. Use `zero_division` parameter to control this behavior.\n",
            "  _warn_prf(average, modifier, msg_start, len(result))\n"
          ]
        }
      ]
    },
    {
      "cell_type": "code",
      "source": [
        "rfc.fit(X_train, y_train)\n",
        "predicted_rfc = rfc.predict(X_test)\n",
        "rcl = pd.DataFrame(y_test, columns=['y_test'])\n",
        "rcl['RFC_prediction']=predicted_rfc\n",
        "rcl"
      ],
      "metadata": {
        "colab": {
          "base_uri": "https://localhost:8080/",
          "height": 656
        },
        "id": "wGQK3k5ioOj-",
        "outputId": "4b3b4141-f0c4-47e8-fc6e-c0ec2699d282"
      },
      "execution_count": null,
      "outputs": [
        {
          "output_type": "execute_result",
          "data": {
            "text/plain": [
              "    y_test RFC_prediction\n",
              "0        ι              ι\n",
              "1        ω              ε\n",
              "2      NaN            nan\n",
              "3        ζ              ν\n",
              "4      NaN            nan\n",
              "..     ...            ...\n",
              "364      ο              ο\n",
              "365    NaN            nan\n",
              "366      ε              ε\n",
              "367      ε              ε\n",
              "368      .            nan\n",
              "\n",
              "[369 rows x 2 columns]"
            ],
            "text/html": [
              "\n",
              "  <div id=\"df-29f62f8f-b344-4655-80a2-9cfbe18a389c\">\n",
              "    <div class=\"colab-df-container\">\n",
              "      <div>\n",
              "<style scoped>\n",
              "    .dataframe tbody tr th:only-of-type {\n",
              "        vertical-align: middle;\n",
              "    }\n",
              "\n",
              "    .dataframe tbody tr th {\n",
              "        vertical-align: top;\n",
              "    }\n",
              "\n",
              "    .dataframe thead th {\n",
              "        text-align: right;\n",
              "    }\n",
              "</style>\n",
              "<table border=\"1\" class=\"dataframe\">\n",
              "  <thead>\n",
              "    <tr style=\"text-align: right;\">\n",
              "      <th></th>\n",
              "      <th>y_test</th>\n",
              "      <th>RFC_prediction</th>\n",
              "    </tr>\n",
              "  </thead>\n",
              "  <tbody>\n",
              "    <tr>\n",
              "      <th>0</th>\n",
              "      <td>ι</td>\n",
              "      <td>ι</td>\n",
              "    </tr>\n",
              "    <tr>\n",
              "      <th>1</th>\n",
              "      <td>ω</td>\n",
              "      <td>ε</td>\n",
              "    </tr>\n",
              "    <tr>\n",
              "      <th>2</th>\n",
              "      <td>NaN</td>\n",
              "      <td>nan</td>\n",
              "    </tr>\n",
              "    <tr>\n",
              "      <th>3</th>\n",
              "      <td>ζ</td>\n",
              "      <td>ν</td>\n",
              "    </tr>\n",
              "    <tr>\n",
              "      <th>4</th>\n",
              "      <td>NaN</td>\n",
              "      <td>nan</td>\n",
              "    </tr>\n",
              "    <tr>\n",
              "      <th>...</th>\n",
              "      <td>...</td>\n",
              "      <td>...</td>\n",
              "    </tr>\n",
              "    <tr>\n",
              "      <th>364</th>\n",
              "      <td>ο</td>\n",
              "      <td>ο</td>\n",
              "    </tr>\n",
              "    <tr>\n",
              "      <th>365</th>\n",
              "      <td>NaN</td>\n",
              "      <td>nan</td>\n",
              "    </tr>\n",
              "    <tr>\n",
              "      <th>366</th>\n",
              "      <td>ε</td>\n",
              "      <td>ε</td>\n",
              "    </tr>\n",
              "    <tr>\n",
              "      <th>367</th>\n",
              "      <td>ε</td>\n",
              "      <td>ε</td>\n",
              "    </tr>\n",
              "    <tr>\n",
              "      <th>368</th>\n",
              "      <td>.</td>\n",
              "      <td>nan</td>\n",
              "    </tr>\n",
              "  </tbody>\n",
              "</table>\n",
              "<p>369 rows × 2 columns</p>\n",
              "</div>\n",
              "      <button class=\"colab-df-convert\" onclick=\"convertToInteractive('df-29f62f8f-b344-4655-80a2-9cfbe18a389c')\"\n",
              "              title=\"Convert this dataframe to an interactive table.\"\n",
              "              style=\"display:none;\">\n",
              "        \n",
              "  <svg xmlns=\"http://www.w3.org/2000/svg\" height=\"24px\"viewBox=\"0 0 24 24\"\n",
              "       width=\"24px\">\n",
              "    <path d=\"M0 0h24v24H0V0z\" fill=\"none\"/>\n",
              "    <path d=\"M18.56 5.44l.94 2.06.94-2.06 2.06-.94-2.06-.94-.94-2.06-.94 2.06-2.06.94zm-11 1L8.5 8.5l.94-2.06 2.06-.94-2.06-.94L8.5 2.5l-.94 2.06-2.06.94zm10 10l.94 2.06.94-2.06 2.06-.94-2.06-.94-.94-2.06-.94 2.06-2.06.94z\"/><path d=\"M17.41 7.96l-1.37-1.37c-.4-.4-.92-.59-1.43-.59-.52 0-1.04.2-1.43.59L10.3 9.45l-7.72 7.72c-.78.78-.78 2.05 0 2.83L4 21.41c.39.39.9.59 1.41.59.51 0 1.02-.2 1.41-.59l7.78-7.78 2.81-2.81c.8-.78.8-2.07 0-2.86zM5.41 20L4 18.59l7.72-7.72 1.47 1.35L5.41 20z\"/>\n",
              "  </svg>\n",
              "      </button>\n",
              "      \n",
              "  <style>\n",
              "    .colab-df-container {\n",
              "      display:flex;\n",
              "      flex-wrap:wrap;\n",
              "      gap: 12px;\n",
              "    }\n",
              "\n",
              "    .colab-df-convert {\n",
              "      background-color: #E8F0FE;\n",
              "      border: none;\n",
              "      border-radius: 50%;\n",
              "      cursor: pointer;\n",
              "      display: none;\n",
              "      fill: #1967D2;\n",
              "      height: 32px;\n",
              "      padding: 0 0 0 0;\n",
              "      width: 32px;\n",
              "    }\n",
              "\n",
              "    .colab-df-convert:hover {\n",
              "      background-color: #E2EBFA;\n",
              "      box-shadow: 0px 1px 2px rgba(60, 64, 67, 0.3), 0px 1px 3px 1px rgba(60, 64, 67, 0.15);\n",
              "      fill: #174EA6;\n",
              "    }\n",
              "\n",
              "    [theme=dark] .colab-df-convert {\n",
              "      background-color: #3B4455;\n",
              "      fill: #D2E3FC;\n",
              "    }\n",
              "\n",
              "    [theme=dark] .colab-df-convert:hover {\n",
              "      background-color: #434B5C;\n",
              "      box-shadow: 0px 1px 3px 1px rgba(0, 0, 0, 0.15);\n",
              "      filter: drop-shadow(0px 1px 2px rgba(0, 0, 0, 0.3));\n",
              "      fill: #FFFFFF;\n",
              "    }\n",
              "  </style>\n",
              "\n",
              "      <script>\n",
              "        const buttonEl =\n",
              "          document.querySelector('#df-29f62f8f-b344-4655-80a2-9cfbe18a389c button.colab-df-convert');\n",
              "        buttonEl.style.display =\n",
              "          google.colab.kernel.accessAllowed ? 'block' : 'none';\n",
              "\n",
              "        async function convertToInteractive(key) {\n",
              "          const element = document.querySelector('#df-29f62f8f-b344-4655-80a2-9cfbe18a389c');\n",
              "          const dataTable =\n",
              "            await google.colab.kernel.invokeFunction('convertToInteractive',\n",
              "                                                     [key], {});\n",
              "          if (!dataTable) return;\n",
              "\n",
              "          const docLinkHtml = 'Like what you see? Visit the ' +\n",
              "            '<a target=\"_blank\" href=https://colab.research.google.com/notebooks/data_table.ipynb>data table notebook</a>'\n",
              "            + ' to learn more about interactive tables.';\n",
              "          element.innerHTML = '';\n",
              "          dataTable['output_type'] = 'display_data';\n",
              "          await google.colab.output.renderOutput(dataTable, element);\n",
              "          const docLink = document.createElement('div');\n",
              "          docLink.innerHTML = docLinkHtml;\n",
              "          element.appendChild(docLink);\n",
              "        }\n",
              "      </script>\n",
              "    </div>\n",
              "  </div>\n",
              "  "
            ]
          },
          "metadata": {},
          "execution_count": 74
        }
      ]
    },
    {
      "cell_type": "markdown",
      "source": [
        "### Conclusion"
      ],
      "metadata": {
        "id": "CC5YjrMtDctt"
      }
    },
    {
      "cell_type": "markdown",
      "source": [
        "In my opinion the main problem is that the **dataset** is **imbalanced** and many characters are under-represented. For example β: 7, ζ: 3, λ:13, ξ: 3, φ: 7, ψ: 2, χ:9, punctuation symbols: 14. \n",
        "\n",
        "* **Decision Tree Classifier:** \n",
        "1. ',' (precision: 0.00 ,recall: 0.00)\n",
        "2. '.' (precision: 0.00 ,recall: 0.00)\n",
        "3. ';' (precision: 0.00 ,recall: 0.00)\n",
        "4. 'β' (precision: 0.00 ,recall: 0.00) \n",
        "5. 'ζ' (precision: 0.00 ,recall: 0.00)\n",
        "6. 'λ' (precision: 0.00 ,recall: 0.00)\n",
        "7. 'φ' (precision: 0.00 ,recall: 0.00)\n",
        "\n",
        "\n",
        "* **KNN:**\n",
        "1. ',' (precision: 0.00 ,recall: 0.00)\n",
        "2. '.' (precision: 0.00 ,recall: 0.00)\n",
        "3. ';' (precision: 0.00 ,recall: 0.00)\n",
        "4. 'β' (precision: 0.00 ,recall: 0.00)\n",
        "5. 'ζ' (precision: 0.00 ,recall: 0.00)\n",
        "6. 'χ' (precision: 0.00 ,recall: 0.00)\n",
        "\n",
        "* **Random Forest**\n",
        "1. ',' (precision: 0.00 ,recall: 0.00)\n",
        "2. '.' (precision: 0.00 ,recall: 0.00)\n",
        "3. ';' (precision: 0.00 ,recall: 0.00)\n",
        "4. 'β' (precision: 0.00 ,recall: 0.00)\n",
        "5. 'ζ' (precision: 0.00 ,recall: 0.00)\n",
        "6. 'φ' (precision: 0.00 ,recall: 0.00)\n",
        "6. 'χ' (precision: 0.00 ,recall: 0.00)\n",
        "\n",
        "We see the same characters being missclassified in different models and being confused with the more frequent characters (e.g. 'α', 'τ', 'nan').\n",
        "\n"
      ],
      "metadata": {
        "id": "wz2AHbR6DdU6"
      }
    },
    {
      "cell_type": "markdown",
      "source": [
        "## Century-based folds"
      ],
      "metadata": {
        "id": "vAtg0cPi_kW4"
      }
    },
    {
      "cell_type": "markdown",
      "source": [
        "### 12th century"
      ],
      "metadata": {
        "id": "V5-EeK0wj-fs"
      }
    },
    {
      "cell_type": "code",
      "source": [
        "X_train = data.image_ready[data.century!= 12].to_list()\n",
        "y_train = data.character[data.century!= 12].to_list()\n",
        "X_test = data.image_ready[data.century== 12].to_list()\n",
        "y_test = data.character[data.century== 12].to_list()"
      ],
      "metadata": {
        "id": "VT-hJlQAkwvG"
      },
      "execution_count": null,
      "outputs": []
    },
    {
      "cell_type": "markdown",
      "source": [
        "* Decision Tree Classifier"
      ],
      "metadata": {
        "id": "7iRYUXLglB1L"
      }
    },
    {
      "cell_type": "code",
      "source": [
        "model.fit(X_train,y_train)\n",
        "predicted = model.predict(X_test)\n",
        "print(classification_report(y_test, model.predict(X_test)))"
      ],
      "metadata": {
        "colab": {
          "base_uri": "https://localhost:8080/"
        },
        "id": "krEh8dSHlkl3",
        "outputId": "f95f6a5c-f3ca-4273-9010-7d16bf816870"
      },
      "execution_count": null,
      "outputs": [
        {
          "output_type": "stream",
          "name": "stdout",
          "text": [
            "              precision    recall  f1-score   support\n",
            "\n",
            "           ,       0.00      0.00      0.00         1\n",
            "           .       0.00      0.00      0.00         3\n",
            "         nan       0.62      0.22      0.33        58\n",
            "           Ν       0.00      0.00      0.00         3\n",
            "           Υ       0.00      0.00      0.00         4\n",
            "           α       0.36      0.21      0.26        48\n",
            "           β       0.00      0.00      0.00         2\n",
            "           γ       0.00      0.00      0.00         4\n",
            "           δ       0.25      0.43      0.32         7\n",
            "           ε       0.04      0.08      0.05        38\n",
            "           ζ       0.00      0.00      0.00         1\n",
            "           η       0.00      0.00      0.00        10\n",
            "           θ       0.00      0.00      0.00        10\n",
            "           ι       0.26      0.33      0.29        33\n",
            "           κ       0.25      0.14      0.18        14\n",
            "           λ       0.00      0.00      0.00         6\n",
            "           μ       0.00      0.00      0.00        15\n",
            "           ν       0.31      0.17      0.22        29\n",
            "           ξ       0.00      0.00      0.00         1\n",
            "           ο       0.23      0.07      0.11        41\n",
            "           π       0.00      0.00      0.00        18\n",
            "           ρ       0.00      0.00      0.00        12\n",
            "           σ       0.04      0.19      0.06        31\n",
            "           τ       0.14      0.03      0.05        31\n",
            "           υ       0.11      0.11      0.11        19\n",
            "           φ       0.00      0.00      0.00         2\n",
            "           χ       0.00      0.00      0.00         2\n",
            "           ψ       0.00      0.00      0.00         2\n",
            "           ω       0.00      0.00      0.00        11\n",
            "\n",
            "    accuracy                           0.13       456\n",
            "   macro avg       0.09      0.07      0.07       456\n",
            "weighted avg       0.21      0.13      0.14       456\n",
            "\n"
          ]
        },
        {
          "output_type": "stream",
          "name": "stderr",
          "text": [
            "/usr/local/lib/python3.7/dist-packages/sklearn/metrics/_classification.py:1318: UndefinedMetricWarning: Precision and F-score are ill-defined and being set to 0.0 in labels with no predicted samples. Use `zero_division` parameter to control this behavior.\n",
            "  _warn_prf(average, modifier, msg_start, len(result))\n",
            "/usr/local/lib/python3.7/dist-packages/sklearn/metrics/_classification.py:1318: UndefinedMetricWarning: Precision and F-score are ill-defined and being set to 0.0 in labels with no predicted samples. Use `zero_division` parameter to control this behavior.\n",
            "  _warn_prf(average, modifier, msg_start, len(result))\n",
            "/usr/local/lib/python3.7/dist-packages/sklearn/metrics/_classification.py:1318: UndefinedMetricWarning: Precision and F-score are ill-defined and being set to 0.0 in labels with no predicted samples. Use `zero_division` parameter to control this behavior.\n",
            "  _warn_prf(average, modifier, msg_start, len(result))\n"
          ]
        }
      ]
    },
    {
      "cell_type": "code",
      "source": [
        "dtc = pd.DataFrame(y_test, columns=['y_test'])\n",
        "dtc['DTC_prediction']=predicted\n",
        "dtc"
      ],
      "metadata": {
        "colab": {
          "base_uri": "https://localhost:8080/",
          "height": 656
        },
        "outputId": "fa5245fa-b574-4b42-aa09-eff2259b8385",
        "id": "oQOGjA5sly5k"
      },
      "execution_count": null,
      "outputs": [
        {
          "output_type": "execute_result",
          "data": {
            "text/plain": [
              "    y_test DTC_prediction\n",
              "0        π              ν\n",
              "1        ρ              ε\n",
              "2        α              α\n",
              "3        τ              ε\n",
              "4        τ              σ\n",
              "..     ...            ...\n",
              "451    NaN              σ\n",
              "452      σ              ρ\n",
              "453      π              σ\n",
              "454      ρ              η\n",
              "455      ο              ε\n",
              "\n",
              "[456 rows x 2 columns]"
            ],
            "text/html": [
              "\n",
              "  <div id=\"df-4ec20caa-9e8c-4543-b69e-33095a551a25\">\n",
              "    <div class=\"colab-df-container\">\n",
              "      <div>\n",
              "<style scoped>\n",
              "    .dataframe tbody tr th:only-of-type {\n",
              "        vertical-align: middle;\n",
              "    }\n",
              "\n",
              "    .dataframe tbody tr th {\n",
              "        vertical-align: top;\n",
              "    }\n",
              "\n",
              "    .dataframe thead th {\n",
              "        text-align: right;\n",
              "    }\n",
              "</style>\n",
              "<table border=\"1\" class=\"dataframe\">\n",
              "  <thead>\n",
              "    <tr style=\"text-align: right;\">\n",
              "      <th></th>\n",
              "      <th>y_test</th>\n",
              "      <th>DTC_prediction</th>\n",
              "    </tr>\n",
              "  </thead>\n",
              "  <tbody>\n",
              "    <tr>\n",
              "      <th>0</th>\n",
              "      <td>π</td>\n",
              "      <td>ν</td>\n",
              "    </tr>\n",
              "    <tr>\n",
              "      <th>1</th>\n",
              "      <td>ρ</td>\n",
              "      <td>ε</td>\n",
              "    </tr>\n",
              "    <tr>\n",
              "      <th>2</th>\n",
              "      <td>α</td>\n",
              "      <td>α</td>\n",
              "    </tr>\n",
              "    <tr>\n",
              "      <th>3</th>\n",
              "      <td>τ</td>\n",
              "      <td>ε</td>\n",
              "    </tr>\n",
              "    <tr>\n",
              "      <th>4</th>\n",
              "      <td>τ</td>\n",
              "      <td>σ</td>\n",
              "    </tr>\n",
              "    <tr>\n",
              "      <th>...</th>\n",
              "      <td>...</td>\n",
              "      <td>...</td>\n",
              "    </tr>\n",
              "    <tr>\n",
              "      <th>451</th>\n",
              "      <td>NaN</td>\n",
              "      <td>σ</td>\n",
              "    </tr>\n",
              "    <tr>\n",
              "      <th>452</th>\n",
              "      <td>σ</td>\n",
              "      <td>ρ</td>\n",
              "    </tr>\n",
              "    <tr>\n",
              "      <th>453</th>\n",
              "      <td>π</td>\n",
              "      <td>σ</td>\n",
              "    </tr>\n",
              "    <tr>\n",
              "      <th>454</th>\n",
              "      <td>ρ</td>\n",
              "      <td>η</td>\n",
              "    </tr>\n",
              "    <tr>\n",
              "      <th>455</th>\n",
              "      <td>ο</td>\n",
              "      <td>ε</td>\n",
              "    </tr>\n",
              "  </tbody>\n",
              "</table>\n",
              "<p>456 rows × 2 columns</p>\n",
              "</div>\n",
              "      <button class=\"colab-df-convert\" onclick=\"convertToInteractive('df-4ec20caa-9e8c-4543-b69e-33095a551a25')\"\n",
              "              title=\"Convert this dataframe to an interactive table.\"\n",
              "              style=\"display:none;\">\n",
              "        \n",
              "  <svg xmlns=\"http://www.w3.org/2000/svg\" height=\"24px\"viewBox=\"0 0 24 24\"\n",
              "       width=\"24px\">\n",
              "    <path d=\"M0 0h24v24H0V0z\" fill=\"none\"/>\n",
              "    <path d=\"M18.56 5.44l.94 2.06.94-2.06 2.06-.94-2.06-.94-.94-2.06-.94 2.06-2.06.94zm-11 1L8.5 8.5l.94-2.06 2.06-.94-2.06-.94L8.5 2.5l-.94 2.06-2.06.94zm10 10l.94 2.06.94-2.06 2.06-.94-2.06-.94-.94-2.06-.94 2.06-2.06.94z\"/><path d=\"M17.41 7.96l-1.37-1.37c-.4-.4-.92-.59-1.43-.59-.52 0-1.04.2-1.43.59L10.3 9.45l-7.72 7.72c-.78.78-.78 2.05 0 2.83L4 21.41c.39.39.9.59 1.41.59.51 0 1.02-.2 1.41-.59l7.78-7.78 2.81-2.81c.8-.78.8-2.07 0-2.86zM5.41 20L4 18.59l7.72-7.72 1.47 1.35L5.41 20z\"/>\n",
              "  </svg>\n",
              "      </button>\n",
              "      \n",
              "  <style>\n",
              "    .colab-df-container {\n",
              "      display:flex;\n",
              "      flex-wrap:wrap;\n",
              "      gap: 12px;\n",
              "    }\n",
              "\n",
              "    .colab-df-convert {\n",
              "      background-color: #E8F0FE;\n",
              "      border: none;\n",
              "      border-radius: 50%;\n",
              "      cursor: pointer;\n",
              "      display: none;\n",
              "      fill: #1967D2;\n",
              "      height: 32px;\n",
              "      padding: 0 0 0 0;\n",
              "      width: 32px;\n",
              "    }\n",
              "\n",
              "    .colab-df-convert:hover {\n",
              "      background-color: #E2EBFA;\n",
              "      box-shadow: 0px 1px 2px rgba(60, 64, 67, 0.3), 0px 1px 3px 1px rgba(60, 64, 67, 0.15);\n",
              "      fill: #174EA6;\n",
              "    }\n",
              "\n",
              "    [theme=dark] .colab-df-convert {\n",
              "      background-color: #3B4455;\n",
              "      fill: #D2E3FC;\n",
              "    }\n",
              "\n",
              "    [theme=dark] .colab-df-convert:hover {\n",
              "      background-color: #434B5C;\n",
              "      box-shadow: 0px 1px 3px 1px rgba(0, 0, 0, 0.15);\n",
              "      filter: drop-shadow(0px 1px 2px rgba(0, 0, 0, 0.3));\n",
              "      fill: #FFFFFF;\n",
              "    }\n",
              "  </style>\n",
              "\n",
              "      <script>\n",
              "        const buttonEl =\n",
              "          document.querySelector('#df-4ec20caa-9e8c-4543-b69e-33095a551a25 button.colab-df-convert');\n",
              "        buttonEl.style.display =\n",
              "          google.colab.kernel.accessAllowed ? 'block' : 'none';\n",
              "\n",
              "        async function convertToInteractive(key) {\n",
              "          const element = document.querySelector('#df-4ec20caa-9e8c-4543-b69e-33095a551a25');\n",
              "          const dataTable =\n",
              "            await google.colab.kernel.invokeFunction('convertToInteractive',\n",
              "                                                     [key], {});\n",
              "          if (!dataTable) return;\n",
              "\n",
              "          const docLinkHtml = 'Like what you see? Visit the ' +\n",
              "            '<a target=\"_blank\" href=https://colab.research.google.com/notebooks/data_table.ipynb>data table notebook</a>'\n",
              "            + ' to learn more about interactive tables.';\n",
              "          element.innerHTML = '';\n",
              "          dataTable['output_type'] = 'display_data';\n",
              "          await google.colab.output.renderOutput(dataTable, element);\n",
              "          const docLink = document.createElement('div');\n",
              "          docLink.innerHTML = docLinkHtml;\n",
              "          element.appendChild(docLink);\n",
              "        }\n",
              "      </script>\n",
              "    </div>\n",
              "  </div>\n",
              "  "
            ]
          },
          "metadata": {},
          "execution_count": 64
        }
      ]
    },
    {
      "cell_type": "markdown",
      "source": [
        "* KNN"
      ],
      "metadata": {
        "id": "WZ4iQ-mYlIWQ"
      }
    },
    {
      "cell_type": "code",
      "source": [
        "from sklearn.neighbors import KNeighborsClassifier\n",
        "knn = KNeighborsClassifier(n_neighbors=3)\n",
        "knn.fit(X_train, y_train)\n",
        "print(classification_report(y_test, knn.predict(X_test)))"
      ],
      "metadata": {
        "colab": {
          "base_uri": "https://localhost:8080/"
        },
        "outputId": "2993652c-a156-486e-d538-6c3d12b9e1e6",
        "id": "tTvJQAOfl9qk"
      },
      "execution_count": null,
      "outputs": [
        {
          "output_type": "stream",
          "name": "stdout",
          "text": [
            "              precision    recall  f1-score   support\n",
            "\n",
            "           ,       0.00      0.00      0.00         1\n",
            "           .       0.00      0.00      0.00         3\n",
            "         nan       0.84      0.84      0.84        58\n",
            "           Ν       0.00      0.00      0.00         3\n",
            "           Υ       0.00      0.00      0.00         4\n",
            "           α       0.18      0.54      0.27        48\n",
            "           β       0.00      0.00      0.00         2\n",
            "           γ       0.50      0.25      0.33         4\n",
            "           δ       0.14      0.14      0.14         7\n",
            "           ε       0.10      0.13      0.12        38\n",
            "           ζ       0.00      0.00      0.00         1\n",
            "           η       0.00      0.00      0.00        10\n",
            "           θ       0.29      0.20      0.24        10\n",
            "           ι       0.26      0.30      0.28        33\n",
            "           κ       0.40      0.14      0.21        14\n",
            "           λ       1.00      0.33      0.50         6\n",
            "           μ       0.30      0.20      0.24        15\n",
            "           ν       0.50      0.17      0.26        29\n",
            "           ξ       0.00      0.00      0.00         1\n",
            "           ο       0.17      0.05      0.08        41\n",
            "           π       0.50      0.06      0.10        18\n",
            "           ρ       0.38      0.25      0.30        12\n",
            "           σ       0.07      0.19      0.10        31\n",
            "           τ       0.83      0.16      0.27        31\n",
            "           υ       0.00      0.00      0.00        19\n",
            "           φ       0.00      0.00      0.00         2\n",
            "           χ       0.00      0.00      0.00         2\n",
            "           ψ       0.00      0.00      0.00         2\n",
            "           ω       0.00      0.00      0.00        11\n",
            "\n",
            "    accuracy                           0.27       456\n",
            "   macro avg       0.22      0.14      0.15       456\n",
            "weighted avg       0.34      0.27      0.26       456\n",
            "\n"
          ]
        },
        {
          "output_type": "stream",
          "name": "stderr",
          "text": [
            "/usr/local/lib/python3.7/dist-packages/sklearn/metrics/_classification.py:1318: UndefinedMetricWarning: Precision and F-score are ill-defined and being set to 0.0 in labels with no predicted samples. Use `zero_division` parameter to control this behavior.\n",
            "  _warn_prf(average, modifier, msg_start, len(result))\n",
            "/usr/local/lib/python3.7/dist-packages/sklearn/metrics/_classification.py:1318: UndefinedMetricWarning: Precision and F-score are ill-defined and being set to 0.0 in labels with no predicted samples. Use `zero_division` parameter to control this behavior.\n",
            "  _warn_prf(average, modifier, msg_start, len(result))\n",
            "/usr/local/lib/python3.7/dist-packages/sklearn/metrics/_classification.py:1318: UndefinedMetricWarning: Precision and F-score are ill-defined and being set to 0.0 in labels with no predicted samples. Use `zero_division` parameter to control this behavior.\n",
            "  _warn_prf(average, modifier, msg_start, len(result))\n"
          ]
        }
      ]
    },
    {
      "cell_type": "code",
      "source": [
        "predicted_knn = knn.predict(X_test)\n",
        "kcl = pd.DataFrame(y_test, columns=['y_test'])\n",
        "kcl['KNN_prediction']=predicted_knn\n",
        "kcl"
      ],
      "metadata": {
        "colab": {
          "base_uri": "https://localhost:8080/",
          "height": 424
        },
        "outputId": "119e1407-0efe-415f-cb53-b2478bab75b5",
        "id": "yUtTT5MxmHCD"
      },
      "execution_count": null,
      "outputs": [
        {
          "output_type": "execute_result",
          "data": {
            "text/plain": [
              "    y_test KNN_prediction\n",
              "0        π              α\n",
              "1        ρ              α\n",
              "2        α              α\n",
              "3        τ              θ\n",
              "4        τ              α\n",
              "..     ...            ...\n",
              "451    NaN            nan\n",
              "452      σ              α\n",
              "453      π              α\n",
              "454      ρ              ρ\n",
              "455      ο              ε\n",
              "\n",
              "[456 rows x 2 columns]"
            ],
            "text/html": [
              "\n",
              "  <div id=\"df-138a33b9-6e15-4381-a654-fbb3b20cf8a0\">\n",
              "    <div class=\"colab-df-container\">\n",
              "      <div>\n",
              "<style scoped>\n",
              "    .dataframe tbody tr th:only-of-type {\n",
              "        vertical-align: middle;\n",
              "    }\n",
              "\n",
              "    .dataframe tbody tr th {\n",
              "        vertical-align: top;\n",
              "    }\n",
              "\n",
              "    .dataframe thead th {\n",
              "        text-align: right;\n",
              "    }\n",
              "</style>\n",
              "<table border=\"1\" class=\"dataframe\">\n",
              "  <thead>\n",
              "    <tr style=\"text-align: right;\">\n",
              "      <th></th>\n",
              "      <th>y_test</th>\n",
              "      <th>KNN_prediction</th>\n",
              "    </tr>\n",
              "  </thead>\n",
              "  <tbody>\n",
              "    <tr>\n",
              "      <th>0</th>\n",
              "      <td>π</td>\n",
              "      <td>α</td>\n",
              "    </tr>\n",
              "    <tr>\n",
              "      <th>1</th>\n",
              "      <td>ρ</td>\n",
              "      <td>α</td>\n",
              "    </tr>\n",
              "    <tr>\n",
              "      <th>2</th>\n",
              "      <td>α</td>\n",
              "      <td>α</td>\n",
              "    </tr>\n",
              "    <tr>\n",
              "      <th>3</th>\n",
              "      <td>τ</td>\n",
              "      <td>θ</td>\n",
              "    </tr>\n",
              "    <tr>\n",
              "      <th>4</th>\n",
              "      <td>τ</td>\n",
              "      <td>α</td>\n",
              "    </tr>\n",
              "    <tr>\n",
              "      <th>...</th>\n",
              "      <td>...</td>\n",
              "      <td>...</td>\n",
              "    </tr>\n",
              "    <tr>\n",
              "      <th>451</th>\n",
              "      <td>NaN</td>\n",
              "      <td>nan</td>\n",
              "    </tr>\n",
              "    <tr>\n",
              "      <th>452</th>\n",
              "      <td>σ</td>\n",
              "      <td>α</td>\n",
              "    </tr>\n",
              "    <tr>\n",
              "      <th>453</th>\n",
              "      <td>π</td>\n",
              "      <td>α</td>\n",
              "    </tr>\n",
              "    <tr>\n",
              "      <th>454</th>\n",
              "      <td>ρ</td>\n",
              "      <td>ρ</td>\n",
              "    </tr>\n",
              "    <tr>\n",
              "      <th>455</th>\n",
              "      <td>ο</td>\n",
              "      <td>ε</td>\n",
              "    </tr>\n",
              "  </tbody>\n",
              "</table>\n",
              "<p>456 rows × 2 columns</p>\n",
              "</div>\n",
              "      <button class=\"colab-df-convert\" onclick=\"convertToInteractive('df-138a33b9-6e15-4381-a654-fbb3b20cf8a0')\"\n",
              "              title=\"Convert this dataframe to an interactive table.\"\n",
              "              style=\"display:none;\">\n",
              "        \n",
              "  <svg xmlns=\"http://www.w3.org/2000/svg\" height=\"24px\"viewBox=\"0 0 24 24\"\n",
              "       width=\"24px\">\n",
              "    <path d=\"M0 0h24v24H0V0z\" fill=\"none\"/>\n",
              "    <path d=\"M18.56 5.44l.94 2.06.94-2.06 2.06-.94-2.06-.94-.94-2.06-.94 2.06-2.06.94zm-11 1L8.5 8.5l.94-2.06 2.06-.94-2.06-.94L8.5 2.5l-.94 2.06-2.06.94zm10 10l.94 2.06.94-2.06 2.06-.94-2.06-.94-.94-2.06-.94 2.06-2.06.94z\"/><path d=\"M17.41 7.96l-1.37-1.37c-.4-.4-.92-.59-1.43-.59-.52 0-1.04.2-1.43.59L10.3 9.45l-7.72 7.72c-.78.78-.78 2.05 0 2.83L4 21.41c.39.39.9.59 1.41.59.51 0 1.02-.2 1.41-.59l7.78-7.78 2.81-2.81c.8-.78.8-2.07 0-2.86zM5.41 20L4 18.59l7.72-7.72 1.47 1.35L5.41 20z\"/>\n",
              "  </svg>\n",
              "      </button>\n",
              "      \n",
              "  <style>\n",
              "    .colab-df-container {\n",
              "      display:flex;\n",
              "      flex-wrap:wrap;\n",
              "      gap: 12px;\n",
              "    }\n",
              "\n",
              "    .colab-df-convert {\n",
              "      background-color: #E8F0FE;\n",
              "      border: none;\n",
              "      border-radius: 50%;\n",
              "      cursor: pointer;\n",
              "      display: none;\n",
              "      fill: #1967D2;\n",
              "      height: 32px;\n",
              "      padding: 0 0 0 0;\n",
              "      width: 32px;\n",
              "    }\n",
              "\n",
              "    .colab-df-convert:hover {\n",
              "      background-color: #E2EBFA;\n",
              "      box-shadow: 0px 1px 2px rgba(60, 64, 67, 0.3), 0px 1px 3px 1px rgba(60, 64, 67, 0.15);\n",
              "      fill: #174EA6;\n",
              "    }\n",
              "\n",
              "    [theme=dark] .colab-df-convert {\n",
              "      background-color: #3B4455;\n",
              "      fill: #D2E3FC;\n",
              "    }\n",
              "\n",
              "    [theme=dark] .colab-df-convert:hover {\n",
              "      background-color: #434B5C;\n",
              "      box-shadow: 0px 1px 3px 1px rgba(0, 0, 0, 0.15);\n",
              "      filter: drop-shadow(0px 1px 2px rgba(0, 0, 0, 0.3));\n",
              "      fill: #FFFFFF;\n",
              "    }\n",
              "  </style>\n",
              "\n",
              "      <script>\n",
              "        const buttonEl =\n",
              "          document.querySelector('#df-138a33b9-6e15-4381-a654-fbb3b20cf8a0 button.colab-df-convert');\n",
              "        buttonEl.style.display =\n",
              "          google.colab.kernel.accessAllowed ? 'block' : 'none';\n",
              "\n",
              "        async function convertToInteractive(key) {\n",
              "          const element = document.querySelector('#df-138a33b9-6e15-4381-a654-fbb3b20cf8a0');\n",
              "          const dataTable =\n",
              "            await google.colab.kernel.invokeFunction('convertToInteractive',\n",
              "                                                     [key], {});\n",
              "          if (!dataTable) return;\n",
              "\n",
              "          const docLinkHtml = 'Like what you see? Visit the ' +\n",
              "            '<a target=\"_blank\" href=https://colab.research.google.com/notebooks/data_table.ipynb>data table notebook</a>'\n",
              "            + ' to learn more about interactive tables.';\n",
              "          element.innerHTML = '';\n",
              "          dataTable['output_type'] = 'display_data';\n",
              "          await google.colab.output.renderOutput(dataTable, element);\n",
              "          const docLink = document.createElement('div');\n",
              "          docLink.innerHTML = docLinkHtml;\n",
              "          element.appendChild(docLink);\n",
              "        }\n",
              "      </script>\n",
              "    </div>\n",
              "  </div>\n",
              "  "
            ]
          },
          "metadata": {},
          "execution_count": 75
        }
      ]
    },
    {
      "cell_type": "markdown",
      "source": [
        "* Random Forest"
      ],
      "metadata": {
        "id": "IJAmWYoolKx_"
      }
    },
    {
      "cell_type": "code",
      "source": [
        "from sklearn.ensemble import RandomForestClassifier\n",
        "rfc = RandomForestClassifier(n_estimators=300)\n",
        "rfc.fit(X_train,y_train)\n",
        "print(classification_report(y_test, rfc.predict(X_test)))"
      ],
      "metadata": {
        "colab": {
          "base_uri": "https://localhost:8080/"
        },
        "id": "nK6VNj54n3jt",
        "outputId": "d2783ce0-5dd3-43c7-9308-fbcdb5ac0864"
      },
      "execution_count": null,
      "outputs": [
        {
          "output_type": "stream",
          "name": "stdout",
          "text": [
            "              precision    recall  f1-score   support\n",
            "\n",
            "           ,       0.00      0.00      0.00         1\n",
            "           .       0.00      0.00      0.00         3\n",
            "         nan       0.84      0.84      0.84        58\n",
            "           Ν       0.00      0.00      0.00         3\n",
            "           Υ       0.00      0.00      0.00         4\n",
            "           α       0.18      0.54      0.27        48\n",
            "           β       0.00      0.00      0.00         2\n",
            "           γ       0.50      0.25      0.33         4\n",
            "           δ       0.14      0.14      0.14         7\n",
            "           ε       0.10      0.13      0.12        38\n",
            "           ζ       0.00      0.00      0.00         1\n",
            "           η       0.00      0.00      0.00        10\n",
            "           θ       0.29      0.20      0.24        10\n",
            "           ι       0.26      0.30      0.28        33\n",
            "           κ       0.40      0.14      0.21        14\n",
            "           λ       1.00      0.33      0.50         6\n",
            "           μ       0.30      0.20      0.24        15\n",
            "           ν       0.50      0.17      0.26        29\n",
            "           ξ       0.00      0.00      0.00         1\n",
            "           ο       0.17      0.05      0.08        41\n",
            "           π       0.50      0.06      0.10        18\n",
            "           ρ       0.38      0.25      0.30        12\n",
            "           σ       0.07      0.19      0.10        31\n",
            "           τ       0.83      0.16      0.27        31\n",
            "           υ       0.00      0.00      0.00        19\n",
            "           φ       0.00      0.00      0.00         2\n",
            "           χ       0.00      0.00      0.00         2\n",
            "           ψ       0.00      0.00      0.00         2\n",
            "           ω       0.00      0.00      0.00        11\n",
            "\n",
            "    accuracy                           0.27       456\n",
            "   macro avg       0.22      0.14      0.15       456\n",
            "weighted avg       0.34      0.27      0.26       456\n",
            "\n"
          ]
        },
        {
          "output_type": "stream",
          "name": "stderr",
          "text": [
            "/usr/local/lib/python3.7/dist-packages/sklearn/metrics/_classification.py:1318: UndefinedMetricWarning: Precision and F-score are ill-defined and being set to 0.0 in labels with no predicted samples. Use `zero_division` parameter to control this behavior.\n",
            "  _warn_prf(average, modifier, msg_start, len(result))\n",
            "/usr/local/lib/python3.7/dist-packages/sklearn/metrics/_classification.py:1318: UndefinedMetricWarning: Precision and F-score are ill-defined and being set to 0.0 in labels with no predicted samples. Use `zero_division` parameter to control this behavior.\n",
            "  _warn_prf(average, modifier, msg_start, len(result))\n",
            "/usr/local/lib/python3.7/dist-packages/sklearn/metrics/_classification.py:1318: UndefinedMetricWarning: Precision and F-score are ill-defined and being set to 0.0 in labels with no predicted samples. Use `zero_division` parameter to control this behavior.\n",
            "  _warn_prf(average, modifier, msg_start, len(result))\n"
          ]
        }
      ]
    },
    {
      "cell_type": "code",
      "source": [
        "predicted_rfc = rfc.predict(X_test)\n",
        "rcl = pd.DataFrame(y_test, columns=['y_test'])\n",
        "rcl['RFC_prediction']=predicted_rfc\n",
        "rcl"
      ],
      "metadata": {
        "colab": {
          "base_uri": "https://localhost:8080/",
          "height": 424
        },
        "id": "C20fqx3po_Em",
        "outputId": "d324c7ad-d6c8-48eb-f52a-ce57a9d8259b"
      },
      "execution_count": null,
      "outputs": [
        {
          "output_type": "execute_result",
          "data": {
            "text/plain": [
              "    y_test RFC_prediction\n",
              "0        π              ι\n",
              "1        ρ              ρ\n",
              "2        α              ι\n",
              "3        τ              σ\n",
              "4        τ              σ\n",
              "..     ...            ...\n",
              "451    NaN            nan\n",
              "452      σ              σ\n",
              "453      π              σ\n",
              "454      ρ              ι\n",
              "455      ο              ε\n",
              "\n",
              "[456 rows x 2 columns]"
            ],
            "text/html": [
              "\n",
              "  <div id=\"df-64feed8a-98b2-4e0e-af05-2e4bdb137e50\">\n",
              "    <div class=\"colab-df-container\">\n",
              "      <div>\n",
              "<style scoped>\n",
              "    .dataframe tbody tr th:only-of-type {\n",
              "        vertical-align: middle;\n",
              "    }\n",
              "\n",
              "    .dataframe tbody tr th {\n",
              "        vertical-align: top;\n",
              "    }\n",
              "\n",
              "    .dataframe thead th {\n",
              "        text-align: right;\n",
              "    }\n",
              "</style>\n",
              "<table border=\"1\" class=\"dataframe\">\n",
              "  <thead>\n",
              "    <tr style=\"text-align: right;\">\n",
              "      <th></th>\n",
              "      <th>y_test</th>\n",
              "      <th>RFC_prediction</th>\n",
              "    </tr>\n",
              "  </thead>\n",
              "  <tbody>\n",
              "    <tr>\n",
              "      <th>0</th>\n",
              "      <td>π</td>\n",
              "      <td>ι</td>\n",
              "    </tr>\n",
              "    <tr>\n",
              "      <th>1</th>\n",
              "      <td>ρ</td>\n",
              "      <td>ρ</td>\n",
              "    </tr>\n",
              "    <tr>\n",
              "      <th>2</th>\n",
              "      <td>α</td>\n",
              "      <td>ι</td>\n",
              "    </tr>\n",
              "    <tr>\n",
              "      <th>3</th>\n",
              "      <td>τ</td>\n",
              "      <td>σ</td>\n",
              "    </tr>\n",
              "    <tr>\n",
              "      <th>4</th>\n",
              "      <td>τ</td>\n",
              "      <td>σ</td>\n",
              "    </tr>\n",
              "    <tr>\n",
              "      <th>...</th>\n",
              "      <td>...</td>\n",
              "      <td>...</td>\n",
              "    </tr>\n",
              "    <tr>\n",
              "      <th>451</th>\n",
              "      <td>NaN</td>\n",
              "      <td>nan</td>\n",
              "    </tr>\n",
              "    <tr>\n",
              "      <th>452</th>\n",
              "      <td>σ</td>\n",
              "      <td>σ</td>\n",
              "    </tr>\n",
              "    <tr>\n",
              "      <th>453</th>\n",
              "      <td>π</td>\n",
              "      <td>σ</td>\n",
              "    </tr>\n",
              "    <tr>\n",
              "      <th>454</th>\n",
              "      <td>ρ</td>\n",
              "      <td>ι</td>\n",
              "    </tr>\n",
              "    <tr>\n",
              "      <th>455</th>\n",
              "      <td>ο</td>\n",
              "      <td>ε</td>\n",
              "    </tr>\n",
              "  </tbody>\n",
              "</table>\n",
              "<p>456 rows × 2 columns</p>\n",
              "</div>\n",
              "      <button class=\"colab-df-convert\" onclick=\"convertToInteractive('df-64feed8a-98b2-4e0e-af05-2e4bdb137e50')\"\n",
              "              title=\"Convert this dataframe to an interactive table.\"\n",
              "              style=\"display:none;\">\n",
              "        \n",
              "  <svg xmlns=\"http://www.w3.org/2000/svg\" height=\"24px\"viewBox=\"0 0 24 24\"\n",
              "       width=\"24px\">\n",
              "    <path d=\"M0 0h24v24H0V0z\" fill=\"none\"/>\n",
              "    <path d=\"M18.56 5.44l.94 2.06.94-2.06 2.06-.94-2.06-.94-.94-2.06-.94 2.06-2.06.94zm-11 1L8.5 8.5l.94-2.06 2.06-.94-2.06-.94L8.5 2.5l-.94 2.06-2.06.94zm10 10l.94 2.06.94-2.06 2.06-.94-2.06-.94-.94-2.06-.94 2.06-2.06.94z\"/><path d=\"M17.41 7.96l-1.37-1.37c-.4-.4-.92-.59-1.43-.59-.52 0-1.04.2-1.43.59L10.3 9.45l-7.72 7.72c-.78.78-.78 2.05 0 2.83L4 21.41c.39.39.9.59 1.41.59.51 0 1.02-.2 1.41-.59l7.78-7.78 2.81-2.81c.8-.78.8-2.07 0-2.86zM5.41 20L4 18.59l7.72-7.72 1.47 1.35L5.41 20z\"/>\n",
              "  </svg>\n",
              "      </button>\n",
              "      \n",
              "  <style>\n",
              "    .colab-df-container {\n",
              "      display:flex;\n",
              "      flex-wrap:wrap;\n",
              "      gap: 12px;\n",
              "    }\n",
              "\n",
              "    .colab-df-convert {\n",
              "      background-color: #E8F0FE;\n",
              "      border: none;\n",
              "      border-radius: 50%;\n",
              "      cursor: pointer;\n",
              "      display: none;\n",
              "      fill: #1967D2;\n",
              "      height: 32px;\n",
              "      padding: 0 0 0 0;\n",
              "      width: 32px;\n",
              "    }\n",
              "\n",
              "    .colab-df-convert:hover {\n",
              "      background-color: #E2EBFA;\n",
              "      box-shadow: 0px 1px 2px rgba(60, 64, 67, 0.3), 0px 1px 3px 1px rgba(60, 64, 67, 0.15);\n",
              "      fill: #174EA6;\n",
              "    }\n",
              "\n",
              "    [theme=dark] .colab-df-convert {\n",
              "      background-color: #3B4455;\n",
              "      fill: #D2E3FC;\n",
              "    }\n",
              "\n",
              "    [theme=dark] .colab-df-convert:hover {\n",
              "      background-color: #434B5C;\n",
              "      box-shadow: 0px 1px 3px 1px rgba(0, 0, 0, 0.15);\n",
              "      filter: drop-shadow(0px 1px 2px rgba(0, 0, 0, 0.3));\n",
              "      fill: #FFFFFF;\n",
              "    }\n",
              "  </style>\n",
              "\n",
              "      <script>\n",
              "        const buttonEl =\n",
              "          document.querySelector('#df-64feed8a-98b2-4e0e-af05-2e4bdb137e50 button.colab-df-convert');\n",
              "        buttonEl.style.display =\n",
              "          google.colab.kernel.accessAllowed ? 'block' : 'none';\n",
              "\n",
              "        async function convertToInteractive(key) {\n",
              "          const element = document.querySelector('#df-64feed8a-98b2-4e0e-af05-2e4bdb137e50');\n",
              "          const dataTable =\n",
              "            await google.colab.kernel.invokeFunction('convertToInteractive',\n",
              "                                                     [key], {});\n",
              "          if (!dataTable) return;\n",
              "\n",
              "          const docLinkHtml = 'Like what you see? Visit the ' +\n",
              "            '<a target=\"_blank\" href=https://colab.research.google.com/notebooks/data_table.ipynb>data table notebook</a>'\n",
              "            + ' to learn more about interactive tables.';\n",
              "          element.innerHTML = '';\n",
              "          dataTable['output_type'] = 'display_data';\n",
              "          await google.colab.output.renderOutput(dataTable, element);\n",
              "          const docLink = document.createElement('div');\n",
              "          docLink.innerHTML = docLinkHtml;\n",
              "          element.appendChild(docLink);\n",
              "        }\n",
              "      </script>\n",
              "    </div>\n",
              "  </div>\n",
              "  "
            ]
          },
          "metadata": {},
          "execution_count": 77
        }
      ]
    },
    {
      "cell_type": "markdown",
      "source": [
        "### 11th century"
      ],
      "metadata": {
        "id": "0pOq7V4ykDRL"
      }
    },
    {
      "cell_type": "code",
      "source": [
        "X_train = data.image_ready[data.century!= 11].to_list()\n",
        "y_train = data.character[data.century!= 11].to_list()\n",
        "X_test = data.image_ready[data.century== 11].to_list()\n",
        "y_test = data.character[data.century== 11].to_list()"
      ],
      "metadata": {
        "id": "ZVAyo13Pk7Hl"
      },
      "execution_count": null,
      "outputs": []
    },
    {
      "cell_type": "markdown",
      "source": [
        "* Decision Tree Classifier"
      ],
      "metadata": {
        "id": "Rru86i6slTLX"
      }
    },
    {
      "cell_type": "code",
      "source": [
        "model.fit(X_train,y_train)\n",
        "predicted = model.predict(X_test)\n",
        "print(classification_report(y_test, model.predict(X_test)))"
      ],
      "metadata": {
        "colab": {
          "base_uri": "https://localhost:8080/"
        },
        "outputId": "19a90056-f5ba-493f-f685-f641038290d2",
        "id": "WUP_QcnCp6sL"
      },
      "execution_count": null,
      "outputs": [
        {
          "output_type": "stream",
          "name": "stdout",
          "text": [
            "              precision    recall  f1-score   support\n",
            "\n",
            "           ,       0.00      0.00      0.00         2\n",
            "           .       0.12      0.50      0.20         2\n",
            "         nan       0.77      0.90      0.83        40\n",
            "           Ν       0.00      0.00      0.00         0\n",
            "           Υ       0.00      0.00      0.00         0\n",
            "           α       0.12      0.09      0.10        32\n",
            "           β       0.00      0.00      0.00         4\n",
            "           γ       0.25      0.20      0.22         5\n",
            "           δ       0.00      0.00      0.00         9\n",
            "           ε       0.15      0.17      0.16        30\n",
            "           ζ       0.00      0.00      0.00         1\n",
            "           η       0.00      0.00      0.00         4\n",
            "           θ       0.00      0.00      0.00         7\n",
            "           ι       0.32      0.24      0.28        41\n",
            "           κ       0.17      0.07      0.10        15\n",
            "           λ       0.00      0.00      0.00         7\n",
            "           μ       0.38      0.55      0.44        11\n",
            "           ν       0.43      0.60      0.50        25\n",
            "           ξ       0.00      0.00      0.00         1\n",
            "           ο       0.29      0.37      0.33        38\n",
            "           π       0.10      0.06      0.08        16\n",
            "           ρ       0.31      0.24      0.27        17\n",
            "           σ       0.24      0.21      0.22        29\n",
            "           τ       0.22      0.22      0.22        23\n",
            "           υ       0.29      0.33      0.31        21\n",
            "           φ       0.00      0.00      0.00         1\n",
            "           χ       0.00      0.00      0.00         1\n",
            "           ψ       0.00      0.00      0.00         0\n",
            "           ω       0.00      0.00      0.00         8\n",
            "\n",
            "    accuracy                           0.29       390\n",
            "   macro avg       0.14      0.16      0.15       390\n",
            "weighted avg       0.27      0.29      0.28       390\n",
            "\n"
          ]
        },
        {
          "output_type": "stream",
          "name": "stderr",
          "text": [
            "/usr/local/lib/python3.7/dist-packages/sklearn/metrics/_classification.py:1318: UndefinedMetricWarning: Precision and F-score are ill-defined and being set to 0.0 in labels with no predicted samples. Use `zero_division` parameter to control this behavior.\n",
            "  _warn_prf(average, modifier, msg_start, len(result))\n",
            "/usr/local/lib/python3.7/dist-packages/sklearn/metrics/_classification.py:1318: UndefinedMetricWarning: Recall and F-score are ill-defined and being set to 0.0 in labels with no true samples. Use `zero_division` parameter to control this behavior.\n",
            "  _warn_prf(average, modifier, msg_start, len(result))\n",
            "/usr/local/lib/python3.7/dist-packages/sklearn/metrics/_classification.py:1318: UndefinedMetricWarning: Precision and F-score are ill-defined and being set to 0.0 in labels with no predicted samples. Use `zero_division` parameter to control this behavior.\n",
            "  _warn_prf(average, modifier, msg_start, len(result))\n",
            "/usr/local/lib/python3.7/dist-packages/sklearn/metrics/_classification.py:1318: UndefinedMetricWarning: Recall and F-score are ill-defined and being set to 0.0 in labels with no true samples. Use `zero_division` parameter to control this behavior.\n",
            "  _warn_prf(average, modifier, msg_start, len(result))\n",
            "/usr/local/lib/python3.7/dist-packages/sklearn/metrics/_classification.py:1318: UndefinedMetricWarning: Precision and F-score are ill-defined and being set to 0.0 in labels with no predicted samples. Use `zero_division` parameter to control this behavior.\n",
            "  _warn_prf(average, modifier, msg_start, len(result))\n",
            "/usr/local/lib/python3.7/dist-packages/sklearn/metrics/_classification.py:1318: UndefinedMetricWarning: Recall and F-score are ill-defined and being set to 0.0 in labels with no true samples. Use `zero_division` parameter to control this behavior.\n",
            "  _warn_prf(average, modifier, msg_start, len(result))\n"
          ]
        }
      ]
    },
    {
      "cell_type": "code",
      "source": [
        "dtc = pd.DataFrame(y_test, columns=['y_test'])\n",
        "dtc['DTC_prediction']=predicted\n",
        "dtc"
      ],
      "metadata": {
        "colab": {
          "base_uri": "https://localhost:8080/",
          "height": 424
        },
        "outputId": "7f03741a-20d8-467b-8a2e-09e3ec19f8be",
        "id": "n5yIbc4UqBs7"
      },
      "execution_count": null,
      "outputs": [
        {
          "output_type": "execute_result",
          "data": {
            "text/plain": [
              "    y_test DTC_prediction\n",
              "0        λ              ε\n",
              "1        ο              ι\n",
              "2        τ              ε\n",
              "3        ρ              ι\n",
              "4        ι              ι\n",
              "..     ...            ...\n",
              "385      κ              χ\n",
              "386      α              ι\n",
              "387      θ              ο\n",
              "388      ι              ι\n",
              "389      ε              ι\n",
              "\n",
              "[390 rows x 2 columns]"
            ],
            "text/html": [
              "\n",
              "  <div id=\"df-52801249-595b-468c-a24c-5c755bd661f8\">\n",
              "    <div class=\"colab-df-container\">\n",
              "      <div>\n",
              "<style scoped>\n",
              "    .dataframe tbody tr th:only-of-type {\n",
              "        vertical-align: middle;\n",
              "    }\n",
              "\n",
              "    .dataframe tbody tr th {\n",
              "        vertical-align: top;\n",
              "    }\n",
              "\n",
              "    .dataframe thead th {\n",
              "        text-align: right;\n",
              "    }\n",
              "</style>\n",
              "<table border=\"1\" class=\"dataframe\">\n",
              "  <thead>\n",
              "    <tr style=\"text-align: right;\">\n",
              "      <th></th>\n",
              "      <th>y_test</th>\n",
              "      <th>DTC_prediction</th>\n",
              "    </tr>\n",
              "  </thead>\n",
              "  <tbody>\n",
              "    <tr>\n",
              "      <th>0</th>\n",
              "      <td>λ</td>\n",
              "      <td>ε</td>\n",
              "    </tr>\n",
              "    <tr>\n",
              "      <th>1</th>\n",
              "      <td>ο</td>\n",
              "      <td>ι</td>\n",
              "    </tr>\n",
              "    <tr>\n",
              "      <th>2</th>\n",
              "      <td>τ</td>\n",
              "      <td>ε</td>\n",
              "    </tr>\n",
              "    <tr>\n",
              "      <th>3</th>\n",
              "      <td>ρ</td>\n",
              "      <td>ι</td>\n",
              "    </tr>\n",
              "    <tr>\n",
              "      <th>4</th>\n",
              "      <td>ι</td>\n",
              "      <td>ι</td>\n",
              "    </tr>\n",
              "    <tr>\n",
              "      <th>...</th>\n",
              "      <td>...</td>\n",
              "      <td>...</td>\n",
              "    </tr>\n",
              "    <tr>\n",
              "      <th>385</th>\n",
              "      <td>κ</td>\n",
              "      <td>χ</td>\n",
              "    </tr>\n",
              "    <tr>\n",
              "      <th>386</th>\n",
              "      <td>α</td>\n",
              "      <td>ι</td>\n",
              "    </tr>\n",
              "    <tr>\n",
              "      <th>387</th>\n",
              "      <td>θ</td>\n",
              "      <td>ο</td>\n",
              "    </tr>\n",
              "    <tr>\n",
              "      <th>388</th>\n",
              "      <td>ι</td>\n",
              "      <td>ι</td>\n",
              "    </tr>\n",
              "    <tr>\n",
              "      <th>389</th>\n",
              "      <td>ε</td>\n",
              "      <td>ι</td>\n",
              "    </tr>\n",
              "  </tbody>\n",
              "</table>\n",
              "<p>390 rows × 2 columns</p>\n",
              "</div>\n",
              "      <button class=\"colab-df-convert\" onclick=\"convertToInteractive('df-52801249-595b-468c-a24c-5c755bd661f8')\"\n",
              "              title=\"Convert this dataframe to an interactive table.\"\n",
              "              style=\"display:none;\">\n",
              "        \n",
              "  <svg xmlns=\"http://www.w3.org/2000/svg\" height=\"24px\"viewBox=\"0 0 24 24\"\n",
              "       width=\"24px\">\n",
              "    <path d=\"M0 0h24v24H0V0z\" fill=\"none\"/>\n",
              "    <path d=\"M18.56 5.44l.94 2.06.94-2.06 2.06-.94-2.06-.94-.94-2.06-.94 2.06-2.06.94zm-11 1L8.5 8.5l.94-2.06 2.06-.94-2.06-.94L8.5 2.5l-.94 2.06-2.06.94zm10 10l.94 2.06.94-2.06 2.06-.94-2.06-.94-.94-2.06-.94 2.06-2.06.94z\"/><path d=\"M17.41 7.96l-1.37-1.37c-.4-.4-.92-.59-1.43-.59-.52 0-1.04.2-1.43.59L10.3 9.45l-7.72 7.72c-.78.78-.78 2.05 0 2.83L4 21.41c.39.39.9.59 1.41.59.51 0 1.02-.2 1.41-.59l7.78-7.78 2.81-2.81c.8-.78.8-2.07 0-2.86zM5.41 20L4 18.59l7.72-7.72 1.47 1.35L5.41 20z\"/>\n",
              "  </svg>\n",
              "      </button>\n",
              "      \n",
              "  <style>\n",
              "    .colab-df-container {\n",
              "      display:flex;\n",
              "      flex-wrap:wrap;\n",
              "      gap: 12px;\n",
              "    }\n",
              "\n",
              "    .colab-df-convert {\n",
              "      background-color: #E8F0FE;\n",
              "      border: none;\n",
              "      border-radius: 50%;\n",
              "      cursor: pointer;\n",
              "      display: none;\n",
              "      fill: #1967D2;\n",
              "      height: 32px;\n",
              "      padding: 0 0 0 0;\n",
              "      width: 32px;\n",
              "    }\n",
              "\n",
              "    .colab-df-convert:hover {\n",
              "      background-color: #E2EBFA;\n",
              "      box-shadow: 0px 1px 2px rgba(60, 64, 67, 0.3), 0px 1px 3px 1px rgba(60, 64, 67, 0.15);\n",
              "      fill: #174EA6;\n",
              "    }\n",
              "\n",
              "    [theme=dark] .colab-df-convert {\n",
              "      background-color: #3B4455;\n",
              "      fill: #D2E3FC;\n",
              "    }\n",
              "\n",
              "    [theme=dark] .colab-df-convert:hover {\n",
              "      background-color: #434B5C;\n",
              "      box-shadow: 0px 1px 3px 1px rgba(0, 0, 0, 0.15);\n",
              "      filter: drop-shadow(0px 1px 2px rgba(0, 0, 0, 0.3));\n",
              "      fill: #FFFFFF;\n",
              "    }\n",
              "  </style>\n",
              "\n",
              "      <script>\n",
              "        const buttonEl =\n",
              "          document.querySelector('#df-52801249-595b-468c-a24c-5c755bd661f8 button.colab-df-convert');\n",
              "        buttonEl.style.display =\n",
              "          google.colab.kernel.accessAllowed ? 'block' : 'none';\n",
              "\n",
              "        async function convertToInteractive(key) {\n",
              "          const element = document.querySelector('#df-52801249-595b-468c-a24c-5c755bd661f8');\n",
              "          const dataTable =\n",
              "            await google.colab.kernel.invokeFunction('convertToInteractive',\n",
              "                                                     [key], {});\n",
              "          if (!dataTable) return;\n",
              "\n",
              "          const docLinkHtml = 'Like what you see? Visit the ' +\n",
              "            '<a target=\"_blank\" href=https://colab.research.google.com/notebooks/data_table.ipynb>data table notebook</a>'\n",
              "            + ' to learn more about interactive tables.';\n",
              "          element.innerHTML = '';\n",
              "          dataTable['output_type'] = 'display_data';\n",
              "          await google.colab.output.renderOutput(dataTable, element);\n",
              "          const docLink = document.createElement('div');\n",
              "          docLink.innerHTML = docLinkHtml;\n",
              "          element.appendChild(docLink);\n",
              "        }\n",
              "      </script>\n",
              "    </div>\n",
              "  </div>\n",
              "  "
            ]
          },
          "metadata": {},
          "execution_count": 86
        }
      ]
    },
    {
      "cell_type": "markdown",
      "source": [
        "* KNN"
      ],
      "metadata": {
        "id": "Wy3iYKGtlUWD"
      }
    },
    {
      "cell_type": "code",
      "source": [
        "from sklearn.neighbors import KNeighborsClassifier\n",
        "knn = KNeighborsClassifier(n_neighbors=3)\n",
        "knn.fit(X_train, y_train)\n",
        "print(classification_report(y_test, knn.predict(X_test)))"
      ],
      "metadata": {
        "colab": {
          "base_uri": "https://localhost:8080/"
        },
        "outputId": "acb92a2e-ec5b-4562-95b2-3d0fa024a306",
        "id": "xmvaZk3BqVkD"
      },
      "execution_count": null,
      "outputs": [
        {
          "output_type": "stream",
          "name": "stdout",
          "text": [
            "              precision    recall  f1-score   support\n",
            "\n",
            "           ,       0.00      0.00      0.00         2\n",
            "           .       0.00      0.00      0.00         2\n",
            "         nan       0.45      0.97      0.61        40\n",
            "           α       0.39      0.69      0.50        32\n",
            "           β       0.00      0.00      0.00         4\n",
            "           γ       0.50      0.60      0.55         5\n",
            "           δ       1.00      0.33      0.50         9\n",
            "           ε       0.53      0.30      0.38        30\n",
            "           ζ       0.00      0.00      0.00         1\n",
            "           η       0.25      0.50      0.33         4\n",
            "           θ       0.67      0.29      0.40         7\n",
            "           ι       0.68      0.66      0.67        41\n",
            "           κ       1.00      0.20      0.33        15\n",
            "           λ       0.00      0.00      0.00         7\n",
            "           μ       0.50      0.64      0.56        11\n",
            "           ν       0.40      0.76      0.52        25\n",
            "           ξ       0.00      0.00      0.00         1\n",
            "           ο       0.55      0.68      0.61        38\n",
            "           π       1.00      0.12      0.22        16\n",
            "           ρ       0.30      0.18      0.22        17\n",
            "           σ       0.71      0.34      0.47        29\n",
            "           τ       0.88      0.65      0.75        23\n",
            "           υ       0.20      0.05      0.08        21\n",
            "           φ       0.00      0.00      0.00         1\n",
            "           χ       0.00      0.00      0.00         1\n",
            "           ω       0.67      0.25      0.36         8\n",
            "\n",
            "    accuracy                           0.50       390\n",
            "   macro avg       0.41      0.32      0.31       390\n",
            "weighted avg       0.55      0.50      0.46       390\n",
            "\n"
          ]
        },
        {
          "output_type": "stream",
          "name": "stderr",
          "text": [
            "/usr/local/lib/python3.7/dist-packages/sklearn/metrics/_classification.py:1318: UndefinedMetricWarning: Precision and F-score are ill-defined and being set to 0.0 in labels with no predicted samples. Use `zero_division` parameter to control this behavior.\n",
            "  _warn_prf(average, modifier, msg_start, len(result))\n",
            "/usr/local/lib/python3.7/dist-packages/sklearn/metrics/_classification.py:1318: UndefinedMetricWarning: Precision and F-score are ill-defined and being set to 0.0 in labels with no predicted samples. Use `zero_division` parameter to control this behavior.\n",
            "  _warn_prf(average, modifier, msg_start, len(result))\n",
            "/usr/local/lib/python3.7/dist-packages/sklearn/metrics/_classification.py:1318: UndefinedMetricWarning: Precision and F-score are ill-defined and being set to 0.0 in labels with no predicted samples. Use `zero_division` parameter to control this behavior.\n",
            "  _warn_prf(average, modifier, msg_start, len(result))\n"
          ]
        }
      ]
    },
    {
      "cell_type": "code",
      "source": [
        "predicted_knn = knn.predict(X_test)\n",
        "kcl = pd.DataFrame(y_test, columns=['y_test'])\n",
        "kcl['KNN_prediction']=predicted_knn\n",
        "kcl"
      ],
      "metadata": {
        "colab": {
          "base_uri": "https://localhost:8080/",
          "height": 424
        },
        "outputId": "ba800f65-7f8d-4ea2-c66a-4159d21b4805",
        "id": "GMouol13qddr"
      },
      "execution_count": null,
      "outputs": [
        {
          "output_type": "execute_result",
          "data": {
            "text/plain": [
              "    y_test KNN_prediction\n",
              "0        λ              α\n",
              "1        ο              ο\n",
              "2        τ              σ\n",
              "3        ρ              α\n",
              "4        ι              ι\n",
              "..     ...            ...\n",
              "385      κ              υ\n",
              "386      α            nan\n",
              "387      θ              α\n",
              "388      ι              υ\n",
              "389      ε            nan\n",
              "\n",
              "[390 rows x 2 columns]"
            ],
            "text/html": [
              "\n",
              "  <div id=\"df-001f417f-69cc-4b92-a5da-a72e6d954f08\">\n",
              "    <div class=\"colab-df-container\">\n",
              "      <div>\n",
              "<style scoped>\n",
              "    .dataframe tbody tr th:only-of-type {\n",
              "        vertical-align: middle;\n",
              "    }\n",
              "\n",
              "    .dataframe tbody tr th {\n",
              "        vertical-align: top;\n",
              "    }\n",
              "\n",
              "    .dataframe thead th {\n",
              "        text-align: right;\n",
              "    }\n",
              "</style>\n",
              "<table border=\"1\" class=\"dataframe\">\n",
              "  <thead>\n",
              "    <tr style=\"text-align: right;\">\n",
              "      <th></th>\n",
              "      <th>y_test</th>\n",
              "      <th>KNN_prediction</th>\n",
              "    </tr>\n",
              "  </thead>\n",
              "  <tbody>\n",
              "    <tr>\n",
              "      <th>0</th>\n",
              "      <td>λ</td>\n",
              "      <td>α</td>\n",
              "    </tr>\n",
              "    <tr>\n",
              "      <th>1</th>\n",
              "      <td>ο</td>\n",
              "      <td>ο</td>\n",
              "    </tr>\n",
              "    <tr>\n",
              "      <th>2</th>\n",
              "      <td>τ</td>\n",
              "      <td>σ</td>\n",
              "    </tr>\n",
              "    <tr>\n",
              "      <th>3</th>\n",
              "      <td>ρ</td>\n",
              "      <td>α</td>\n",
              "    </tr>\n",
              "    <tr>\n",
              "      <th>4</th>\n",
              "      <td>ι</td>\n",
              "      <td>ι</td>\n",
              "    </tr>\n",
              "    <tr>\n",
              "      <th>...</th>\n",
              "      <td>...</td>\n",
              "      <td>...</td>\n",
              "    </tr>\n",
              "    <tr>\n",
              "      <th>385</th>\n",
              "      <td>κ</td>\n",
              "      <td>υ</td>\n",
              "    </tr>\n",
              "    <tr>\n",
              "      <th>386</th>\n",
              "      <td>α</td>\n",
              "      <td>nan</td>\n",
              "    </tr>\n",
              "    <tr>\n",
              "      <th>387</th>\n",
              "      <td>θ</td>\n",
              "      <td>α</td>\n",
              "    </tr>\n",
              "    <tr>\n",
              "      <th>388</th>\n",
              "      <td>ι</td>\n",
              "      <td>υ</td>\n",
              "    </tr>\n",
              "    <tr>\n",
              "      <th>389</th>\n",
              "      <td>ε</td>\n",
              "      <td>nan</td>\n",
              "    </tr>\n",
              "  </tbody>\n",
              "</table>\n",
              "<p>390 rows × 2 columns</p>\n",
              "</div>\n",
              "      <button class=\"colab-df-convert\" onclick=\"convertToInteractive('df-001f417f-69cc-4b92-a5da-a72e6d954f08')\"\n",
              "              title=\"Convert this dataframe to an interactive table.\"\n",
              "              style=\"display:none;\">\n",
              "        \n",
              "  <svg xmlns=\"http://www.w3.org/2000/svg\" height=\"24px\"viewBox=\"0 0 24 24\"\n",
              "       width=\"24px\">\n",
              "    <path d=\"M0 0h24v24H0V0z\" fill=\"none\"/>\n",
              "    <path d=\"M18.56 5.44l.94 2.06.94-2.06 2.06-.94-2.06-.94-.94-2.06-.94 2.06-2.06.94zm-11 1L8.5 8.5l.94-2.06 2.06-.94-2.06-.94L8.5 2.5l-.94 2.06-2.06.94zm10 10l.94 2.06.94-2.06 2.06-.94-2.06-.94-.94-2.06-.94 2.06-2.06.94z\"/><path d=\"M17.41 7.96l-1.37-1.37c-.4-.4-.92-.59-1.43-.59-.52 0-1.04.2-1.43.59L10.3 9.45l-7.72 7.72c-.78.78-.78 2.05 0 2.83L4 21.41c.39.39.9.59 1.41.59.51 0 1.02-.2 1.41-.59l7.78-7.78 2.81-2.81c.8-.78.8-2.07 0-2.86zM5.41 20L4 18.59l7.72-7.72 1.47 1.35L5.41 20z\"/>\n",
              "  </svg>\n",
              "      </button>\n",
              "      \n",
              "  <style>\n",
              "    .colab-df-container {\n",
              "      display:flex;\n",
              "      flex-wrap:wrap;\n",
              "      gap: 12px;\n",
              "    }\n",
              "\n",
              "    .colab-df-convert {\n",
              "      background-color: #E8F0FE;\n",
              "      border: none;\n",
              "      border-radius: 50%;\n",
              "      cursor: pointer;\n",
              "      display: none;\n",
              "      fill: #1967D2;\n",
              "      height: 32px;\n",
              "      padding: 0 0 0 0;\n",
              "      width: 32px;\n",
              "    }\n",
              "\n",
              "    .colab-df-convert:hover {\n",
              "      background-color: #E2EBFA;\n",
              "      box-shadow: 0px 1px 2px rgba(60, 64, 67, 0.3), 0px 1px 3px 1px rgba(60, 64, 67, 0.15);\n",
              "      fill: #174EA6;\n",
              "    }\n",
              "\n",
              "    [theme=dark] .colab-df-convert {\n",
              "      background-color: #3B4455;\n",
              "      fill: #D2E3FC;\n",
              "    }\n",
              "\n",
              "    [theme=dark] .colab-df-convert:hover {\n",
              "      background-color: #434B5C;\n",
              "      box-shadow: 0px 1px 3px 1px rgba(0, 0, 0, 0.15);\n",
              "      filter: drop-shadow(0px 1px 2px rgba(0, 0, 0, 0.3));\n",
              "      fill: #FFFFFF;\n",
              "    }\n",
              "  </style>\n",
              "\n",
              "      <script>\n",
              "        const buttonEl =\n",
              "          document.querySelector('#df-001f417f-69cc-4b92-a5da-a72e6d954f08 button.colab-df-convert');\n",
              "        buttonEl.style.display =\n",
              "          google.colab.kernel.accessAllowed ? 'block' : 'none';\n",
              "\n",
              "        async function convertToInteractive(key) {\n",
              "          const element = document.querySelector('#df-001f417f-69cc-4b92-a5da-a72e6d954f08');\n",
              "          const dataTable =\n",
              "            await google.colab.kernel.invokeFunction('convertToInteractive',\n",
              "                                                     [key], {});\n",
              "          if (!dataTable) return;\n",
              "\n",
              "          const docLinkHtml = 'Like what you see? Visit the ' +\n",
              "            '<a target=\"_blank\" href=https://colab.research.google.com/notebooks/data_table.ipynb>data table notebook</a>'\n",
              "            + ' to learn more about interactive tables.';\n",
              "          element.innerHTML = '';\n",
              "          dataTable['output_type'] = 'display_data';\n",
              "          await google.colab.output.renderOutput(dataTable, element);\n",
              "          const docLink = document.createElement('div');\n",
              "          docLink.innerHTML = docLinkHtml;\n",
              "          element.appendChild(docLink);\n",
              "        }\n",
              "      </script>\n",
              "    </div>\n",
              "  </div>\n",
              "  "
            ]
          },
          "metadata": {},
          "execution_count": 88
        }
      ]
    },
    {
      "cell_type": "markdown",
      "source": [
        "* Random Forest"
      ],
      "metadata": {
        "id": "XPiwE6TXlWd5"
      }
    },
    {
      "cell_type": "code",
      "source": [
        "from sklearn.ensemble import RandomForestClassifier\n",
        "rfc = RandomForestClassifier(n_estimators=300)\n",
        "rfc.fit(X_train,y_train)\n",
        "print(classification_report(y_test, rfc.predict(X_test)))"
      ],
      "metadata": {
        "colab": {
          "base_uri": "https://localhost:8080/"
        },
        "outputId": "a96187c1-e8e8-4773-de9a-8e1e2b260ee5",
        "id": "4C00kahnrRru"
      },
      "execution_count": null,
      "outputs": [
        {
          "output_type": "stream",
          "name": "stdout",
          "text": [
            "              precision    recall  f1-score   support\n",
            "\n",
            "           ,       0.00      0.00      0.00         2\n",
            "           .       0.00      0.00      0.00         2\n",
            "         nan       0.75      1.00      0.86        40\n",
            "           α       0.30      0.75      0.43        32\n",
            "           β       0.00      0.00      0.00         4\n",
            "           γ       1.00      0.20      0.33         5\n",
            "           δ       0.00      0.00      0.00         9\n",
            "           ε       0.38      0.47      0.42        30\n",
            "           ζ       0.00      0.00      0.00         1\n",
            "           η       0.00      0.00      0.00         4\n",
            "           θ       0.00      0.00      0.00         7\n",
            "           ι       0.68      0.73      0.71        41\n",
            "           κ       1.00      0.13      0.24        15\n",
            "           λ       0.00      0.00      0.00         7\n",
            "           μ       1.00      0.18      0.31        11\n",
            "           ν       0.41      0.96      0.57        25\n",
            "           ξ       0.00      0.00      0.00         1\n",
            "           ο       0.55      0.79      0.65        38\n",
            "           π       0.00      0.00      0.00        16\n",
            "           ρ       0.50      0.06      0.11        17\n",
            "           σ       0.69      0.31      0.43        29\n",
            "           τ       0.52      0.65      0.58        23\n",
            "           υ       0.27      0.14      0.19        21\n",
            "           φ       0.00      0.00      0.00         1\n",
            "           χ       0.00      0.00      0.00         1\n",
            "           ω       1.00      0.12      0.22         8\n",
            "\n",
            "    accuracy                           0.50       390\n",
            "   macro avg       0.35      0.25      0.23       390\n",
            "weighted avg       0.50      0.50      0.44       390\n",
            "\n"
          ]
        },
        {
          "output_type": "stream",
          "name": "stderr",
          "text": [
            "/usr/local/lib/python3.7/dist-packages/sklearn/metrics/_classification.py:1318: UndefinedMetricWarning: Precision and F-score are ill-defined and being set to 0.0 in labels with no predicted samples. Use `zero_division` parameter to control this behavior.\n",
            "  _warn_prf(average, modifier, msg_start, len(result))\n",
            "/usr/local/lib/python3.7/dist-packages/sklearn/metrics/_classification.py:1318: UndefinedMetricWarning: Precision and F-score are ill-defined and being set to 0.0 in labels with no predicted samples. Use `zero_division` parameter to control this behavior.\n",
            "  _warn_prf(average, modifier, msg_start, len(result))\n",
            "/usr/local/lib/python3.7/dist-packages/sklearn/metrics/_classification.py:1318: UndefinedMetricWarning: Precision and F-score are ill-defined and being set to 0.0 in labels with no predicted samples. Use `zero_division` parameter to control this behavior.\n",
            "  _warn_prf(average, modifier, msg_start, len(result))\n"
          ]
        }
      ]
    },
    {
      "cell_type": "code",
      "source": [
        "predicted_rfc = rfc.predict(X_test)\n",
        "rcl = pd.DataFrame(y_test, columns=['y_test'])\n",
        "rcl['RFC_prediction']=predicted_rfc\n",
        "rcl"
      ],
      "metadata": {
        "colab": {
          "base_uri": "https://localhost:8080/",
          "height": 424
        },
        "outputId": "5616f962-0606-4640-c5d3-de60df3ffb57",
        "id": "GLxb0RORrafl"
      },
      "execution_count": null,
      "outputs": [
        {
          "output_type": "execute_result",
          "data": {
            "text/plain": [
              "    y_test RFC_prediction\n",
              "0        λ              α\n",
              "1        ο              ο\n",
              "2        τ              υ\n",
              "3        ρ              ν\n",
              "4        ι              ι\n",
              "..     ...            ...\n",
              "385      κ              υ\n",
              "386      α              ι\n",
              "387      θ              α\n",
              "388      ι              ι\n",
              "389      ε              ο\n",
              "\n",
              "[390 rows x 2 columns]"
            ],
            "text/html": [
              "\n",
              "  <div id=\"df-22efc347-e7ea-4733-9367-03c19eb54308\">\n",
              "    <div class=\"colab-df-container\">\n",
              "      <div>\n",
              "<style scoped>\n",
              "    .dataframe tbody tr th:only-of-type {\n",
              "        vertical-align: middle;\n",
              "    }\n",
              "\n",
              "    .dataframe tbody tr th {\n",
              "        vertical-align: top;\n",
              "    }\n",
              "\n",
              "    .dataframe thead th {\n",
              "        text-align: right;\n",
              "    }\n",
              "</style>\n",
              "<table border=\"1\" class=\"dataframe\">\n",
              "  <thead>\n",
              "    <tr style=\"text-align: right;\">\n",
              "      <th></th>\n",
              "      <th>y_test</th>\n",
              "      <th>RFC_prediction</th>\n",
              "    </tr>\n",
              "  </thead>\n",
              "  <tbody>\n",
              "    <tr>\n",
              "      <th>0</th>\n",
              "      <td>λ</td>\n",
              "      <td>α</td>\n",
              "    </tr>\n",
              "    <tr>\n",
              "      <th>1</th>\n",
              "      <td>ο</td>\n",
              "      <td>ο</td>\n",
              "    </tr>\n",
              "    <tr>\n",
              "      <th>2</th>\n",
              "      <td>τ</td>\n",
              "      <td>υ</td>\n",
              "    </tr>\n",
              "    <tr>\n",
              "      <th>3</th>\n",
              "      <td>ρ</td>\n",
              "      <td>ν</td>\n",
              "    </tr>\n",
              "    <tr>\n",
              "      <th>4</th>\n",
              "      <td>ι</td>\n",
              "      <td>ι</td>\n",
              "    </tr>\n",
              "    <tr>\n",
              "      <th>...</th>\n",
              "      <td>...</td>\n",
              "      <td>...</td>\n",
              "    </tr>\n",
              "    <tr>\n",
              "      <th>385</th>\n",
              "      <td>κ</td>\n",
              "      <td>υ</td>\n",
              "    </tr>\n",
              "    <tr>\n",
              "      <th>386</th>\n",
              "      <td>α</td>\n",
              "      <td>ι</td>\n",
              "    </tr>\n",
              "    <tr>\n",
              "      <th>387</th>\n",
              "      <td>θ</td>\n",
              "      <td>α</td>\n",
              "    </tr>\n",
              "    <tr>\n",
              "      <th>388</th>\n",
              "      <td>ι</td>\n",
              "      <td>ι</td>\n",
              "    </tr>\n",
              "    <tr>\n",
              "      <th>389</th>\n",
              "      <td>ε</td>\n",
              "      <td>ο</td>\n",
              "    </tr>\n",
              "  </tbody>\n",
              "</table>\n",
              "<p>390 rows × 2 columns</p>\n",
              "</div>\n",
              "      <button class=\"colab-df-convert\" onclick=\"convertToInteractive('df-22efc347-e7ea-4733-9367-03c19eb54308')\"\n",
              "              title=\"Convert this dataframe to an interactive table.\"\n",
              "              style=\"display:none;\">\n",
              "        \n",
              "  <svg xmlns=\"http://www.w3.org/2000/svg\" height=\"24px\"viewBox=\"0 0 24 24\"\n",
              "       width=\"24px\">\n",
              "    <path d=\"M0 0h24v24H0V0z\" fill=\"none\"/>\n",
              "    <path d=\"M18.56 5.44l.94 2.06.94-2.06 2.06-.94-2.06-.94-.94-2.06-.94 2.06-2.06.94zm-11 1L8.5 8.5l.94-2.06 2.06-.94-2.06-.94L8.5 2.5l-.94 2.06-2.06.94zm10 10l.94 2.06.94-2.06 2.06-.94-2.06-.94-.94-2.06-.94 2.06-2.06.94z\"/><path d=\"M17.41 7.96l-1.37-1.37c-.4-.4-.92-.59-1.43-.59-.52 0-1.04.2-1.43.59L10.3 9.45l-7.72 7.72c-.78.78-.78 2.05 0 2.83L4 21.41c.39.39.9.59 1.41.59.51 0 1.02-.2 1.41-.59l7.78-7.78 2.81-2.81c.8-.78.8-2.07 0-2.86zM5.41 20L4 18.59l7.72-7.72 1.47 1.35L5.41 20z\"/>\n",
              "  </svg>\n",
              "      </button>\n",
              "      \n",
              "  <style>\n",
              "    .colab-df-container {\n",
              "      display:flex;\n",
              "      flex-wrap:wrap;\n",
              "      gap: 12px;\n",
              "    }\n",
              "\n",
              "    .colab-df-convert {\n",
              "      background-color: #E8F0FE;\n",
              "      border: none;\n",
              "      border-radius: 50%;\n",
              "      cursor: pointer;\n",
              "      display: none;\n",
              "      fill: #1967D2;\n",
              "      height: 32px;\n",
              "      padding: 0 0 0 0;\n",
              "      width: 32px;\n",
              "    }\n",
              "\n",
              "    .colab-df-convert:hover {\n",
              "      background-color: #E2EBFA;\n",
              "      box-shadow: 0px 1px 2px rgba(60, 64, 67, 0.3), 0px 1px 3px 1px rgba(60, 64, 67, 0.15);\n",
              "      fill: #174EA6;\n",
              "    }\n",
              "\n",
              "    [theme=dark] .colab-df-convert {\n",
              "      background-color: #3B4455;\n",
              "      fill: #D2E3FC;\n",
              "    }\n",
              "\n",
              "    [theme=dark] .colab-df-convert:hover {\n",
              "      background-color: #434B5C;\n",
              "      box-shadow: 0px 1px 3px 1px rgba(0, 0, 0, 0.15);\n",
              "      filter: drop-shadow(0px 1px 2px rgba(0, 0, 0, 0.3));\n",
              "      fill: #FFFFFF;\n",
              "    }\n",
              "  </style>\n",
              "\n",
              "      <script>\n",
              "        const buttonEl =\n",
              "          document.querySelector('#df-22efc347-e7ea-4733-9367-03c19eb54308 button.colab-df-convert');\n",
              "        buttonEl.style.display =\n",
              "          google.colab.kernel.accessAllowed ? 'block' : 'none';\n",
              "\n",
              "        async function convertToInteractive(key) {\n",
              "          const element = document.querySelector('#df-22efc347-e7ea-4733-9367-03c19eb54308');\n",
              "          const dataTable =\n",
              "            await google.colab.kernel.invokeFunction('convertToInteractive',\n",
              "                                                     [key], {});\n",
              "          if (!dataTable) return;\n",
              "\n",
              "          const docLinkHtml = 'Like what you see? Visit the ' +\n",
              "            '<a target=\"_blank\" href=https://colab.research.google.com/notebooks/data_table.ipynb>data table notebook</a>'\n",
              "            + ' to learn more about interactive tables.';\n",
              "          element.innerHTML = '';\n",
              "          dataTable['output_type'] = 'display_data';\n",
              "          await google.colab.output.renderOutput(dataTable, element);\n",
              "          const docLink = document.createElement('div');\n",
              "          docLink.innerHTML = docLinkHtml;\n",
              "          element.appendChild(docLink);\n",
              "        }\n",
              "      </script>\n",
              "    </div>\n",
              "  </div>\n",
              "  "
            ]
          },
          "metadata": {},
          "execution_count": 92
        }
      ]
    },
    {
      "cell_type": "markdown",
      "source": [
        "### 10th century"
      ],
      "metadata": {
        "id": "tYIlB3HJkGic"
      }
    },
    {
      "cell_type": "code",
      "source": [
        "X_train = data.image_ready[data.century!= 10].to_list()\n",
        "y_train = data.character[data.century!= 10].to_list()\n",
        "X_test = data.image_ready[data.century== 10].to_list()\n",
        "y_test = data.character[data.century== 10].to_list()"
      ],
      "metadata": {
        "id": "1SSz08bck90v"
      },
      "execution_count": null,
      "outputs": []
    },
    {
      "cell_type": "markdown",
      "source": [
        "* Decision Tree Classifier"
      ],
      "metadata": {
        "id": "400hl3bFlbUO"
      }
    },
    {
      "cell_type": "code",
      "source": [
        "model.fit(X_train,y_train)\n",
        "predicted = model.predict(X_test)\n",
        "print(classification_report(y_test, model.predict(X_test)))"
      ],
      "metadata": {
        "colab": {
          "base_uri": "https://localhost:8080/"
        },
        "outputId": "69e9ee37-a74a-42a4-8587-7550f2cb8f6f",
        "id": "360YO-iBrBot"
      },
      "execution_count": null,
      "outputs": [
        {
          "output_type": "stream",
          "name": "stdout",
          "text": [
            "              precision    recall  f1-score   support\n",
            "\n",
            "           ,       0.00      0.00      0.00         0\n",
            "           .       0.00      0.00      0.00         5\n",
            "           ;       0.00      0.00      0.00         1\n",
            "         nan       0.50      1.00      0.67        48\n",
            "           Υ       0.00      0.00      0.00         0\n",
            "           α       0.33      0.22      0.26        32\n",
            "           β       0.00      0.00      0.00         1\n",
            "           γ       0.25      0.20      0.22         5\n",
            "           δ       0.09      0.12      0.11         8\n",
            "           ε       0.17      0.23      0.19        31\n",
            "           ζ       0.00      0.00      0.00         1\n",
            "           η       0.00      0.00      0.00        16\n",
            "           θ       0.00      0.00      0.00         4\n",
            "           ι       0.22      0.25      0.23        20\n",
            "           κ       0.07      0.13      0.09        15\n",
            "           λ       0.00      0.00      0.00         2\n",
            "           μ       0.67      0.29      0.40         7\n",
            "           ν       0.89      0.29      0.43        28\n",
            "           ξ       0.00      0.00      0.00         1\n",
            "           ο       0.27      0.11      0.15        38\n",
            "           π       0.00      0.00      0.00         9\n",
            "           ρ       0.17      0.22      0.19         9\n",
            "           σ       0.21      0.33      0.25        24\n",
            "           τ       0.69      0.23      0.34        40\n",
            "           υ       0.29      0.33      0.31        15\n",
            "           φ       0.00      0.00      0.00         4\n",
            "           χ       0.00      0.00      0.00         6\n",
            "           ω       0.00      0.00      0.00        12\n",
            "\n",
            "    accuracy                           0.29       382\n",
            "   macro avg       0.17      0.14      0.14       382\n",
            "weighted avg       0.33      0.29      0.26       382\n",
            "\n"
          ]
        },
        {
          "output_type": "stream",
          "name": "stderr",
          "text": [
            "/usr/local/lib/python3.7/dist-packages/sklearn/metrics/_classification.py:1318: UndefinedMetricWarning: Precision and F-score are ill-defined and being set to 0.0 in labels with no predicted samples. Use `zero_division` parameter to control this behavior.\n",
            "  _warn_prf(average, modifier, msg_start, len(result))\n",
            "/usr/local/lib/python3.7/dist-packages/sklearn/metrics/_classification.py:1318: UndefinedMetricWarning: Recall and F-score are ill-defined and being set to 0.0 in labels with no true samples. Use `zero_division` parameter to control this behavior.\n",
            "  _warn_prf(average, modifier, msg_start, len(result))\n",
            "/usr/local/lib/python3.7/dist-packages/sklearn/metrics/_classification.py:1318: UndefinedMetricWarning: Precision and F-score are ill-defined and being set to 0.0 in labels with no predicted samples. Use `zero_division` parameter to control this behavior.\n",
            "  _warn_prf(average, modifier, msg_start, len(result))\n",
            "/usr/local/lib/python3.7/dist-packages/sklearn/metrics/_classification.py:1318: UndefinedMetricWarning: Recall and F-score are ill-defined and being set to 0.0 in labels with no true samples. Use `zero_division` parameter to control this behavior.\n",
            "  _warn_prf(average, modifier, msg_start, len(result))\n",
            "/usr/local/lib/python3.7/dist-packages/sklearn/metrics/_classification.py:1318: UndefinedMetricWarning: Precision and F-score are ill-defined and being set to 0.0 in labels with no predicted samples. Use `zero_division` parameter to control this behavior.\n",
            "  _warn_prf(average, modifier, msg_start, len(result))\n",
            "/usr/local/lib/python3.7/dist-packages/sklearn/metrics/_classification.py:1318: UndefinedMetricWarning: Recall and F-score are ill-defined and being set to 0.0 in labels with no true samples. Use `zero_division` parameter to control this behavior.\n",
            "  _warn_prf(average, modifier, msg_start, len(result))\n"
          ]
        }
      ]
    },
    {
      "cell_type": "code",
      "source": [
        "dtc = pd.DataFrame(y_test, columns=['y_test'])\n",
        "dtc['DTC_prediction']=predicted\n",
        "dtc"
      ],
      "metadata": {
        "colab": {
          "base_uri": "https://localhost:8080/",
          "height": 424
        },
        "outputId": "11a3d44f-2678-4ff0-a03c-0732304b7785",
        "id": "8PLAUZbHrIeu"
      },
      "execution_count": null,
      "outputs": [
        {
          "output_type": "execute_result",
          "data": {
            "text/plain": [
              "    y_test DTC_prediction\n",
              "0        ε              ρ\n",
              "1        π              α\n",
              "2        ε              σ\n",
              "3        φ              π\n",
              "4        ε              δ\n",
              "..     ...            ...\n",
              "377      υ              θ\n",
              "378      ν              π\n",
              "379      α              δ\n",
              "380      τ              τ\n",
              "381      ο            nan\n",
              "\n",
              "[382 rows x 2 columns]"
            ],
            "text/html": [
              "\n",
              "  <div id=\"df-e48d4dec-05c5-4e16-a1c9-420a959e6fa7\">\n",
              "    <div class=\"colab-df-container\">\n",
              "      <div>\n",
              "<style scoped>\n",
              "    .dataframe tbody tr th:only-of-type {\n",
              "        vertical-align: middle;\n",
              "    }\n",
              "\n",
              "    .dataframe tbody tr th {\n",
              "        vertical-align: top;\n",
              "    }\n",
              "\n",
              "    .dataframe thead th {\n",
              "        text-align: right;\n",
              "    }\n",
              "</style>\n",
              "<table border=\"1\" class=\"dataframe\">\n",
              "  <thead>\n",
              "    <tr style=\"text-align: right;\">\n",
              "      <th></th>\n",
              "      <th>y_test</th>\n",
              "      <th>DTC_prediction</th>\n",
              "    </tr>\n",
              "  </thead>\n",
              "  <tbody>\n",
              "    <tr>\n",
              "      <th>0</th>\n",
              "      <td>ε</td>\n",
              "      <td>ρ</td>\n",
              "    </tr>\n",
              "    <tr>\n",
              "      <th>1</th>\n",
              "      <td>π</td>\n",
              "      <td>α</td>\n",
              "    </tr>\n",
              "    <tr>\n",
              "      <th>2</th>\n",
              "      <td>ε</td>\n",
              "      <td>σ</td>\n",
              "    </tr>\n",
              "    <tr>\n",
              "      <th>3</th>\n",
              "      <td>φ</td>\n",
              "      <td>π</td>\n",
              "    </tr>\n",
              "    <tr>\n",
              "      <th>4</th>\n",
              "      <td>ε</td>\n",
              "      <td>δ</td>\n",
              "    </tr>\n",
              "    <tr>\n",
              "      <th>...</th>\n",
              "      <td>...</td>\n",
              "      <td>...</td>\n",
              "    </tr>\n",
              "    <tr>\n",
              "      <th>377</th>\n",
              "      <td>υ</td>\n",
              "      <td>θ</td>\n",
              "    </tr>\n",
              "    <tr>\n",
              "      <th>378</th>\n",
              "      <td>ν</td>\n",
              "      <td>π</td>\n",
              "    </tr>\n",
              "    <tr>\n",
              "      <th>379</th>\n",
              "      <td>α</td>\n",
              "      <td>δ</td>\n",
              "    </tr>\n",
              "    <tr>\n",
              "      <th>380</th>\n",
              "      <td>τ</td>\n",
              "      <td>τ</td>\n",
              "    </tr>\n",
              "    <tr>\n",
              "      <th>381</th>\n",
              "      <td>ο</td>\n",
              "      <td>nan</td>\n",
              "    </tr>\n",
              "  </tbody>\n",
              "</table>\n",
              "<p>382 rows × 2 columns</p>\n",
              "</div>\n",
              "      <button class=\"colab-df-convert\" onclick=\"convertToInteractive('df-e48d4dec-05c5-4e16-a1c9-420a959e6fa7')\"\n",
              "              title=\"Convert this dataframe to an interactive table.\"\n",
              "              style=\"display:none;\">\n",
              "        \n",
              "  <svg xmlns=\"http://www.w3.org/2000/svg\" height=\"24px\"viewBox=\"0 0 24 24\"\n",
              "       width=\"24px\">\n",
              "    <path d=\"M0 0h24v24H0V0z\" fill=\"none\"/>\n",
              "    <path d=\"M18.56 5.44l.94 2.06.94-2.06 2.06-.94-2.06-.94-.94-2.06-.94 2.06-2.06.94zm-11 1L8.5 8.5l.94-2.06 2.06-.94-2.06-.94L8.5 2.5l-.94 2.06-2.06.94zm10 10l.94 2.06.94-2.06 2.06-.94-2.06-.94-.94-2.06-.94 2.06-2.06.94z\"/><path d=\"M17.41 7.96l-1.37-1.37c-.4-.4-.92-.59-1.43-.59-.52 0-1.04.2-1.43.59L10.3 9.45l-7.72 7.72c-.78.78-.78 2.05 0 2.83L4 21.41c.39.39.9.59 1.41.59.51 0 1.02-.2 1.41-.59l7.78-7.78 2.81-2.81c.8-.78.8-2.07 0-2.86zM5.41 20L4 18.59l7.72-7.72 1.47 1.35L5.41 20z\"/>\n",
              "  </svg>\n",
              "      </button>\n",
              "      \n",
              "  <style>\n",
              "    .colab-df-container {\n",
              "      display:flex;\n",
              "      flex-wrap:wrap;\n",
              "      gap: 12px;\n",
              "    }\n",
              "\n",
              "    .colab-df-convert {\n",
              "      background-color: #E8F0FE;\n",
              "      border: none;\n",
              "      border-radius: 50%;\n",
              "      cursor: pointer;\n",
              "      display: none;\n",
              "      fill: #1967D2;\n",
              "      height: 32px;\n",
              "      padding: 0 0 0 0;\n",
              "      width: 32px;\n",
              "    }\n",
              "\n",
              "    .colab-df-convert:hover {\n",
              "      background-color: #E2EBFA;\n",
              "      box-shadow: 0px 1px 2px rgba(60, 64, 67, 0.3), 0px 1px 3px 1px rgba(60, 64, 67, 0.15);\n",
              "      fill: #174EA6;\n",
              "    }\n",
              "\n",
              "    [theme=dark] .colab-df-convert {\n",
              "      background-color: #3B4455;\n",
              "      fill: #D2E3FC;\n",
              "    }\n",
              "\n",
              "    [theme=dark] .colab-df-convert:hover {\n",
              "      background-color: #434B5C;\n",
              "      box-shadow: 0px 1px 3px 1px rgba(0, 0, 0, 0.15);\n",
              "      filter: drop-shadow(0px 1px 2px rgba(0, 0, 0, 0.3));\n",
              "      fill: #FFFFFF;\n",
              "    }\n",
              "  </style>\n",
              "\n",
              "      <script>\n",
              "        const buttonEl =\n",
              "          document.querySelector('#df-e48d4dec-05c5-4e16-a1c9-420a959e6fa7 button.colab-df-convert');\n",
              "        buttonEl.style.display =\n",
              "          google.colab.kernel.accessAllowed ? 'block' : 'none';\n",
              "\n",
              "        async function convertToInteractive(key) {\n",
              "          const element = document.querySelector('#df-e48d4dec-05c5-4e16-a1c9-420a959e6fa7');\n",
              "          const dataTable =\n",
              "            await google.colab.kernel.invokeFunction('convertToInteractive',\n",
              "                                                     [key], {});\n",
              "          if (!dataTable) return;\n",
              "\n",
              "          const docLinkHtml = 'Like what you see? Visit the ' +\n",
              "            '<a target=\"_blank\" href=https://colab.research.google.com/notebooks/data_table.ipynb>data table notebook</a>'\n",
              "            + ' to learn more about interactive tables.';\n",
              "          element.innerHTML = '';\n",
              "          dataTable['output_type'] = 'display_data';\n",
              "          await google.colab.output.renderOutput(dataTable, element);\n",
              "          const docLink = document.createElement('div');\n",
              "          docLink.innerHTML = docLinkHtml;\n",
              "          element.appendChild(docLink);\n",
              "        }\n",
              "      </script>\n",
              "    </div>\n",
              "  </div>\n",
              "  "
            ]
          },
          "metadata": {},
          "execution_count": 95
        }
      ]
    },
    {
      "cell_type": "markdown",
      "source": [
        "* KNN"
      ],
      "metadata": {
        "id": "PY02A4HFlaJH"
      }
    },
    {
      "cell_type": "code",
      "source": [
        "from sklearn.neighbors import KNeighborsClassifier\n",
        "knn = KNeighborsClassifier(n_neighbors=3)\n",
        "knn.fit(X_train, y_train)\n",
        "print(classification_report(y_test, knn.predict(X_test)))"
      ],
      "metadata": {
        "colab": {
          "base_uri": "https://localhost:8080/"
        },
        "outputId": "0e686247-b37a-4906-ae01-86c61ccca296",
        "id": "8VAH6aGAqz3P"
      },
      "execution_count": null,
      "outputs": [
        {
          "output_type": "stream",
          "name": "stdout",
          "text": [
            "              precision    recall  f1-score   support\n",
            "\n",
            "           ,       0.00      0.00      0.00         0\n",
            "           .       0.00      0.00      0.00         5\n",
            "           ;       0.00      0.00      0.00         1\n",
            "         nan       0.24      1.00      0.38        48\n",
            "           α       0.35      0.28      0.31        32\n",
            "           β       0.00      0.00      0.00         1\n",
            "           γ       1.00      0.20      0.33         5\n",
            "           δ       0.00      0.00      0.00         8\n",
            "           ε       0.67      0.13      0.22        31\n",
            "           ζ       0.00      0.00      0.00         1\n",
            "           η       0.00      0.00      0.00        16\n",
            "           θ       0.00      0.00      0.00         4\n",
            "           ι       0.35      0.65      0.46        20\n",
            "           κ       0.33      0.07      0.11        15\n",
            "           λ       0.00      0.00      0.00         2\n",
            "           μ       0.00      0.00      0.00         7\n",
            "           ν       0.88      0.50      0.64        28\n",
            "           ξ       0.00      0.00      0.00         1\n",
            "           ο       0.47      0.37      0.41        38\n",
            "           π       0.00      0.00      0.00         9\n",
            "           ρ       1.00      0.22      0.36         9\n",
            "           σ       0.43      0.25      0.32        24\n",
            "           τ       0.67      0.10      0.17        40\n",
            "           υ       0.00      0.00      0.00        15\n",
            "           φ       0.00      0.00      0.00         4\n",
            "           χ       0.00      0.00      0.00         6\n",
            "           ω       1.00      0.08      0.15        12\n",
            "\n",
            "    accuracy                           0.31       382\n",
            "   macro avg       0.27      0.14      0.14       382\n",
            "weighted avg       0.42      0.31      0.26       382\n",
            "\n"
          ]
        },
        {
          "output_type": "stream",
          "name": "stderr",
          "text": [
            "/usr/local/lib/python3.7/dist-packages/sklearn/metrics/_classification.py:1318: UndefinedMetricWarning: Precision and F-score are ill-defined and being set to 0.0 in labels with no predicted samples. Use `zero_division` parameter to control this behavior.\n",
            "  _warn_prf(average, modifier, msg_start, len(result))\n",
            "/usr/local/lib/python3.7/dist-packages/sklearn/metrics/_classification.py:1318: UndefinedMetricWarning: Recall and F-score are ill-defined and being set to 0.0 in labels with no true samples. Use `zero_division` parameter to control this behavior.\n",
            "  _warn_prf(average, modifier, msg_start, len(result))\n",
            "/usr/local/lib/python3.7/dist-packages/sklearn/metrics/_classification.py:1318: UndefinedMetricWarning: Precision and F-score are ill-defined and being set to 0.0 in labels with no predicted samples. Use `zero_division` parameter to control this behavior.\n",
            "  _warn_prf(average, modifier, msg_start, len(result))\n",
            "/usr/local/lib/python3.7/dist-packages/sklearn/metrics/_classification.py:1318: UndefinedMetricWarning: Recall and F-score are ill-defined and being set to 0.0 in labels with no true samples. Use `zero_division` parameter to control this behavior.\n",
            "  _warn_prf(average, modifier, msg_start, len(result))\n",
            "/usr/local/lib/python3.7/dist-packages/sklearn/metrics/_classification.py:1318: UndefinedMetricWarning: Precision and F-score are ill-defined and being set to 0.0 in labels with no predicted samples. Use `zero_division` parameter to control this behavior.\n",
            "  _warn_prf(average, modifier, msg_start, len(result))\n",
            "/usr/local/lib/python3.7/dist-packages/sklearn/metrics/_classification.py:1318: UndefinedMetricWarning: Recall and F-score are ill-defined and being set to 0.0 in labels with no true samples. Use `zero_division` parameter to control this behavior.\n",
            "  _warn_prf(average, modifier, msg_start, len(result))\n"
          ]
        }
      ]
    },
    {
      "cell_type": "code",
      "source": [
        "predicted_knn = knn.predict(X_test)\n",
        "kcl = pd.DataFrame(y_test, columns=['y_test'])\n",
        "kcl['KNN_prediction']=predicted_knn\n",
        "kcl"
      ],
      "metadata": {
        "colab": {
          "base_uri": "https://localhost:8080/",
          "height": 424
        },
        "outputId": "6a9001e4-a236-42b6-ebd6-efea549260b4",
        "id": "JlP2eJ4Iq33d"
      },
      "execution_count": null,
      "outputs": [
        {
          "output_type": "execute_result",
          "data": {
            "text/plain": [
              "    y_test KNN_prediction\n",
              "0        ε              ι\n",
              "1        π              α\n",
              "2        ε              σ\n",
              "3        φ              α\n",
              "4        ε              ε\n",
              "..     ...            ...\n",
              "377      υ            nan\n",
              "378      ν              α\n",
              "379      α            nan\n",
              "380      τ            nan\n",
              "381      ο            nan\n",
              "\n",
              "[382 rows x 2 columns]"
            ],
            "text/html": [
              "\n",
              "  <div id=\"df-889dca79-6a4b-49c7-9016-5aee9888664a\">\n",
              "    <div class=\"colab-df-container\">\n",
              "      <div>\n",
              "<style scoped>\n",
              "    .dataframe tbody tr th:only-of-type {\n",
              "        vertical-align: middle;\n",
              "    }\n",
              "\n",
              "    .dataframe tbody tr th {\n",
              "        vertical-align: top;\n",
              "    }\n",
              "\n",
              "    .dataframe thead th {\n",
              "        text-align: right;\n",
              "    }\n",
              "</style>\n",
              "<table border=\"1\" class=\"dataframe\">\n",
              "  <thead>\n",
              "    <tr style=\"text-align: right;\">\n",
              "      <th></th>\n",
              "      <th>y_test</th>\n",
              "      <th>KNN_prediction</th>\n",
              "    </tr>\n",
              "  </thead>\n",
              "  <tbody>\n",
              "    <tr>\n",
              "      <th>0</th>\n",
              "      <td>ε</td>\n",
              "      <td>ι</td>\n",
              "    </tr>\n",
              "    <tr>\n",
              "      <th>1</th>\n",
              "      <td>π</td>\n",
              "      <td>α</td>\n",
              "    </tr>\n",
              "    <tr>\n",
              "      <th>2</th>\n",
              "      <td>ε</td>\n",
              "      <td>σ</td>\n",
              "    </tr>\n",
              "    <tr>\n",
              "      <th>3</th>\n",
              "      <td>φ</td>\n",
              "      <td>α</td>\n",
              "    </tr>\n",
              "    <tr>\n",
              "      <th>4</th>\n",
              "      <td>ε</td>\n",
              "      <td>ε</td>\n",
              "    </tr>\n",
              "    <tr>\n",
              "      <th>...</th>\n",
              "      <td>...</td>\n",
              "      <td>...</td>\n",
              "    </tr>\n",
              "    <tr>\n",
              "      <th>377</th>\n",
              "      <td>υ</td>\n",
              "      <td>nan</td>\n",
              "    </tr>\n",
              "    <tr>\n",
              "      <th>378</th>\n",
              "      <td>ν</td>\n",
              "      <td>α</td>\n",
              "    </tr>\n",
              "    <tr>\n",
              "      <th>379</th>\n",
              "      <td>α</td>\n",
              "      <td>nan</td>\n",
              "    </tr>\n",
              "    <tr>\n",
              "      <th>380</th>\n",
              "      <td>τ</td>\n",
              "      <td>nan</td>\n",
              "    </tr>\n",
              "    <tr>\n",
              "      <th>381</th>\n",
              "      <td>ο</td>\n",
              "      <td>nan</td>\n",
              "    </tr>\n",
              "  </tbody>\n",
              "</table>\n",
              "<p>382 rows × 2 columns</p>\n",
              "</div>\n",
              "      <button class=\"colab-df-convert\" onclick=\"convertToInteractive('df-889dca79-6a4b-49c7-9016-5aee9888664a')\"\n",
              "              title=\"Convert this dataframe to an interactive table.\"\n",
              "              style=\"display:none;\">\n",
              "        \n",
              "  <svg xmlns=\"http://www.w3.org/2000/svg\" height=\"24px\"viewBox=\"0 0 24 24\"\n",
              "       width=\"24px\">\n",
              "    <path d=\"M0 0h24v24H0V0z\" fill=\"none\"/>\n",
              "    <path d=\"M18.56 5.44l.94 2.06.94-2.06 2.06-.94-2.06-.94-.94-2.06-.94 2.06-2.06.94zm-11 1L8.5 8.5l.94-2.06 2.06-.94-2.06-.94L8.5 2.5l-.94 2.06-2.06.94zm10 10l.94 2.06.94-2.06 2.06-.94-2.06-.94-.94-2.06-.94 2.06-2.06.94z\"/><path d=\"M17.41 7.96l-1.37-1.37c-.4-.4-.92-.59-1.43-.59-.52 0-1.04.2-1.43.59L10.3 9.45l-7.72 7.72c-.78.78-.78 2.05 0 2.83L4 21.41c.39.39.9.59 1.41.59.51 0 1.02-.2 1.41-.59l7.78-7.78 2.81-2.81c.8-.78.8-2.07 0-2.86zM5.41 20L4 18.59l7.72-7.72 1.47 1.35L5.41 20z\"/>\n",
              "  </svg>\n",
              "      </button>\n",
              "      \n",
              "  <style>\n",
              "    .colab-df-container {\n",
              "      display:flex;\n",
              "      flex-wrap:wrap;\n",
              "      gap: 12px;\n",
              "    }\n",
              "\n",
              "    .colab-df-convert {\n",
              "      background-color: #E8F0FE;\n",
              "      border: none;\n",
              "      border-radius: 50%;\n",
              "      cursor: pointer;\n",
              "      display: none;\n",
              "      fill: #1967D2;\n",
              "      height: 32px;\n",
              "      padding: 0 0 0 0;\n",
              "      width: 32px;\n",
              "    }\n",
              "\n",
              "    .colab-df-convert:hover {\n",
              "      background-color: #E2EBFA;\n",
              "      box-shadow: 0px 1px 2px rgba(60, 64, 67, 0.3), 0px 1px 3px 1px rgba(60, 64, 67, 0.15);\n",
              "      fill: #174EA6;\n",
              "    }\n",
              "\n",
              "    [theme=dark] .colab-df-convert {\n",
              "      background-color: #3B4455;\n",
              "      fill: #D2E3FC;\n",
              "    }\n",
              "\n",
              "    [theme=dark] .colab-df-convert:hover {\n",
              "      background-color: #434B5C;\n",
              "      box-shadow: 0px 1px 3px 1px rgba(0, 0, 0, 0.15);\n",
              "      filter: drop-shadow(0px 1px 2px rgba(0, 0, 0, 0.3));\n",
              "      fill: #FFFFFF;\n",
              "    }\n",
              "  </style>\n",
              "\n",
              "      <script>\n",
              "        const buttonEl =\n",
              "          document.querySelector('#df-889dca79-6a4b-49c7-9016-5aee9888664a button.colab-df-convert');\n",
              "        buttonEl.style.display =\n",
              "          google.colab.kernel.accessAllowed ? 'block' : 'none';\n",
              "\n",
              "        async function convertToInteractive(key) {\n",
              "          const element = document.querySelector('#df-889dca79-6a4b-49c7-9016-5aee9888664a');\n",
              "          const dataTable =\n",
              "            await google.colab.kernel.invokeFunction('convertToInteractive',\n",
              "                                                     [key], {});\n",
              "          if (!dataTable) return;\n",
              "\n",
              "          const docLinkHtml = 'Like what you see? Visit the ' +\n",
              "            '<a target=\"_blank\" href=https://colab.research.google.com/notebooks/data_table.ipynb>data table notebook</a>'\n",
              "            + ' to learn more about interactive tables.';\n",
              "          element.innerHTML = '';\n",
              "          dataTable['output_type'] = 'display_data';\n",
              "          await google.colab.output.renderOutput(dataTable, element);\n",
              "          const docLink = document.createElement('div');\n",
              "          docLink.innerHTML = docLinkHtml;\n",
              "          element.appendChild(docLink);\n",
              "        }\n",
              "      </script>\n",
              "    </div>\n",
              "  </div>\n",
              "  "
            ]
          },
          "metadata": {},
          "execution_count": 97
        }
      ]
    },
    {
      "cell_type": "markdown",
      "source": [
        "* Random Forest"
      ],
      "metadata": {
        "id": "xdusw8qElXxV"
      }
    },
    {
      "cell_type": "code",
      "source": [
        "from sklearn.ensemble import RandomForestClassifier\n",
        "rfc = RandomForestClassifier(n_estimators=300)\n",
        "rfc.fit(X_train,y_train)\n",
        "print(classification_report(y_test, rfc.predict(X_test)))"
      ],
      "metadata": {
        "colab": {
          "base_uri": "https://localhost:8080/"
        },
        "outputId": "82090645-7514-4413-d365-725047c656ee",
        "id": "cYJd1ntIrT0j"
      },
      "execution_count": null,
      "outputs": [
        {
          "output_type": "stream",
          "name": "stdout",
          "text": [
            "              precision    recall  f1-score   support\n",
            "\n",
            "           .       0.00      0.00      0.00         5\n",
            "           ;       0.00      0.00      0.00         1\n",
            "         nan       0.30      1.00      0.46        48\n",
            "           α       0.63      0.38      0.47        32\n",
            "           β       0.00      0.00      0.00         1\n",
            "           γ       1.00      0.20      0.33         5\n",
            "           δ       0.00      0.00      0.00         8\n",
            "           ε       0.58      0.23      0.33        31\n",
            "           ζ       0.00      0.00      0.00         1\n",
            "           η       0.00      0.00      0.00        16\n",
            "           θ       0.00      0.00      0.00         4\n",
            "           ι       0.31      0.90      0.46        20\n",
            "           κ       0.00      0.00      0.00        15\n",
            "           λ       0.00      0.00      0.00         2\n",
            "           μ       1.00      0.14      0.25         7\n",
            "           ν       0.68      0.54      0.60        28\n",
            "           ξ       0.00      0.00      0.00         1\n",
            "           ο       0.35      0.45      0.40        38\n",
            "           π       0.50      0.11      0.18         9\n",
            "           ρ       0.80      0.44      0.57         9\n",
            "           σ       0.28      0.21      0.24        24\n",
            "           τ       0.58      0.35      0.44        40\n",
            "           υ       0.08      0.07      0.07        15\n",
            "           φ       0.00      0.00      0.00         4\n",
            "           χ       0.00      0.00      0.00         6\n",
            "           ω       0.00      0.00      0.00        12\n",
            "\n",
            "    accuracy                           0.38       382\n",
            "   macro avg       0.27      0.19      0.18       382\n",
            "weighted avg       0.38      0.38      0.32       382\n",
            "\n"
          ]
        },
        {
          "output_type": "stream",
          "name": "stderr",
          "text": [
            "/usr/local/lib/python3.7/dist-packages/sklearn/metrics/_classification.py:1318: UndefinedMetricWarning: Precision and F-score are ill-defined and being set to 0.0 in labels with no predicted samples. Use `zero_division` parameter to control this behavior.\n",
            "  _warn_prf(average, modifier, msg_start, len(result))\n",
            "/usr/local/lib/python3.7/dist-packages/sklearn/metrics/_classification.py:1318: UndefinedMetricWarning: Precision and F-score are ill-defined and being set to 0.0 in labels with no predicted samples. Use `zero_division` parameter to control this behavior.\n",
            "  _warn_prf(average, modifier, msg_start, len(result))\n",
            "/usr/local/lib/python3.7/dist-packages/sklearn/metrics/_classification.py:1318: UndefinedMetricWarning: Precision and F-score are ill-defined and being set to 0.0 in labels with no predicted samples. Use `zero_division` parameter to control this behavior.\n",
            "  _warn_prf(average, modifier, msg_start, len(result))\n"
          ]
        }
      ]
    },
    {
      "cell_type": "code",
      "source": [
        "predicted_rfc = rfc.predict(X_test)\n",
        "rcl = pd.DataFrame(y_test, columns=['y_test'])\n",
        "rcl['RFC_prediction']=predicted_rfc\n",
        "rcl"
      ],
      "metadata": {
        "colab": {
          "base_uri": "https://localhost:8080/",
          "height": 424
        },
        "outputId": "151efe9b-eea9-4f49-f8fe-a90cb5fe6d46",
        "id": "-1T-zbPArcVq"
      },
      "execution_count": null,
      "outputs": [
        {
          "output_type": "execute_result",
          "data": {
            "text/plain": [
              "    y_test RFC_prediction\n",
              "0        ε              ο\n",
              "1        π              π\n",
              "2        ε              σ\n",
              "3        φ              σ\n",
              "4        ε              ε\n",
              "..     ...            ...\n",
              "377      υ            nan\n",
              "378      ν              υ\n",
              "379      α              τ\n",
              "380      τ              τ\n",
              "381      ο            nan\n",
              "\n",
              "[382 rows x 2 columns]"
            ],
            "text/html": [
              "\n",
              "  <div id=\"df-594ec555-66a9-421b-94de-9009f1921075\">\n",
              "    <div class=\"colab-df-container\">\n",
              "      <div>\n",
              "<style scoped>\n",
              "    .dataframe tbody tr th:only-of-type {\n",
              "        vertical-align: middle;\n",
              "    }\n",
              "\n",
              "    .dataframe tbody tr th {\n",
              "        vertical-align: top;\n",
              "    }\n",
              "\n",
              "    .dataframe thead th {\n",
              "        text-align: right;\n",
              "    }\n",
              "</style>\n",
              "<table border=\"1\" class=\"dataframe\">\n",
              "  <thead>\n",
              "    <tr style=\"text-align: right;\">\n",
              "      <th></th>\n",
              "      <th>y_test</th>\n",
              "      <th>RFC_prediction</th>\n",
              "    </tr>\n",
              "  </thead>\n",
              "  <tbody>\n",
              "    <tr>\n",
              "      <th>0</th>\n",
              "      <td>ε</td>\n",
              "      <td>ο</td>\n",
              "    </tr>\n",
              "    <tr>\n",
              "      <th>1</th>\n",
              "      <td>π</td>\n",
              "      <td>π</td>\n",
              "    </tr>\n",
              "    <tr>\n",
              "      <th>2</th>\n",
              "      <td>ε</td>\n",
              "      <td>σ</td>\n",
              "    </tr>\n",
              "    <tr>\n",
              "      <th>3</th>\n",
              "      <td>φ</td>\n",
              "      <td>σ</td>\n",
              "    </tr>\n",
              "    <tr>\n",
              "      <th>4</th>\n",
              "      <td>ε</td>\n",
              "      <td>ε</td>\n",
              "    </tr>\n",
              "    <tr>\n",
              "      <th>...</th>\n",
              "      <td>...</td>\n",
              "      <td>...</td>\n",
              "    </tr>\n",
              "    <tr>\n",
              "      <th>377</th>\n",
              "      <td>υ</td>\n",
              "      <td>nan</td>\n",
              "    </tr>\n",
              "    <tr>\n",
              "      <th>378</th>\n",
              "      <td>ν</td>\n",
              "      <td>υ</td>\n",
              "    </tr>\n",
              "    <tr>\n",
              "      <th>379</th>\n",
              "      <td>α</td>\n",
              "      <td>τ</td>\n",
              "    </tr>\n",
              "    <tr>\n",
              "      <th>380</th>\n",
              "      <td>τ</td>\n",
              "      <td>τ</td>\n",
              "    </tr>\n",
              "    <tr>\n",
              "      <th>381</th>\n",
              "      <td>ο</td>\n",
              "      <td>nan</td>\n",
              "    </tr>\n",
              "  </tbody>\n",
              "</table>\n",
              "<p>382 rows × 2 columns</p>\n",
              "</div>\n",
              "      <button class=\"colab-df-convert\" onclick=\"convertToInteractive('df-594ec555-66a9-421b-94de-9009f1921075')\"\n",
              "              title=\"Convert this dataframe to an interactive table.\"\n",
              "              style=\"display:none;\">\n",
              "        \n",
              "  <svg xmlns=\"http://www.w3.org/2000/svg\" height=\"24px\"viewBox=\"0 0 24 24\"\n",
              "       width=\"24px\">\n",
              "    <path d=\"M0 0h24v24H0V0z\" fill=\"none\"/>\n",
              "    <path d=\"M18.56 5.44l.94 2.06.94-2.06 2.06-.94-2.06-.94-.94-2.06-.94 2.06-2.06.94zm-11 1L8.5 8.5l.94-2.06 2.06-.94-2.06-.94L8.5 2.5l-.94 2.06-2.06.94zm10 10l.94 2.06.94-2.06 2.06-.94-2.06-.94-.94-2.06-.94 2.06-2.06.94z\"/><path d=\"M17.41 7.96l-1.37-1.37c-.4-.4-.92-.59-1.43-.59-.52 0-1.04.2-1.43.59L10.3 9.45l-7.72 7.72c-.78.78-.78 2.05 0 2.83L4 21.41c.39.39.9.59 1.41.59.51 0 1.02-.2 1.41-.59l7.78-7.78 2.81-2.81c.8-.78.8-2.07 0-2.86zM5.41 20L4 18.59l7.72-7.72 1.47 1.35L5.41 20z\"/>\n",
              "  </svg>\n",
              "      </button>\n",
              "      \n",
              "  <style>\n",
              "    .colab-df-container {\n",
              "      display:flex;\n",
              "      flex-wrap:wrap;\n",
              "      gap: 12px;\n",
              "    }\n",
              "\n",
              "    .colab-df-convert {\n",
              "      background-color: #E8F0FE;\n",
              "      border: none;\n",
              "      border-radius: 50%;\n",
              "      cursor: pointer;\n",
              "      display: none;\n",
              "      fill: #1967D2;\n",
              "      height: 32px;\n",
              "      padding: 0 0 0 0;\n",
              "      width: 32px;\n",
              "    }\n",
              "\n",
              "    .colab-df-convert:hover {\n",
              "      background-color: #E2EBFA;\n",
              "      box-shadow: 0px 1px 2px rgba(60, 64, 67, 0.3), 0px 1px 3px 1px rgba(60, 64, 67, 0.15);\n",
              "      fill: #174EA6;\n",
              "    }\n",
              "\n",
              "    [theme=dark] .colab-df-convert {\n",
              "      background-color: #3B4455;\n",
              "      fill: #D2E3FC;\n",
              "    }\n",
              "\n",
              "    [theme=dark] .colab-df-convert:hover {\n",
              "      background-color: #434B5C;\n",
              "      box-shadow: 0px 1px 3px 1px rgba(0, 0, 0, 0.15);\n",
              "      filter: drop-shadow(0px 1px 2px rgba(0, 0, 0, 0.3));\n",
              "      fill: #FFFFFF;\n",
              "    }\n",
              "  </style>\n",
              "\n",
              "      <script>\n",
              "        const buttonEl =\n",
              "          document.querySelector('#df-594ec555-66a9-421b-94de-9009f1921075 button.colab-df-convert');\n",
              "        buttonEl.style.display =\n",
              "          google.colab.kernel.accessAllowed ? 'block' : 'none';\n",
              "\n",
              "        async function convertToInteractive(key) {\n",
              "          const element = document.querySelector('#df-594ec555-66a9-421b-94de-9009f1921075');\n",
              "          const dataTable =\n",
              "            await google.colab.kernel.invokeFunction('convertToInteractive',\n",
              "                                                     [key], {});\n",
              "          if (!dataTable) return;\n",
              "\n",
              "          const docLinkHtml = 'Like what you see? Visit the ' +\n",
              "            '<a target=\"_blank\" href=https://colab.research.google.com/notebooks/data_table.ipynb>data table notebook</a>'\n",
              "            + ' to learn more about interactive tables.';\n",
              "          element.innerHTML = '';\n",
              "          dataTable['output_type'] = 'display_data';\n",
              "          await google.colab.output.renderOutput(dataTable, element);\n",
              "          const docLink = document.createElement('div');\n",
              "          docLink.innerHTML = docLinkHtml;\n",
              "          element.appendChild(docLink);\n",
              "        }\n",
              "      </script>\n",
              "    </div>\n",
              "  </div>\n",
              "  "
            ]
          },
          "metadata": {},
          "execution_count": 101
        }
      ]
    },
    {
      "cell_type": "markdown",
      "source": [
        "### Conclusion"
      ],
      "metadata": {
        "id": "tifUVXtIrubl"
      }
    },
    {
      "cell_type": "markdown",
      "source": [
        "As in random folds, the classes that have much fewer instances compared to others, like 'β', 'ξ', 'ψ' have **0.00 score** in precision and recall. This amplifies the idea that the imbalance of the dataset makes the machine learning process less efficient."
      ],
      "metadata": {
        "id": "yTBibLEntVy-"
      }
    }
  ]
}